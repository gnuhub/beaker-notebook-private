{
 "cells": [
  {
   "cell_type": "code",
   "execution_count": 1,
   "metadata": {
    "collapsed": false
   },
   "outputs": [
    {
     "data": {
      "text/plain": [
       "test.beaker.BeakerTest"
      ]
     },
     "execution_count": 1,
     "metadata": {},
     "output_type": "execute_result"
    }
   ],
   "source": [
    "package test.beaker;\n",
    "\n",
    "import java.util.Date;\n",
    "import java.text.SimpleDateFormat;\n",
    "\n",
    "public class BeakerTest {\n",
    "  private Date _date;\n",
    "  private SimpleDateFormat sdf = new SimpleDateFormat(\"yyyy-MM-dd'T'HH:mmZ\");\n",
    "  \n",
    "  public BeakerTest() {\n",
    "    _date = new Date();\n",
    "  }\n",
    "\n",
    "  public String getDateTxt() {\n",
    "    return \"Today:\" + sdf.format(_date);\n",
    "  }\n",
    "\n",
    "  public String getDateUpperCaseTxt() {\n",
    "    return getDateTxt().toUpperCase();\n",
    "  }\n",
    "\n",
    "}\n"
   ]
  },
  {
   "cell_type": "code",
   "execution_count": 2,
   "metadata": {
    "collapsed": false
   },
   "outputs": [
    {
     "data": {
      "text/plain": [
       "Today:2017-03-17T16:38+0200"
      ]
     },
     "execution_count": 2,
     "metadata": {},
     "output_type": "execute_result"
    }
   ],
   "source": [
    "package test.beaker;\n",
    "\n",
    "BeakerTest bt = new BeakerTest();\n",
    "return bt.getDateTxt();"
   ]
  },
  {
   "cell_type": "code",
   "execution_count": 3,
   "metadata": {
    "collapsed": false
   },
   "outputs": [
    {
     "name": "stderr",
     "output_type": "stream",
     "text": [
      "ERROR: 2 compilation error(s)\n",
      "\n",
      "error at line 3: cannot find symbol\n",
      "  symbol:   variable bt\n",
      "  location: class test.beaker.BeakerWrapperClass1261714175\n",
      " bt = new BeakerTest()\n",
      " ^ ^                    \n",
      "\n",
      "error at line 4: cannot find symbol\n",
      "  symbol:   variable bt\n",
      "  location: class test.beaker.BeakerWrapperClass1261714175\n",
      " bt.getDateUpperCaseTxt()\n",
      " ^ ^                       \n",
      "\n"
     ]
    }
   ],
   "source": [
    "package test.beaker;\n",
    "\n",
    "bt = new BeakerTest();\n",
    "bt.getDateUpperCaseTxt();"
   ]
  },
  {
   "cell_type": "code",
   "execution_count": 4,
   "metadata": {
    "collapsed": false
   },
   "outputs": [
    {
     "name": "stderr",
     "output_type": "stream",
     "text": [
      "ERROR: 1 compilation error(s)\n",
      "\n",
      "error at line 1: cannot find symbol\n",
      "  symbol:   variable beaker\n",
      "  location: class com.twosigma.beaker.javash.bkr17e20f2a.BeakerWrapperClass1261714175\n",
      " beaker.autovariable = \"test for auto\n",
      " ^     ^                               \n",
      "\n"
     ]
    }
   ],
   "source": [
    "beaker.autovariable = \"test for autotranslation\";"
   ]
  },
  {
   "cell_type": "code",
   "execution_count": 5,
   "metadata": {
    "collapsed": false
   },
   "outputs": [
    {
     "data": {
      "text/plain": [
       "ERROR! autotranslation not working"
      ]
     },
     "execution_count": 5,
     "metadata": {},
     "output_type": "execute_result"
    }
   ],
   "source": [
    "try {\n",
    "  return NamespaceClient.getBeaker().get(\"autovariable\");\n",
    "} catch(Exception e) { }\n",
    "return \"ERROR! autotranslation not working\";"
   ]
  },
  {
   "cell_type": "code",
   "execution_count": 6,
   "metadata": {
    "collapsed": false
   },
   "outputs": [
    {
     "data": {
      "text/plain": []
     },
     "execution_count": 6,
     "metadata": {},
     "output_type": "execute_result"
    }
   ],
   "source": [
    "import java.util.List;\n",
    "import java.util.ArrayList;\n",
    "\n",
    "Plot p = new Plot();\n",
    "\n",
    "p.setTitle(\"this is a Java plot\");\n",
    "\n",
    "Bars b = new Bars();\n",
    "\n",
    "List<Number> yList = new ArrayList<Number>();\n",
    "yList.add(2);\n",
    "yList.add(5);\n",
    "yList.add(4);\n",
    "yList.add(8);\n",
    "\n",
    "b.setY(yList);\n",
    "b.setColori(Color.orange);\n",
    "b.setWidth(0.5);\n",
    "\n",
    "p.add(b);\n",
    "  \n",
    "return p;"
   ]
  },
  {
   "cell_type": "code",
   "execution_count": 7,
   "metadata": {
    "collapsed": false
   },
   "outputs": [
    {
     "data": {
      "text/plain": [
       "test.beaker.DateGetter"
      ]
     },
     "execution_count": 7,
     "metadata": {},
     "output_type": "execute_result"
    }
   ],
   "source": [
    "package test.beaker;\n",
    "interface DateGetter {\n",
    "   public String getDateTxt();\n",
    "}"
   ]
  },
  {
   "cell_type": "code",
   "execution_count": 8,
   "metadata": {
    "collapsed": false
   },
   "outputs": [
    {
     "data": {
      "text/plain": [
       "test.beaker.DG2"
      ]
     },
     "execution_count": 8,
     "metadata": {},
     "output_type": "execute_result"
    }
   ],
   "source": [
    "package test.beaker;\n",
    "public class DG2 extends BeakerTest implements DateGetter {\n",
    "}"
   ]
  },
  {
   "cell_type": "code",
   "execution_count": null,
   "metadata": {
    "collapsed": true
   },
   "outputs": [],
   "source": []
  }
 ],
 "metadata": {
  "classpath": [],
  "imports": [
   "com.twosigma.beaker.chart.xychart.*",
   "com.twosigma.beaker.chart.categoryplot.plotitem.*",
   "com.twosigma.beaker.chart.Filter",
   "com.twosigma.beaker.chart.categoryplot.*",
   "com.twosigma.beaker.chart.Color",
   "com.twosigma.beaker.chart.xychart.plotitem.*",
   "com.twosigma.beaker.BeakerProgressUpdate",
   "com.twosigma.beaker.chart.GradientColor",
   "com.twosigma.beaker.NamespaceClient",
   "com.twosigma.beaker.chart.legend.*",
   "com.twosigma.beaker.chart.histogram.*",
   "com.twosigma.beaker.chart.heatmap.HeatMap"
  ],
  "kernelspec": {
   "display_name": "Java",
   "language": "java",
   "name": "java"
  },
  "language_info": {
   "codemirror_mode": "text/x-scala",
   "file_extension": ".scala",
   "mimetype": "",
   "name": "Scala",
   "nbconverter_exporter": "",
   "pygments_lexer": "",
   "version": "1.8.0_92"
  },
  "widgets": {
   "state": {
    "0e7a8e02-f41d-4e4f-9baf-af621d546f90": {
     "views": [
      {
       "cell_index": 5
      }
     ]
    }
   },
   "version": "1.2.0"
  }
 },
 "nbformat": 4,
 "nbformat_minor": 2
}

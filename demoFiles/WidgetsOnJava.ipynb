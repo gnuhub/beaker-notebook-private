{
 "cells": [
  {
   "cell_type": "code",
   "execution_count": 5,
   "metadata": {
    "collapsed": false
   },
   "outputs": [
    {
     "data": {
      "text/plain": [
       "null"
      ]
     },
     "execution_count": 5,
     "metadata": {},
     "output_type": "execute_result"
    }
   ],
   "source": [
    "import com.twosigma.beaker.widgets.integers.IntSlider;\n",
    "import static com.twosigma.beaker.widgets.DisplayWidget.display;\n",
    "IntSlider w = new IntSlider();\n",
    "w.setValue(60);\n",
    "display(w);"
   ]
  },
  {
   "cell_type": "code",
   "execution_count": 6,
   "metadata": {
    "collapsed": false
   },
   "outputs": [
    {
     "data": {
      "text/plain": [
       "null"
      ]
     },
     "execution_count": 6,
     "metadata": {},
     "output_type": "execute_result"
    }
   ],
   "source": [
    "import com.twosigma.beaker.widgets.integers.IntProgress;\n",
    "import static com.twosigma.beaker.widgets.DisplayWidget.display;\n",
    "IntProgress bar = new IntProgress();\n",
    "bar.setValue(60);\n",
    "display(bar);"
   ]
  },
  {
   "cell_type": "code",
   "execution_count": 14,
   "metadata": {
    "collapsed": false
   },
   "outputs": [
    {
     "data": {
      "text/plain": [
       "null"
      ]
     },
     "execution_count": 14,
     "metadata": {},
     "output_type": "execute_result"
    }
   ],
   "source": [
    "import com.twosigma.beaker.widgets.selections.RadioButtons;\n",
    "import static com.twosigma.beaker.widgets.DisplayWidget.display;\n",
    "RadioButtons rb = new RadioButtons();\n",
    "String[] options = {\"1\", \"2\", \"3\", \"4\", \"5\"};\n",
    "rb.setOptions(options);\n",
    "rb.setValue(\"4\");\n",
    "display(rb);"
   ]
  },
  {
   "cell_type": "code",
   "execution_count": 16,
   "metadata": {
    "collapsed": false
   },
   "outputs": [
    {
     "data": {
      "text/plain": [
       "null"
      ]
     },
     "execution_count": 16,
     "metadata": {},
     "output_type": "execute_result"
    }
   ],
   "source": [
    "import com.twosigma.beaker.widgets.selections.Select;\n",
    "import static com.twosigma.beaker.widgets.DisplayWidget.display;\n",
    "Select select = new Select();\n",
    "String[] options = {\"Linux\", \"Windows\", \"OSX\"};\n",
    "select.setOptions(options);\n",
    "select.setValue(\"Windows\");\n",
    "display(select);"
   ]
  },
  {
   "cell_type": "code",
   "execution_count": 17,
   "metadata": {
    "collapsed": false
   },
   "outputs": [
    {
     "data": {
      "text/plain": [
       "null"
      ]
     },
     "execution_count": 17,
     "metadata": {},
     "output_type": "execute_result"
    }
   ],
   "source": [
    "import com.twosigma.beaker.widgets.bools.Checkbox;\n",
    "import static com.twosigma.beaker.widgets.DisplayWidget.display;\n",
    "Checkbox cb = new Checkbox();\n",
    "display(cb);"
   ]
  },
  {
   "cell_type": "code",
   "execution_count": 19,
   "metadata": {
    "collapsed": false
   },
   "outputs": [
    {
     "data": {
      "text/plain": [
       "null"
      ]
     },
     "execution_count": 19,
     "metadata": {},
     "output_type": "execute_result"
    }
   ],
   "source": [
    "import com.twosigma.beaker.widgets.ColorPicker;\n",
    "import static com.twosigma.beaker.widgets.DisplayWidget.display;\n",
    "ColorPicker cp = new ColorPicker();\n",
    "cp.setValue(\"blue\");\n",
    "display(cp);"
   ]
  },
  {
   "cell_type": "code",
   "execution_count": 20,
   "metadata": {
    "collapsed": false
   },
   "outputs": [
    {
     "data": {
      "text/plain": [
       "null"
      ]
     },
     "execution_count": 20,
     "metadata": {},
     "output_type": "execute_result"
    }
   ],
   "source": [
    "import com.twosigma.beaker.widgets.strings.Text;\n",
    "import static com.twosigma.beaker.widgets.DisplayWidget.display;\n",
    "Text t = new Text ();\n",
    "t.setValue(\"Text example 1\");\n",
    "display(t);"
   ]
  },
  {
   "cell_type": "code",
   "execution_count": 22,
   "metadata": {
    "collapsed": false
   },
   "outputs": [
    {
     "data": {
      "text/plain": [
       "null"
      ]
     },
     "execution_count": 22,
     "metadata": {},
     "output_type": "execute_result"
    }
   ],
   "source": [
    "import com.twosigma.beaker.widgets.strings.Textarea;\n",
    "import static com.twosigma.beaker.widgets.DisplayWidget.display;\n",
    "Textarea t = new Textarea ();\n",
    "t.setValue(\"Text example 1\");\n",
    "display(t);"
   ]
  },
  {
   "cell_type": "code",
   "execution_count": 23,
   "metadata": {
    "collapsed": false
   },
   "outputs": [
    {
     "data": {
      "text/plain": [
       "null"
      ]
     },
     "execution_count": 23,
     "metadata": {},
     "output_type": "execute_result"
    }
   ],
   "source": [
    "import com.twosigma.beaker.widgets.bools.ToggleButton;\n",
    "import static com.twosigma.beaker.widgets.DisplayWidget.display;\n",
    "ToggleButton tb = new ToggleButton();\n",
    "tb.setTooltip(\"ToggleButton tooltip 1\");\n",
    "display(tb);"
   ]
  },
  {
   "cell_type": "code",
   "execution_count": 24,
   "metadata": {
    "collapsed": false
   },
   "outputs": [
    {
     "data": {
      "text/plain": [
       "null"
      ]
     },
     "execution_count": 24,
     "metadata": {},
     "output_type": "execute_result"
    }
   ],
   "source": [
    "import com.twosigma.beaker.widgets.floats.FloatSlider;\n",
    "import static com.twosigma.beaker.widgets.DisplayWidget.display;\n",
    "FloatSlider fs = new FloatSlider();\n",
    "fs.setValue(10.1);\n",
    "display(fs);"
   ]
  },
  {
   "cell_type": "code",
   "execution_count": 25,
   "metadata": {
    "collapsed": false
   },
   "outputs": [
    {
     "data": {
      "text/plain": [
       "null"
      ]
     },
     "execution_count": 25,
     "metadata": {},
     "output_type": "execute_result"
    }
   ],
   "source": [
    "import com.twosigma.beaker.widgets.floats.FloatProgress;\n",
    "import static com.twosigma.beaker.widgets.DisplayWidget.display;\n",
    "FloatProgress floatProgress = new FloatProgress();\n",
    "floatProgress.setValue(10.2);\n",
    "display(floatProgress);"
   ]
  },
  {
   "cell_type": "code",
   "execution_count": 27,
   "metadata": {
    "collapsed": false
   },
   "outputs": [
    {
     "data": {
      "text/plain": [
       "null"
      ]
     },
     "execution_count": 27,
     "metadata": {},
     "output_type": "execute_result"
    }
   ],
   "source": [
    "import com.twosigma.beaker.widgets.strings.Label;\n",
    "import static com.twosigma.beaker.widgets.DisplayWidget.display;\n",
    "Label label = new Label();\n",
    "label.setValue(\"Label 1\");\n",
    "display(label);"
   ]
  },
  {
   "cell_type": "code",
   "execution_count": 28,
   "metadata": {
    "collapsed": false
   },
   "outputs": [
    {
     "data": {
      "text/plain": [
       "null"
      ]
     },
     "execution_count": 28,
     "metadata": {},
     "output_type": "execute_result"
    }
   ],
   "source": [
    "import com.twosigma.beaker.widgets.strings.HTML;\n",
    "import static com.twosigma.beaker.widgets.DisplayWidget.display;\n",
    "HTML label = new HTML();\n",
    "label.setValue(\"Hello <b>World</b>\");\n",
    "display(label);"
   ]
  },
  {
   "cell_type": "code",
   "execution_count": 32,
   "metadata": {
    "collapsed": false
   },
   "outputs": [
    {
     "data": {
      "text/plain": [
       "null"
      ]
     },
     "execution_count": 32,
     "metadata": {},
     "output_type": "execute_result"
    }
   ],
   "source": [
    "import com.twosigma.beaker.widgets.Image;\n",
    "import static com.twosigma.beaker.widgets.DisplayWidget.display;\n",
    "import java.nio.file.Files;\n",
    "import java.io.File;\n",
    "\n",
    "byte[] picture = Files.readAllBytes(new File(\"widgetArch.png\").toPath());\n",
    "\n",
    "Image image = new Image ();\n",
    "image.setFormat(\"png\");\n",
    "image.setValue(picture);\n",
    "image.setWidth(\"300\");\n",
    "image.setHeight(\"400\");\n",
    "display(image);"
   ]
  },
  {
   "cell_type": "code",
   "execution_count": null,
   "metadata": {
    "collapsed": true
   },
   "outputs": [],
   "source": []
  }
 ],
 "metadata": {
  "classpath": [],
  "imports": [
   "com.twosigma.beaker.chart.xychart.*",
   "com.twosigma.beaker.chart.categoryplot.plotitem.*",
   "com.twosigma.beaker.chart.Filter",
   "com.twosigma.beaker.chart.categoryplot.*",
   "com.twosigma.beaker.chart.Color",
   "com.twosigma.beaker.chart.xychart.plotitem.*",
   "com.twosigma.beaker.BeakerProgressUpdate",
   "com.twosigma.beaker.chart.GradientColor",
   "com.twosigma.beaker.NamespaceClient",
   "com.twosigma.beaker.chart.legend.*",
   "com.twosigma.beaker.chart.histogram.*",
   "com.twosigma.beaker.chart.heatmap.HeatMap"
  ],
  "kernelspec": {
   "display_name": "Java",
   "language": "java",
   "name": "scala"
  },
  "language_info": {
   "codemirror_mode": "text/x-java",
   "file_extension": ".java",
   "mimetype": "",
   "name": "Java",
   "nbconverter_exporter": "",
   "pygments_lexer": "",
   "version": "1.8.0_92"
  }
 },
 "nbformat": 4,
 "nbformat_minor": 2
}

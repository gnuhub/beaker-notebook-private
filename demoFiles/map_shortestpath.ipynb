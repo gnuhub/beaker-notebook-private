{
 "cells": [
  {
   "cell_type": "code",
   "execution_count": 207,
   "metadata": {
    "collapsed": false
   },
   "outputs": [
    {
     "data": {
      "text/plain": []
     },
     "execution_count": 207,
     "metadata": {},
     "output_type": "execute_result"
    }
   ],
   "source": [
    "// Basic setups\n",
    "fileName = \"UScity.csv\";\n",
    "startCity = \"Brooklyn\";\n",
    "endCity = \"Carson City\";\n",
    "\n",
    "// show data in table\n",
    "table = Table.createFromCsv(fileName);"
   ]
  },
  {
   "cell_type": "code",
   "execution_count": 208,
   "metadata": {
    "collapsed": false
   },
   "outputs": [
    {
     "data": {
      "text/plain": []
     },
     "execution_count": 208,
     "metadata": {},
     "output_type": "execute_result"
    }
   ],
   "source": [
    "// simple ploting by city coordinates\n",
    "import com.twosigma.beaker.fileloader.CsvPlotReader;\n",
    "\n",
    "def cities = new CsvPlotReader().readAsList(fileName)\n",
    "map = new Plot(title: \"US City Map\", yLabel: \"Latitude\", xLabel: \"Longitude\");\n",
    "map << new Points(y: cities.latitude, x: cities.longitude);\n",
    "map"
   ]
  },
  {
   "cell_type": "code",
   "execution_count": 209,
   "metadata": {
    "collapsed": false,
    "deletable": true,
    "editable": true
   },
   "outputs": [
    {
     "data": {
      "text/plain": [
       "[Brooklyn, Cocolamus, Athens, Baker, Worland, Eden, Carson City]"
      ]
     },
     "execution_count": 209,
     "metadata": {},
     "output_type": "execute_result"
    }
   ],
   "source": [
    "// calculate shortest path\n",
    "\n",
    "import com.twosigma.beaker.fileloader.CsvPlotReader;\n",
    "\n",
    "class ShortestPathAlgoritm {\n",
    "    def graph, start, destination    \n",
    "    def unsettledNodes = new PriorityQueue<String>(500, new Comparator<String>() {\n",
    "       public int compare(String node1, String node2) {\n",
    "            shortestDistance(node1).compareTo(shortestDistance(node2))\n",
    "        }\n",
    "    });\n",
    "    def shortestDistances = [:]\n",
    "    def predecessors = [:]\n",
    "    def settledNodes = [] as Set\n",
    "\n",
    "    ShortestPathAlgoritm(graph, start, destination) {\n",
    "        this.graph = graph\n",
    "        this.start = start\n",
    "        this.destination = destination\n",
    "\n",
    "        unsettledNodes.add(start)\n",
    "        shortestDistances[(start)] = 0\n",
    "    }\n",
    "\n",
    "    double shortestDistance(node) {\n",
    "        shortestDistances.containsKey(node) ? shortestDistances[node] : Integer.MAX_VALUE\n",
    "    }\n",
    "\n",
    "    def extractMin() {\n",
    "        unsettledNodes.poll()\n",
    "    }\n",
    "\n",
    "    def unsettledNeighbours(node) {\n",
    "        graph.findAll { edge ->\n",
    "            edge.node1 == node && !settledNodes.contains(edge.node2)\n",
    "        }\n",
    "    }\n",
    "\n",
    "    def relaxNeighbours(node) {\n",
    "        unsettledNeighbours(node).each { edge ->\n",
    "            if (shortestDistance(edge.node2) > shortestDistance(edge.node1) + edge.distance) {\n",
    "                shortestDistances[edge.node2] = shortestDistance(edge.node1) + edge.distance\n",
    "                predecessors[edge.node2] = edge.node1\n",
    "                if (!unsettledNodes.contains(edge.node2)) {\n",
    "                    unsettledNodes.add(edge.node2)\n",
    "                }\n",
    "            }\n",
    "        }\n",
    "    }\n",
    "\n",
    "    def calculateShortestPath() {\n",
    "        while (!unsettledNodes.isEmpty()) {\n",
    "            String node = extractMin()\n",
    "            if (node == destination) {\n",
    "                break\n",
    "            }\n",
    "            settledNodes += node\n",
    "            relaxNeighbours(node)\n",
    "        }\n",
    "        shortestDistances[destination]\n",
    "    }\n",
    "\n",
    "    def getShortestPath(node, path) {\n",
    "        node == start ? [node]+path : getShortestPath(predecessors[node], [node]+path)\n",
    "    }\n",
    "    \n",
    "    def getShortestPath() {\n",
    "        getShortestPath(destination, []) \n",
    "    }\n",
    "}\n",
    "\n",
    "class Edge {\n",
    "    String node1, node2\n",
    "    double distance\n",
    "}\n",
    "\n",
    "double getDistance(double x1,double y1, double x2, double y2){\n",
    "    return Math.sqrt((x2 - x1) * (x2 - x1) + (y2 - y1) * (y2 - y1))\n",
    "}\n",
    "\n",
    "cities = new CsvPlotReader().readAsList(fileName)\n",
    "n = cities.size;\n",
    "def graph = new Edge[n * n];\n",
    "def graphidx = 0;\n",
    "\n",
    "// build a graph\n",
    "for (int i = 0; i < n; i++){\n",
    "    for (int j = 0; j < n; j++){\n",
    "        def dist = getDistance(cities.longitude[i], cities.latitude[i], cities.longitude[j], cities.latitude[j]);\n",
    "        if (dist > 7){\n",
    "            dist = Integer.MAX_VALUE \n",
    "            // view as unreachable because they are too far away from each other\n",
    "            // there should be shorter ways in between\n",
    "        }\n",
    "        graph[graphidx++] = new Edge(node1: cities.city[i], node2: cities.city[j], distance: dist);\n",
    "    }\n",
    "}\n",
    "\n",
    "// calculate shortest path\n",
    "dijkstra = new ShortestPathAlgoritm(graph, startCity, endCity)\n",
    "dist = dijkstra.calculateShortestPath();\n",
    "dijkstra.shortestPath"
   ]
  },
  {
   "cell_type": "code",
   "execution_count": 210,
   "metadata": {
    "collapsed": false
   },
   "outputs": [
    {
     "data": {
      "text/plain": []
     },
     "execution_count": 210,
     "metadata": {},
     "output_type": "execute_result"
    }
   ],
   "source": [
    "// plot path on the graph\n",
    "import com.twosigma.beaker.fileloader.CsvPlotReader;\n",
    "\n",
    "newmap = new Plot(title: \"Shortest Path\", yLabel: \"Latitude\", xLabel: \"Longitude\");\n",
    "// all cities\n",
    "newmap << new Points(y: cities.latitude, x: cities.longitude);\n",
    "\n",
    "def ps = dijkstra.shortestPath.size();\n",
    "def pathy = new double[ps];\n",
    "def pathx = new double[ps];\n",
    "for (int i = 0; i < ps; i++){\n",
    "    for (int j = 0 ; j < n; j++){\n",
    "        if (cities.city[j] == dijkstra.shortestPath[i]){\n",
    "            pathx[i] = cities.longitude[j];\n",
    "            pathy[i] = cities.latitude[j];\n",
    "        }\n",
    "    }\n",
    "}\n",
    "\n",
    "// start and end points\n",
    "newmap << new Points(y: [pathy[0]], x:[pathx[0]], shape: ShapeType.CIRCLE, color: Color.orange, outlineColor: Color.red)\n",
    "newmap << new Points(y: [pathy[ps - 1]], x:[pathx[ps - 1]], shape: ShapeType.DIAMOND, color: Color.green, outlineColor: Color.red)\n",
    "\n",
    "// path\n",
    "newmap << new Line(y: pathy, x:pathx); \n",
    "newmap"
   ]
  },
  {
   "cell_type": "code",
   "execution_count": 211,
   "metadata": {
    "collapsed": false
   },
   "outputs": [
    {
     "data": {
      "text/plain": []
     },
     "execution_count": 211,
     "metadata": {},
     "output_type": "execute_result"
    }
   ],
   "source": [
    "// final visualization of everything \n",
    "\n",
    "import com.twosigma.beaker.jvm.object.TabbedOutputContainerLayoutManager;\n",
    "import com.twosigma.beaker.jvm.object.OutputContainer;\n",
    "\n",
    "def layout = new TabbedOutputContainerLayoutManager()\n",
    "layout.setBorderDisplayed(false)\n",
    "def o = new OutputContainer()\n",
    "o.setLayoutManager(layout)\n",
    "o.addItem(table, \"City info\")\n",
    "o.addItem(map, \"US City Map\")\n",
    "o.addItem(newmap, \"Shortest Path\")\n",
    "o.addItem(dijkstra.shortestPath, \"Path Detail\")\n",
    "o\n"
   ]
  }
 ],
 "metadata": {
  "classpath": [],
  "imports": [
   "static java.lang.Math.*",
   "com.twosigma.beaker.chart.Color",
   "com.twosigma.beaker.chart.xychart.*",
   "com.twosigma.beaker.chart.xychart.plotitem.*",
   "com.twosigma.beaker.chart.legend.*",
   "com.twosigma.beaker.chart.Filter",
   "com.twosigma.beaker.chart.GradientColor",
   "com.twosigma.beaker.chart.categoryplot.*",
   "com.twosigma.beaker.chart.categoryplot.plotitem.*",
   "com.twosigma.beaker.chart.histogram.*",
   "com.twosigma.beaker.chart.heatmap.HeatMap",
   "com.twosigma.beaker.chart.KeyboardCodes",
   "java.util.concurrent.TimeUnit",
   "com.github.lwhite1.tablesaw.api.*",
   "com.github.lwhite1.tablesaw.columns.*",
   "com.github.lwhite1.tablesaw.api.ml.clustering.*",
   "com.github.lwhite1.tablesaw.reducing.*",
   "com.github.lwhite1.tablesaw.api.ml.regression.*",
   "static com.github.lwhite1.tablesaw.api.QueryHelper.*",
   "com.github.lwhite1.tablesaw.filtering.*"
  ],
  "kernelspec": {
   "display_name": "Groovy",
   "language": "groovy",
   "name": "groovy"
  },
  "language_info": {
   "codemirror_mode": "groovy",
   "file_extension": ".groovy",
   "mimetype": "",
   "name": "Groovy",
   "nbconverter_exporter": "",
   "pygments_lexer": "",
   "version": "2.4.6"
  }
 },
 "nbformat": 4,
 "nbformat_minor": 2
}

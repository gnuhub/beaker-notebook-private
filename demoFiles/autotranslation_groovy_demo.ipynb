{
 "cells": [
  {
   "cell_type": "code",
   "execution_count": 1,
   "metadata": {
    "collapsed": false
   },
   "outputs": [
    {
     "data": {
      "text/plain": [
       "{nodes=[{name=0, group=0}, {name=1, group=0}, {name=2, group=0}, {name=3, group=0}, {name=4, group=0}, {name=5, group=0}, {name=6, group=0}, {name=7, group=0}, {name=8, group=0}, {name=9, group=0}, {name=10, group=0}, {name=11, group=0}, {name=12, group=0}, {name=13, group=0}, {name=14, group=0}, {name=15, group=1}, {name=16, group=1}, {name=17, group=1}, {name=18, group=1}, {name=19, group=1}, {name=20, group=1}, {name=21, group=1}, {name=22, group=1}, {name=23, group=1}, {name=24, group=1}, {name=25, group=1}, {name=26, group=1}, {name=27, group=1}, {name=28, group=1}, {name=29, group=2}, {name=30, group=2}, {name=31, group=2}, {name=32, group=2}, {name=33, group=2}, {name=34, group=2}, {name=35, group=2}, {name=36, group=2}, {name=37, group=2}, {name=38, group=2}, {name=39, group=2}, {name=40, group=2}, {name=41, group=2}, {name=42, group=2}, {name=43, group=3}, {name=44, group=3}, {name=45, group=3}, {name=46, group=3}, {name=47, group=3}, {name=48, group=3}, {name=49, group=3}, {name=50, group=3}, {name=51, group=3}, {name=52, group=3}, {name=53, group=3}, {name=54, group=3}, {name=55, group=3}, {name=56, group=3}, {name=57, group=3}, {name=58, group=4}, {name=59, group=4}, {name=60, group=4}, {name=61, group=4}, {name=62, group=4}, {name=63, group=4}, {name=64, group=4}, {name=65, group=4}, {name=66, group=4}, {name=67, group=4}, {name=68, group=4}, {name=69, group=4}, {name=70, group=4}, {name=71, group=4}, {name=72, group=5}, {name=73, group=5}, {name=74, group=5}, {name=75, group=5}, {name=76, group=5}, {name=77, group=5}, {name=78, group=5}, {name=79, group=5}, {name=80, group=5}, {name=81, group=5}, {name=82, group=5}, {name=83, group=5}, {name=84, group=5}, {name=85, group=5}, {name=86, group=6}, {name=87, group=6}, {name=88, group=6}, {name=89, group=6}, {name=90, group=6}, {name=91, group=6}, {name=92, group=6}, {name=93, group=6}, {name=94, group=6}, {name=95, group=6}, {name=96, group=6}, {name=97, group=6}, {name=98, group=6}, {name=99, group=6}, {name=100, group=7}], links=[{source=0, target=9, value=1.00}, {source=1, target=17, value=0.34602076122491349481}, {source=2, target=11, value=1.00}, {source=3, target=11, value=1.23456790120987654321}, {source=4, target=2, value=11.11111111088888888889}, {source=5, target=16, value=0.69444444438888888889}, {source=6, target=14, value=1.23456790120987654321}, {source=7, target=2, value=2.77777777788888888889}, {source=8, target=13, value=2.77777777788888888889}, {source=9, target=16, value=1.5625}, {source=10, target=12, value=11.11111111088888888889}, {source=11, target=11, value=100.00}, {source=12, target=6, value=2.04081632661224489796}, {source=13, target=15, value=11.11111111088888888889}, {source=14, target=13, value=25.00}, {source=15, target=15, value=100.00}, {source=16, target=6, value=0.82644628100826446281}, {source=17, target=17, value=100.00}, {source=18, target=13, value=2.77777777788888888889}, {source=19, target=15, value=4.00}, {source=20, target=16, value=4.00}, {source=21, target=17, value=4.00}, {source=22, target=2, value=0.22675736962358276644}, {source=23, target=16, value=1.5625}, {source=24, target=16, value=1.23456790120987654321}, {source=25, target=10, value=0.390625}, {source=26, target=11, value=0.390625}, {source=27, target=14, value=0.51020408165306122449}, {source=28, target=15, value=0.51020408165306122449}, {source=29, target=12, value=0.30864197535802469136}, {source=30, target=17, value=0.51020408165306122449}, {source=31, target=10, value=0.20661157020661157025}, {source=32, target=17, value=0.390625}, {source=33, target=11, value=0.18903591682797731569}, {source=34, target=13, value=0.20661157020661157025}, {source=35, target=17, value=0.27700831027700831025}, {source=36, target=15, value=0.20661157020661157025}, {source=37, target=17, value=0.22675736962358276644}, {source=38, target=6, value=0.09182736453627180900}, {source=39, target=12, value=0.12755102037755102041}, {source=40, target=17, value=0.17361111113888888889}, {source=41, target=17, value=0.16}, {source=42, target=15, value=0.12755102037755102041}, {source=43, target=17, value=0.13717421127023319616}, {source=44, target=15, value=0.11111111108888888889}, {source=45, target=14, value=0.09765625}, {source=46, target=15, value=0.09765625}, {source=47, target=16, value=0.09765625}, {source=48, target=17, value=0.09765625}, {source=49, target=14, value=0.07716049383950617284}, {source=50, target=15, value=0.07716049383950617284}, {source=51, target=17, value=0.08163265305306122449}, {source=52, target=15, value=0.06925207754293628809}, {source=53, target=13, value=0.05948839975014872100}, {source=54, target=11, value=0.05165289257438016529}, {source=55, target=14, value=0.05668934240589569161}, {source=56, target=17, value=0.0625}, {source=57, target=13, value=0.04938271603950617284}, {source=58, target=0, value=0.02872737718241884516}, {source=59, target=14, value=0.04725897918525519849}, {source=60, target=13, value=0.04340277776388888889}, {source=61, target=17, value=0.04938271603950617284}, {source=62, target=16, value=0.04526935262833861476}, {source=63, target=16, value=0.04340277776388888889}, {source=64, target=0, value=0.02366863903905325444}, {source=65, target=10, value=0.03188775511224489796}, {source=66, target=17, value=0.04}, {source=67, target=17, value=0.03844675126028450596}, {source=68, target=17, value=0.03698224851775147929}, {source=69, target=6, value=0.0244140625}, {source=70, target=13, value=0.02972651605112960761}, {source=71, target=17, value=0.03305785123305785124}, {source=72, target=14, value=0.02872737718241884516}, {source=73, target=17, value=0.03077870114188981225}, {source=74, target=14, value=0.02687449609352324644}, {source=75, target=17, value=0.02872737718241884516}, {source=76, target=17, value=0.02777777778888888889}, {source=77, target=16, value=0.02601456816441207076}, {source=78, target=10, value=0.02100399074900231044}, {source=79, target=5, value=0.01777777776888888889}, {source=80, target=14, value=0.02227667630697259969}, {source=81, target=10, value=0.01929012345987654321}, {source=82, target=12, value=0.01983733385598095616}, {source=83, target=16, value=0.02162629756920415225}, {source=84, target=16, value=0.02100399074900231044}, {source=85, target=13, value=0.01876524677125164196}, {source=86, target=17, value=0.02040816327755102041}, {source=87, target=14, value=0.01826150473849525201}, {source=88, target=11, value=0.01643655489677843524}, {source=89, target=14, value=0.01731301939889196676}, {source=90, target=15, value=0.01731301939889196676}, {source=91, target=9, value=0.01451589490230802729}, {source=92, target=12, value=0.01524157902179545801}, {source=93, target=11, value=0.01451589490230802729}, {source=94, target=17, value=0.01643655489677843524}, {source=95, target=4, value=0.01181474480718336484}, {source=96, target=17, value=0.015625}, {source=97, target=16, value=0.01487209993753718025}, {source=98, target=17, value=0.01487209993753718025}, {source=99, target=2, value=0.01041232819117034569}, {source=0, target=15, value=0.390625}, {source=1, target=11, value=0.82644628100826446281}, {source=2, target=14, value=0.59171597628402366864}, {source=3, target=17, value=0.44444444448888888889}, {source=4, target=13, value=1.00}, {source=5, target=12, value=1.5625}, {source=6, target=9, value=6.25}, {source=7, target=14, value=1.5625}, {source=8, target=16, value=1.23456790120987654321}, {source=9, target=15, value=2.04081632661224489796}, {source=10, target=12, value=11.11111111088888888889}, {source=11, target=15, value=4.00}, {source=12, target=13, value=25.00}, {source=13, target=15, value=11.11111111088888888889}, {source=14, target=15, value=25.00}, {source=15, target=13, value=11.11111111088888888889}]}"
      ]
     },
     "execution_count": 1,
     "metadata": {},
     "output_type": "execute_result"
    }
   ],
   "source": [
    "def r = new Random()\n",
    "def nnodes = 100\n",
    "def nodes = []\n",
    "def links = []\n",
    "\n",
    "for(x in (0..nnodes)){\n",
    "  nodes.add(name:\"\" + x, group:((int) x*7/nnodes))\n",
    "}\n",
    "\n",
    "for(x in (0..(int) nnodes*1.15)){ \n",
    "  source = x % nnodes\n",
    "  target = ((int) Math.log(1 + r.nextInt(nnodes))/Math.log(1.3))\n",
    "  value = 10.0 / (1 + abs(source - target))\n",
    "  links.add(source: source, target:target, value:value*value)\n",
    "}\n",
    "\n",
    "beaker.graph = [nodes: nodes, links: links]"
   ]
  },
  {
   "cell_type": "code",
   "execution_count": null,
   "metadata": {
    "collapsed": false
   },
   "outputs": [
    {
     "data": {
      "text/html": [
       "<html><script>\n",
       "require.config({\n",
       "  paths: {\n",
       "      d3: '//cdnjs.cloudflare.com/ajax/libs/d3/3.4.8/d3.min'\n",
       "  }});</script></html>"
      ]
     },
     "execution_count": 4,
     "metadata": {},
     "output_type": "execute_result"
    }
   ],
   "source": [
    "%%javascript\n",
    "require.config({\n",
    "  paths: {\n",
    "      d3: '//cdnjs.cloudflare.com/ajax/libs/d3/3.4.8/d3.min'\n",
    "  }});"
   ]
  },
  {
   "cell_type": "code",
   "execution_count": null,
   "metadata": {
    "collapsed": false
   },
   "outputs": [
    {
     "data": {
      "text/html": [
       "<html>\n",
       "<style>\n",
       ".node {\n",
       "  stroke: #fff;\n",
       "  stroke-width: 1.5px;\n",
       "}\n",
       "\n",
       ".link {\n",
       "  stroke: #999;\n",
       "  stroke-opacity: .6;\n",
       "}\n",
       "</style>\n",
       "<div id=\"fdg\"></div></html>"
      ]
     },
     "execution_count": 5,
     "metadata": {},
     "output_type": "execute_result"
    }
   ],
   "source": [
    "%%html\n",
    "<style>\n",
    ".node {\n",
    "  stroke: #fff;\n",
    "  stroke-width: 1.5px;\n",
    "}\n",
    "\n",
    ".link {\n",
    "  stroke: #999;\n",
    "  stroke-opacity: .6;\n",
    "}\n",
    "</style>\n",
    "<div id=\"fdg\"></div>"
   ]
  },
  {
   "cell_type": "code",
   "execution_count": null,
   "metadata": {
    "collapsed": false
   },
   "outputs": [
    {
     "data": {
      "text/html": [
       "<html><script>\n",
       "console.log(beaker.graph);\n",
       "var graph = window.beaker.graph\n",
       "console.log(graph)\n",
       "var d3 = require(['d3'], function (d3) {\n",
       "    \n",
       "var width = 600,\n",
       "    height = 500;\n",
       "\n",
       "var color = d3.scale.category20();\n",
       "\n",
       "var force = d3.layout.force()\n",
       "    .charge(-200)\n",
       "    .linkDistance(30)\n",
       "    .size([width, height]);\n",
       "\n",
       "var svg = d3.select(\"#fdg\")\n",
       "            .append(\"svg\")\n",
       "            .attr(\"width\", width)\n",
       "            .attr(\"height\", height);\n",
       "\n",
       "\n",
       "force.nodes(graph.nodes)\n",
       "     .links(graph.links)\n",
       "     .start();\n",
       "\n",
       "var link = svg.selectAll(\".link\")\n",
       "      .data(graph.links)\n",
       "      .enter().append(\"line\")\n",
       "      .attr(\"class\", \"link\")\n",
       "      .style(\"stroke-width\", function(d) { return Math.sqrt(d.value); });\n",
       "\n",
       "var node = svg.selectAll(\".node\")\n",
       "      .data(graph.nodes)\n",
       "      .enter().append(\"circle\")\n",
       "      .attr(\"class\", \"node\")\n",
       "      .attr(\"r\", 10)\n",
       "      .style(\"fill\", function(d) { return color(d.group); })\n",
       "      .call(force.drag);\n",
       "\n",
       "node.append(\"title\")\n",
       "      .text(function(d) { return d.name; });\n",
       "\n",
       "force.on(\"tick\", function() {\n",
       "    link.attr(\"x1\", function(d) { return d.source.x; })\n",
       "        .attr(\"y1\", function(d) { return d.source.y; })\n",
       "        .attr(\"x2\", function(d) { return d.target.x; })\n",
       "        .attr(\"y2\", function(d) { return d.target.y; });\n",
       "\n",
       "    node.attr(\"cx\", function(d) { return d.x; })\n",
       "        .attr(\"cy\", function(d) { return d.y; });\n",
       "});\n",
       "});</script></html>"
      ]
     },
     "execution_count": 6,
     "metadata": {},
     "output_type": "execute_result"
    }
   ],
   "source": [
    "%%javascript\n",
    "var graph = window.beaker.graph\n",
    "var d3 = require(['d3'], function (d3) {\n",
    "    \n",
    "var width = 600,\n",
    "    height = 500;\n",
    "\n",
    "var color = d3.scale.category20();\n",
    "\n",
    "var force = d3.layout.force()\n",
    "    .charge(-200)\n",
    "    .linkDistance(30)\n",
    "    .size([width, height]);\n",
    "\n",
    "var svg = d3.select(\"#fdg\")\n",
    "            .append(\"svg\")\n",
    "            .attr(\"width\", width)\n",
    "            .attr(\"height\", height);\n",
    "\n",
    "\n",
    "force.nodes(graph.nodes)\n",
    "     .links(graph.links)\n",
    "     .start();\n",
    "\n",
    "var link = svg.selectAll(\".link\")\n",
    "      .data(graph.links)\n",
    "      .enter().append(\"line\")\n",
    "      .attr(\"class\", \"link\")\n",
    "      .style(\"stroke-width\", function(d) { return Math.sqrt(d.value); });\n",
    "\n",
    "var node = svg.selectAll(\".node\")\n",
    "      .data(graph.nodes)\n",
    "      .enter().append(\"circle\")\n",
    "      .attr(\"class\", \"node\")\n",
    "      .attr(\"r\", 10)\n",
    "      .style(\"fill\", function(d) { return color(d.group); })\n",
    "      .call(force.drag);\n",
    "\n",
    "node.append(\"title\")\n",
    "      .text(function(d) { return d.name; });\n",
    "\n",
    "force.on(\"tick\", function() {\n",
    "    link.attr(\"x1\", function(d) { return d.source.x; })\n",
    "        .attr(\"y1\", function(d) { return d.source.y; })\n",
    "        .attr(\"x2\", function(d) { return d.target.x; })\n",
    "        .attr(\"y2\", function(d) { return d.target.y; });\n",
    "\n",
    "    node.attr(\"cx\", function(d) { return d.x; })\n",
    "        .attr(\"cy\", function(d) { return d.y; });\n",
    "});\n",
    "});"
   ]
  },
  {
   "cell_type": "code",
   "execution_count": null,
   "metadata": {
    "collapsed": true
   },
   "outputs": [],
   "source": []
  }
 ],
 "metadata": {
  "classpath": [],
  "imports": [
   "com.github.lwhite1.tablesaw.api.ml.regression.*",
   "com.twosigma.beaker.chart.Color",
   "com.github.lwhite1.tablesaw.api.*",
   "com.twosigma.beaker.NamespaceClient",
   "com.github.lwhite1.tablesaw.filtering.*",
   "com.twosigma.beaker.BeakerProgressUpdate",
   "com.twosigma.beaker.chart.histogram.*",
   "static com.github.lwhite1.tablesaw.api.QueryHelper.*",
   "com.twosigma.beaker.chart.heatmap.HeatMap",
   "com.twosigma.beaker.chart.xychart.*",
   "com.github.lwhite1.tablesaw.api.ml.clustering.*",
   "com.twosigma.beaker.chart.Filter",
   "static java.lang.Math.*",
   "static com.twosigma.beaker.mimetype.MimeTypeManager.addMimeType",
   "java.util.concurrent.TimeUnit",
   "com.twosigma.beaker.chart.categoryplot.plotitem.*",
   "com.twosigma.beaker.chart.categoryplot.*",
   "static com.twosigma.beaker.mimetype.MimeTypeManager.Latex",
   "com.twosigma.beaker.chart.xychart.plotitem.*",
   "com.twosigma.beaker.chart.KeyboardCodes",
   "com.twosigma.beaker.chart.GradientColor",
   "com.github.lwhite1.tablesaw.columns.*",
   "com.twosigma.beaker.chart.legend.*",
   "com.github.lwhite1.tablesaw.reducing.*",
   "static com.twosigma.beaker.mimetype.MimeTypeManager.HTML"
  ],
  "kernelspec": {
   "display_name": "Groovy",
   "language": "groovy",
   "name": "groovy"
  },
  "language_info": {
   "codemirror_mode": "groovy",
   "file_extension": ".groovy",
   "mimetype": "",
   "name": "Groovy",
   "nbconverter_exporter": "",
   "pygments_lexer": "",
   "version": "2.4.3"
  }
 },
 "nbformat": 4,
 "nbformat_minor": 2
}

{
 "cells": [
  {
   "cell_type": "code",
   "execution_count": 7,
   "metadata": {
    "collapsed": false
   },
   "outputs": [
    {
     "data": {
      "text/plain": [
       "h ABC"
      ]
     },
     "metadata": {},
     "output_type": "display_data"
    }
   ],
   "source": [
    "public Object f(x){\n",
    "    return x + \" ABC\";\n",
    "}\n",
    "\n",
    "com.twosigma.beaker.groovy.widgets.Interactive.interact(this.&f, \"-\");"
   ]
  },
  {
   "cell_type": "code",
   "execution_count": 4,
   "metadata": {
    "collapsed": false
   },
   "outputs": [
    {
     "data": {
      "text/plain": [
       "18.8"
      ]
     },
     "metadata": {},
     "output_type": "display_data"
    }
   ],
   "source": [
    "public Object f(x){\n",
    "    return x + 2;\n",
    "}\n",
    "\n",
    "com.twosigma.beaker.groovy.widgets.Interactive.interact(this.&f, 10d);"
   ]
  },
  {
   "cell_type": "code",
   "execution_count": 5,
   "metadata": {
    "collapsed": false
   },
   "outputs": [
    {
     "data": {
      "text/plain": [
       "25"
      ]
     },
     "metadata": {},
     "output_type": "display_data"
    }
   ],
   "source": [
    "public Object f(x){\n",
    "    return x + 2;\n",
    "}\n",
    "\n",
    "com.twosigma.beaker.groovy.widgets.Interactive.interact(this.&f, 10);"
   ]
  },
  {
   "cell_type": "code",
   "execution_count": 6,
   "metadata": {
    "collapsed": false
   },
   "outputs": [
    {
     "data": {
      "text/plain": [
       "false"
      ]
     },
     "metadata": {},
     "output_type": "display_data"
    }
   ],
   "source": [
    "public Object f(x){\n",
    "    return !x;\n",
    "}\n",
    "\n",
    "com.twosigma.beaker.groovy.widgets.Interactive.interact(this.&f, true);"
   ]
  },
  {
   "cell_type": "code",
   "execution_count": null,
   "metadata": {
    "collapsed": true
   },
   "outputs": [],
   "source": []
  }
 ],
 "metadata": {
  "classpath": [],
  "imports": [
   "com.github.lwhite1.tablesaw.api.ml.regression.*",
   "com.twosigma.beaker.chart.Color",
   "com.github.lwhite1.tablesaw.api.*",
   "com.twosigma.beaker.NamespaceClient",
   "com.github.lwhite1.tablesaw.filtering.*",
   "com.twosigma.beaker.BeakerProgressUpdate",
   "com.twosigma.beaker.chart.histogram.*",
   "static com.github.lwhite1.tablesaw.api.QueryHelper.*",
   "com.twosigma.beaker.chart.heatmap.HeatMap",
   "com.twosigma.beaker.chart.xychart.*",
   "com.github.lwhite1.tablesaw.api.ml.clustering.*",
   "com.twosigma.beaker.chart.Filter",
   "static java.lang.Math.*",
   "static com.twosigma.beaker.mimetype.MimeTypeManager.addMimeType",
   "java.util.concurrent.TimeUnit",
   "com.twosigma.beaker.chart.categoryplot.plotitem.*",
   "com.twosigma.beaker.chart.categoryplot.*",
   "static com.twosigma.beaker.mimetype.MimeTypeManager.Latex",
   "com.twosigma.beaker.chart.xychart.plotitem.*",
   "com.twosigma.beaker.chart.KeyboardCodes",
   "com.twosigma.beaker.chart.GradientColor",
   "com.github.lwhite1.tablesaw.columns.*",
   "com.twosigma.beaker.chart.legend.*",
   "com.github.lwhite1.tablesaw.reducing.*",
   "static com.twosigma.beaker.mimetype.MimeTypeManager.HTML"
  ],
  "kernelspec": {
   "display_name": "Groovy",
   "language": "groovy",
   "name": "groovy"
  },
  "language_info": {
   "codemirror_mode": "groovy",
   "file_extension": ".groovy",
   "mimetype": "",
   "name": "Groovy",
   "nbconverter_exporter": "",
   "pygments_lexer": "",
   "version": "2.4.3"
  },
  "widgets": {
   "state": {
    "234568c5-e2fa-43a1-b0e2-a26147a55443": {
     "views": [
      {
       "cell_index": 2
      }
     ]
    },
    "46253f28-0d3e-4cbf-8715-1275e94a1f23": {
     "views": [
      {
       "cell_index": 0
      }
     ]
    },
    "499c2bbf-74ac-418e-9328-ebbc41909b22": {
     "views": [
      {
       "cell_index": 3
      }
     ]
    },
    "6b393e30-e891-4f95-b036-578e31dd8157": {
     "views": [
      {
       "cell_index": 1
      }
     ]
    }
   },
   "version": "1.2.0"
  }
 },
 "nbformat": 4,
 "nbformat_minor": 2
}

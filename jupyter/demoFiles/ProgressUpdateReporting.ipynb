{
 "cells": [
  {
   "cell_type": "code",
   "execution_count": 2,
   "metadata": {
    "collapsed": false
   },
   "outputs": [
    {
     "data": {
      "text/plain": [
       "finished"
      ]
     },
     "execution_count": 2,
     "metadata": {},
     "output_type": "execute_result"
    }
   ],
   "source": [
    "def messages = [\"starting\",\n",
    "                \"started\",\n",
    "                \"begin\",\n",
    "                \"middle\",\n",
    "                \"about to finish\"];\n",
    "\n",
    "for ( int i = 0 ; i<5; i++) {\n",
    "  beaker.showProgressUpdate(messages[i], i*20)\n",
    "  sleep(1000)\n",
    "}\n",
    "sleep(1000)\n",
    "\"finished\""
   ]
  },
  {
   "cell_type": "code",
   "execution_count": 2,
   "metadata": {
    "collapsed": false
   },
   "outputs": [
    {
     "data": {
      "text/plain": [
       "finished"
      ]
     },
     "execution_count": 2,
     "metadata": {},
     "output_type": "execute_result"
    }
   ],
   "source": [
    "def messages = [\"starting\",\n",
    "                \"started\",\n",
    "                \"begin\",\n",
    "                \"middle\",\n",
    "                \"about to finish\"];\n",
    "\n",
    "for ( int i = 0 ; i<5; i++) {\n",
    "  beaker.showProgressUpdate(messages[i], i*20)\n",
    "  sleep(150)\n",
    "}\n",
    "sleep(1000)\n",
    "\"finished\""
   ]
  },
  {
   "cell_type": "code",
   "execution_count": null,
   "metadata": {
    "collapsed": true
   },
   "outputs": [],
   "source": []
  }
 ],
 "metadata": {
  "anaconda-cloud": {},
  "classpath": [],
  "imports": [
   "static java.lang.Math.*",
   "com.twosigma.beaker.chart.Color",
   "com.twosigma.beaker.chart.xychart.*",
   "com.twosigma.beaker.chart.xychart.plotitem.*",
   "com.twosigma.beaker.chart.legend.*",
   "com.twosigma.beaker.chart.Filter",
   "com.twosigma.beaker.chart.GradientColor",
   "com.twosigma.beaker.chart.categoryplot.*",
   "com.twosigma.beaker.chart.categoryplot.plotitem.*",
   "com.twosigma.beaker.chart.histogram.*",
   "com.twosigma.beaker.chart.heatmap.HeatMap",
   "com.twosigma.beaker.chart.KeyboardCodes",
   "java.util.concurrent.TimeUnit",
   "com.github.lwhite1.tablesaw.api.*",
   "com.github.lwhite1.tablesaw.columns.*",
   "com.github.lwhite1.tablesaw.api.ml.clustering.*",
   "com.github.lwhite1.tablesaw.reducing.*",
   "com.github.lwhite1.tablesaw.api.ml.regression.*",
   "static com.github.lwhite1.tablesaw.api.QueryHelper.*",
   "com.github.lwhite1.tablesaw.filtering.*"
  ],
  "kernelspec": {
   "display_name": "Groovy",
   "language": "groovy",
   "name": "groovy"
  },
  "language_info": {
   "codemirror_mode": "",
   "file_extension": ".groovy",
   "mimetype": "",
   "name": "Groovy",
   "nbconverter_exporter": "",
   "pygments_lexer": "",
   "version": "2.4.6"
  }
 },
 "nbformat": 4,
 "nbformat_minor": 1
}

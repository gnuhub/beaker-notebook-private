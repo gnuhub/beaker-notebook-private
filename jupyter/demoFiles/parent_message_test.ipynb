{
 "cells": [
  {
   "cell_type": "code",
   "execution_count": 1,
   "metadata": {
    "collapsed": false
   },
   "outputs": [
    {
     "data": {},
     "execution_count": 1,
     "metadata": {},
     "output_type": "execute_result"
    }
   ],
   "source": [
    "import com.twosigma.beaker.widgets.integers.IntProgress\n",
    "import static com.twosigma.beaker.widgets.DisplayWidget.display;\n",
    "bar = new IntProgress()\n",
    "bar.value = 10\n",
    "display(bar)"
   ]
  },
  {
   "cell_type": "code",
   "execution_count": 2,
   "metadata": {
    "collapsed": false
   },
   "outputs": [
    {
     "data": {},
     "execution_count": 2,
     "metadata": {},
     "output_type": "execute_result"
    }
   ],
   "source": [
    "import com.twosigma.beaker.widgets.integers.IntProgress\n",
    "import static com.twosigma.beaker.widgets.DisplayWidget.display;\n",
    "bar = new IntProgress()\n",
    "bar.value = 20\n",
    "display(bar)"
   ]
  },
  {
   "cell_type": "code",
   "execution_count": 3,
   "metadata": {
    "collapsed": false
   },
   "outputs": [
    {
     "data": {},
     "execution_count": 3,
     "metadata": {},
     "output_type": "execute_result"
    }
   ],
   "source": [
    "import com.twosigma.beaker.widgets.integers.IntProgress\n",
    "import static com.twosigma.beaker.widgets.DisplayWidget.display;\n",
    "bar = new IntProgress()\n",
    "bar.value = 30\n",
    "display(bar)"
   ]
  },
  {
   "cell_type": "code",
   "execution_count": 4,
   "metadata": {
    "collapsed": false
   },
   "outputs": [
    {
     "data": {},
     "execution_count": 4,
     "metadata": {},
     "output_type": "execute_result"
    }
   ],
   "source": [
    "import com.twosigma.beaker.widgets.integers.IntProgress\n",
    "import static com.twosigma.beaker.widgets.DisplayWidget.display;\n",
    "bar = new IntProgress()\n",
    "bar.value = 40\n",
    "display(bar)"
   ]
  },
  {
   "cell_type": "code",
   "execution_count": 5,
   "metadata": {
    "collapsed": false
   },
   "outputs": [
    {
     "data": {},
     "execution_count": 5,
     "metadata": {},
     "output_type": "execute_result"
    }
   ],
   "source": [
    "import com.twosigma.beaker.widgets.integers.IntProgress\n",
    "import static com.twosigma.beaker.widgets.DisplayWidget.display;\n",
    "bar = new IntProgress()\n",
    "bar.value = 50\n",
    "display(bar)"
   ]
  },
  {
   "cell_type": "code",
   "execution_count": 6,
   "metadata": {
    "collapsed": false
   },
   "outputs": [
    {
     "data": {},
     "execution_count": 6,
     "metadata": {},
     "output_type": "execute_result"
    }
   ],
   "source": [
    "import com.twosigma.beaker.widgets.integers.IntProgress\n",
    "import static com.twosigma.beaker.widgets.DisplayWidget.display;\n",
    "bar = new IntProgress()\n",
    "bar.value = 60\n",
    "display(bar)"
   ]
  },
  {
   "cell_type": "code",
   "execution_count": null,
   "metadata": {
    "collapsed": true
   },
   "outputs": [],
   "source": []
  }
 ],
 "metadata": {
  "anaconda-cloud": {},
  "kernelspec": {
   "display_name": "Groovy",
   "language": "groovy",
   "name": "groovy"
  },
  "language_info": {
   "codemirror_mode": "",
   "file_extension": ".groovy",
   "mimetype": "",
   "name": "Groovy",
   "nbconverter_exporter": "",
   "pygments_lexer": "",
   "version": "2.4.6"
  },
  "widgets": {
   "state": {
    "04ef195c-a30b-4e89-b28e-957acc5482e3": {
     "views": [
      {
       "cell_index": 1
      }
     ]
    },
    "2b48fc0c-cf35-4f40-8359-5dec80c96e74": {
     "views": [
      {
       "cell_index": 1
      }
     ]
    },
    "339556b5-a80c-481c-b0d4-c6e0d08376a5": {
     "views": [
      {
       "cell_index": 1
      }
     ]
    },
    "8f11598a-1b1f-4c0a-82b7-300f87fd4711": {
     "views": [
      {
       "cell_index": 1
      }
     ]
    },
    "c77abcca-2944-4ad8-a68d-503680dcc553": {
     "views": [
      {
       "cell_index": 1
      }
     ]
    },
    "e9d3bd7c-6c82-49a5-ba07-898fdf054cb1": {
     "views": [
      {
       "cell_index": 1
      }
     ]
    }
   },
   "version": "1.2.0"
  }
 },
 "nbformat": 4,
 "nbformat_minor": 2
}

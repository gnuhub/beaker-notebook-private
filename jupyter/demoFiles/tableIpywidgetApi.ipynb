{
 "cells": [
  {
   "cell_type": "code",
   "execution_count": 1,
   "metadata": {
    "collapsed": false
   },
   "outputs": [
    {
     "data": {
      "text/plain": [
       "com.twosigma.beaker.widgets.table.TableDisplay@48b5bf7f"
      ]
     },
     "execution_count": 1,
     "metadata": {},
     "output_type": "execute_result"
    }
   ],
   "source": [
    "import com.twosigma.beaker.widgets.table.*\n",
    "import java.util.concurrent.TimeUnit    \n",
    "import com.twosigma.beaker.table.format.TableDisplayStringFormat\n",
    "import com.twosigma.beaker.fileloader.CsvPlotReader\n",
    "\n",
    "def rates = new CsvPlotReader().read(\"tableRows.csv\")\n",
    "def display = new TableDisplay(rates)\n"
   ]
  },
  {
   "cell_type": "code",
   "execution_count": null,
   "metadata": {
    "collapsed": true
   },
   "outputs": [],
   "source": []
  }
 ],
 "metadata": {
  "anaconda-cloud": {},
  "kernelspec": {
   "display_name": "Groovy",
   "language": "groovy",
   "name": "groovy"
  },
  "language_info": {
   "codemirror_mode": "",
   "file_extension": ".groovy",
   "mimetype": "",
   "name": "Groovy",
   "nbconverter_exporter": "",
   "pygments_lexer": "",
   "version": "2.4.6"
  }
 },
 "nbformat": 4,
 "nbformat_minor": 2
}

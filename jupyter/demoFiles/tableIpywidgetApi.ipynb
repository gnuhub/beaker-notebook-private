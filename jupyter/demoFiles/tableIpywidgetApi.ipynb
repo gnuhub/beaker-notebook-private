{
 "cells": [
  {
   "cell_type": "code",
   "execution_count": 12,
   "metadata": {
    "collapsed": false
   },
   "outputs": [
    {
     "data": {
      "text/plain": []
     },
     "execution_count": 12,
     "metadata": {},
     "output_type": "execute_result"
    }
   ],
   "source": [
    "import com.twosigma.beaker.widgets.table.*\n",
    "import java.util.concurrent.TimeUnit    \n",
    "import com.twosigma.beaker.table.format.TableDisplayStringFormat\n",
    "import com.twosigma.beaker.fileloader.CsvPlotReader\n",
    "\n",
    "def rates = new CsvPlotReader().read(\"tableRows.csv\")\n",
    "def display = new TableDisplay(rates)\n"
   ]
  },
  {
   "cell_type": "code",
   "execution_count": null,
   "metadata": {
    "collapsed": true
   },
   "outputs": [],
   "source": []
  }
 ],
 "metadata": {
  "anaconda-cloud": {},
  "kernelspec": {
   "display_name": "Groovy",
   "language": "groovy",
   "name": "groovy"
  },
  "language_info": {
   "codemirror_mode": "",
   "file_extension": ".groovy",
   "mimetype": "",
   "name": "Groovy",
   "nbconverter_exporter": "",
   "pygments_lexer": "",
   "version": "2.4.6"
  },
  "widgets": {
   "state": {
    "f6299195-32b2-4a20-b0ec-219942ea8485": {
     "views": [
      {
       "cell_index": 0
      }
     ]
    }
   },
   "version": "1.2.0"
  }
 },
 "nbformat": 4,
 "nbformat_minor": 2
}

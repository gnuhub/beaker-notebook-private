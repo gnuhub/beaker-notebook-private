{
 "cells": [
  {
   "cell_type": "code",
   "execution_count": 10,
   "metadata": {
    "collapsed": false
   },
   "outputs": [],
   "source": [
    "from ipywidgets import *\n",
    "from IPython.display import display\n",
    "\n",
    "bar = IntProgress()\n",
    "bar.value = 10\n",
    "display(bar)"
   ]
  },
  {
   "cell_type": "code",
   "execution_count": 11,
   "metadata": {
    "collapsed": true
   },
   "outputs": [],
   "source": [
    "bar = IntProgress()\n",
    "bar.value = 20\n",
    "display(bar)"
   ]
  },
  {
   "cell_type": "code",
   "execution_count": 12,
   "metadata": {
    "collapsed": true
   },
   "outputs": [],
   "source": [
    "bar = IntProgress()\n",
    "bar.value = 30\n",
    "display(bar)"
   ]
  },
  {
   "cell_type": "code",
   "execution_count": 13,
   "metadata": {
    "collapsed": true
   },
   "outputs": [],
   "source": [
    "bar = IntProgress()\n",
    "bar.value = 40\n",
    "display(bar)"
   ]
  },
  {
   "cell_type": "code",
   "execution_count": 14,
   "metadata": {
    "collapsed": true
   },
   "outputs": [],
   "source": [
    "bar = IntProgress()\n",
    "bar.value = 50\n",
    "display(bar)"
   ]
  },
  {
   "cell_type": "code",
   "execution_count": 15,
   "metadata": {
    "collapsed": true
   },
   "outputs": [],
   "source": [
    "bar = IntProgress()\n",
    "bar.value = 60\n",
    "display(bar)"
   ]
  },
  {
   "cell_type": "code",
   "execution_count": 16,
   "metadata": {
    "collapsed": true
   },
   "outputs": [],
   "source": [
    "bar = IntProgress()\n",
    "bar.value = 70\n",
    "display(bar)"
   ]
  },
  {
   "cell_type": "code",
   "execution_count": null,
   "metadata": {
    "collapsed": true
   },
   "outputs": [],
   "source": []
  }
 ],
 "metadata": {
  "kernelspec": {
   "display_name": "Python [conda root]",
   "language": "python",
   "name": "conda-root-py"
  },
  "language_info": {
   "codemirror_mode": {
    "name": "ipython",
    "version": 3
   },
   "file_extension": ".py",
   "mimetype": "text/x-python",
   "name": "python",
   "nbconvert_exporter": "python",
   "pygments_lexer": "ipython3",
   "version": "3.5.2"
  },
  "widgets": {
   "state": {
    "2a9738d51823401db89117780e4a990a": {
     "views": [
      {
       "cell_index": 1
      }
     ]
    },
    "5d6c355415b042eebe784c0644841c4e": {
     "views": [
      {
       "cell_index": 4
      }
     ]
    },
    "68d45423707a46aeb5ba7241446e4b19": {
     "views": [
      {
       "cell_index": 5
      }
     ]
    },
    "aa95b3ee55f645c8a2d00860c309d699": {
     "views": [
      {
       "cell_index": 0
      }
     ]
    },
    "aabfbf8158734f2b826310f904fb330a": {
     "views": [
      {
       "cell_index": 3
      }
     ]
    },
    "bd5e550ff3094a0dbc1bbd75f2c6026c": {
     "views": [
      {
       "cell_index": 2
      }
     ]
    },
    "f24e2135b4b34d5f99484ee315c4b511": {
     "views": [
      {
       "cell_index": 6
      }
     ]
    }
   },
   "version": "1.2.0"
  }
 },
 "nbformat": 4,
 "nbformat_minor": 2
}

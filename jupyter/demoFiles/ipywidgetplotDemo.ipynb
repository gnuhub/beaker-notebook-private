{
 "cells": [
  {
   "cell_type": "code",
   "execution_count": 1,
   "metadata": {
    "collapsed": false,
    "scrolled": true
   },
   "outputs": [
    {
     "data": {
      "text/plain": []
     },
     "execution_count": 1,
     "metadata": {},
     "output_type": "execute_result"
    }
   ],
   "source": [
    "def plot = new com.twosigma.beaker.widgets.chart.xychart.Plot(\n",
    "    title: \"Setting line properties\")\n",
    "def ys = [0, 1, 6, 5, 2, 8]\n",
    "def ys2 = [0, 2, 7, 6, 3, 8]\n",
    "plot << new Line(y: ys, width: 10, color: Color.red)\n",
    "plot << new Line(y: ys, width: 3, color: Color.yellow)\n",
    "plot << new Line(y: ys, width: 4, color: new Color(33, 87, 141), style: StrokeType.DASH, interpolation: 0)\n",
    "plot << new Line(y: ys2, width: 2, color: new Color(212, 57, 59), style: StrokeType.DOT)\n",
    "plot << new Line(y: [5, 0], x: [0, 5], style: StrokeType.LONGDASH)\n",
    "plot << new Line(y: [4, 0], x: [0, 5], style: StrokeType.DASHDOT)"
   ]
  },
  {
   "cell_type": "code",
   "execution_count": null,
   "metadata": {
    "collapsed": false,
    "scrolled": false
   },
   "outputs": [],
   "source": [
    "new com.twosigma.beaker.widgets.chart.xychart.Plot().add(new Line(x: [0, 1, 2, 3, 4, 5], y: [0, 1, 6, 5, 2, 8]))\n",
    "new com.twosigma.beaker.widgets.chart.xychart.Plot().add(new Line(x: (0..5), y: [0, 1, 6, 5, 2, 8]))\n",
    "new com.twosigma.beaker.widgets.chart.xychart.Plot() << new Line(x: (0..5), y: [0, 1, 6, 5, 2, 8])"
   ]
  },
  {
   "cell_type": "code",
   "execution_count": 4,
   "metadata": {
    "collapsed": false
   },
   "outputs": [
    {
     "data": {
      "text/html": [
       "<html><div id='beakerChart4'></div><script>var j = {\"type\":\"Plot\",\"init_width\":640,\"init_height\":480,\"chart_title\":null,\"show_legend\":null,\"use_tool_tip\":true,\"legend_position\":{\"type\":\"LegendPosition\",\"position\":\"TOP_RIGHT\"},\"legend_layout\":\"VERTICAL\",\"element_styles\":{},\"domain_axis_label\":null,\"y_label\":\"\",\"rangeAxes\":[{\"type\":\"YAxis\",\"label\":\"\",\"auto_range\":true,\"auto_range_includes_zero\":false,\"lower_margin\":0.0,\"upper_margin\":0.0,\"lower_bound\":0.0,\"upper_bound\":0.0,\"use_log\":false,\"log_base\":10.0}],\"x_lower_margin\":0.05,\"x_upper_margin\":0.05,\"y_auto_range\":true,\"y_auto_range_includes_zero\":false,\"y_lower_margin\":0.0,\"y_upper_margin\":0.0,\"y_lower_bound\":0.0,\"y_upper_bound\":0.0,\"log_y\":false,\"timezone\":null,\"crosshair\":null,\"omit_checkboxes\":false,\"graphics_list\":[{\"type\":\"Stems\",\"uid\":\"b2033b74-d94e-48c5-9252-5c7424079f43\",\"visible\":true,\"yAxis\":null,\"hasClickAction\":false,\"x\":[0,1,2,3,4,5],\"y\":[1.5,1,6,5,2,8],\"display_name\":\"\",\"base\":0.0,\"colors\":[\"#FF000000\",\"#FFFF0000\",\"#FF808080\",\"#FF00FF00\",\"#FF0000FF\",\"#FFFFAFAF\"],\"width\":5.0,\"styles\":[\"SOLID\",\"SOLID\",\"DASH\",\"DOT\",\"DASHDOT\",\"LONGDASH\"]}],\"constant_lines\":[],\"constant_bands\":[],\"texts\":[],\"x_auto_range\":true,\"x_lower_bound\":0.0,\"x_upper_bound\":0.0,\"log_x\":false,\"x_log_base\":10.0,\"x_tickLabels_visible\":true,\"y_tickLabels_visible\":true}; console.log('plot this:'); console.log(j); window.initPlotd(j,'beakerChart4');</script></html>"
      ]
     },
     "execution_count": 4,
     "metadata": {},
     "output_type": "execute_result"
    }
   ],
   "source": [
    "def plot = new com.twosigma.beaker.widgets.chart.xychart.Plot();\n",
    "def y1 = [1.5, 1, 6, 5, 2, 8]\n",
    "def cs = [Color.black, Color.red, Color.gray, Color.green, Color.blue, Color.pink]\n",
    "def ss = [StrokeType.SOLID, StrokeType.SOLID, StrokeType.DASH, StrokeType.DOT, StrokeType.DASHDOT, StrokeType.LONGDASH]\n",
    "plot << new Stems(y: y1, color: cs, style: ss, width: 5)"
   ]
  },
  {
   "cell_type": "code",
   "execution_count": 5,
   "metadata": {
    "collapsed": false
   },
   "outputs": [
    {
     "data": {
      "text/html": [
       "<html><div id='beakerChart5'></div><script>var j = {\"type\":\"Plot\",\"init_width\":640,\"init_height\":480,\"chart_title\":\"Bars\",\"show_legend\":null,\"use_tool_tip\":true,\"legend_position\":{\"type\":\"LegendPosition\",\"position\":\"TOP_RIGHT\"},\"legend_layout\":\"VERTICAL\",\"element_styles\":{},\"domain_axis_label\":null,\"y_label\":\"\",\"rangeAxes\":[{\"type\":\"YAxis\",\"label\":\"\",\"auto_range\":true,\"auto_range_includes_zero\":false,\"lower_margin\":0.0,\"upper_margin\":0.0,\"lower_bound\":0.0,\"upper_bound\":0.0,\"use_log\":false,\"log_base\":10.0}],\"x_lower_margin\":0.05,\"x_upper_margin\":0.05,\"y_auto_range\":true,\"y_auto_range_includes_zero\":false,\"y_lower_margin\":0.0,\"y_upper_margin\":0.0,\"y_lower_bound\":0.0,\"y_upper_bound\":0.0,\"log_y\":false,\"timezone\":null,\"crosshair\":null,\"omit_checkboxes\":false,\"graphics_list\":[{\"type\":\"Bars\",\"uid\":\"2c0db19c-6248-4cbb-8926-5603d8d870b7\",\"visible\":true,\"yAxis\":null,\"hasClickAction\":false,\"x\":[1,2,3,4,5],\"y\":[3,5,2,3,7],\"display_name\":\"\",\"base\":0.0,\"width\":0.3,\"colors\":[\"#80FF0000\",\"#80FF0000\",\"#80FF0000\",\"#FFFF0000\",\"#80FF0000\"],\"outline_color\":\"#FF000000\"}],\"constant_lines\":[],\"constant_bands\":[],\"texts\":[],\"x_auto_range\":true,\"x_lower_bound\":0.0,\"x_upper_bound\":0.0,\"log_x\":false,\"x_log_base\":10.0,\"x_tickLabels_visible\":true,\"y_tickLabels_visible\":true}; console.log('plot this:'); console.log(j); window.initPlotd(j,'beakerChart5');</script></html>"
      ]
     },
     "execution_count": 5,
     "metadata": {},
     "output_type": "execute_result"
    }
   ],
   "source": [
    "def plot = new com.twosigma.beaker.widgets.chart.xychart.Plot(title: \"Bars\")\n",
    "def cs = [new Color(255, 0, 0, 128)] * 5 // transparent bars\n",
    "cs[3] = Color.red // set color of a single bar, solid colored bar\n",
    "plot << new Bars(x: (1..5), y: [3, 5, 2, 3, 7], color: cs, outlineColor: Color.black, width: 0.3)"
   ]
  },
  {
   "cell_type": "code",
   "execution_count": 6,
   "metadata": {
    "collapsed": false
   },
   "outputs": [
    {
     "data": {
      "text/html": [
       "<html><div id='beakerChart6'></div><script>var j = {\"type\":\"Plot\",\"init_width\":640,\"init_height\":480,\"chart_title\":\"Changing Point Size, Color, Shape\",\"show_legend\":null,\"use_tool_tip\":true,\"legend_position\":{\"type\":\"LegendPosition\",\"position\":\"TOP_RIGHT\"},\"legend_layout\":\"VERTICAL\",\"element_styles\":{},\"domain_axis_label\":null,\"y_label\":\"\",\"rangeAxes\":[{\"type\":\"YAxis\",\"label\":\"\",\"auto_range\":true,\"auto_range_includes_zero\":false,\"lower_margin\":0.0,\"upper_margin\":0.0,\"lower_bound\":0.0,\"upper_bound\":0.0,\"use_log\":false,\"log_base\":10.0}],\"x_lower_margin\":0.05,\"x_upper_margin\":0.05,\"y_auto_range\":true,\"y_auto_range_includes_zero\":false,\"y_lower_margin\":0.0,\"y_upper_margin\":0.0,\"y_lower_bound\":0.0,\"y_upper_bound\":0.0,\"log_y\":false,\"timezone\":null,\"crosshair\":null,\"omit_checkboxes\":false,\"graphics_list\":[{\"type\":\"Points\",\"uid\":\"163cb193-7c98-46f0-99e7-67947cef5858\",\"visible\":true,\"yAxis\":null,\"hasClickAction\":false,\"x\":[0,1,2,3,4,5],\"y\":[6,7,12,11,8,14],\"display_name\":\"\",\"size\":6.0,\"shape\":\"DEFAULT\",\"fill\":null,\"color\":null,\"outline_color\":null},{\"type\":\"Points\",\"uid\":\"b8cea867-41a1-4615-9a87-d6a9954e494b\",\"visible\":true,\"yAxis\":null,\"hasClickAction\":false,\"x\":[0,1,2,3,4,5],\"y\":[4,5,10,9,6,12],\"display_name\":\"\",\"size\":6.0,\"shape\":\"CIRCLE\",\"fill\":null,\"color\":null,\"outline_color\":null},{\"type\":\"Points\",\"uid\":\"a9b586d2-1315-4d7a-9789-327f6975eea1\",\"visible\":true,\"yAxis\":null,\"hasClickAction\":false,\"x\":[0,1,2,3,4,5],\"y\":[2,3,8,7,4,10],\"display_name\":\"\",\"size\":8.0,\"shape\":\"DIAMOND\",\"fill\":null,\"color\":null,\"outline_color\":null},{\"type\":\"Points\",\"uid\":\"37c6a833-650d-46e4-b619-2f63be9f1cc4\",\"visible\":true,\"yAxis\":null,\"hasClickAction\":false,\"x\":[0,1,2,3,4,5],\"y\":[0,1,6,5,2,8],\"display_name\":\"\",\"size\":12.0,\"shape\":\"DEFAULT\",\"fill\":null,\"color\":\"#FFFFC800\",\"outline_color\":\"#FFFF0000\"}],\"constant_lines\":[],\"constant_bands\":[],\"texts\":[],\"x_auto_range\":true,\"x_lower_bound\":0.0,\"x_upper_bound\":0.0,\"log_x\":false,\"x_log_base\":10.0,\"x_tickLabels_visible\":true,\"y_tickLabels_visible\":true}; console.log('plot this:'); console.log(j); window.initPlotd(j,'beakerChart6');</script></html>"
      ]
     },
     "execution_count": 6,
     "metadata": {},
     "output_type": "execute_result"
    }
   ],
   "source": [
    "def plot = new com.twosigma.beaker.widgets.chart.xychart.Plot(title: \"Changing Point Size, Color, Shape\")\n",
    "def y1 = [6, 7, 12, 11, 8, 14]\n",
    "def y2 = y1.collect { it - 2 }\n",
    "def y3 = y2.collect { it - 2 }\n",
    "def y4 = y3.collect { it - 2 }\n",
    "plot << new Points(y: y1)\n",
    "plot << new Points(y: y2, shape: ShapeType.CIRCLE)\n",
    "plot << new Points(y: y3, size: 8.0, shape: ShapeType.DIAMOND)\n",
    "plot << new Points(y: y4, size: 12.0, color: Color.orange, outlineColor: Color.red)"
   ]
  },
  {
   "cell_type": "code",
   "execution_count": 7,
   "metadata": {
    "collapsed": false
   },
   "outputs": [
    {
     "data": {
      "text/html": [
       "<html><div id='beakerChart7'></div><script>var j = {\"type\":\"Plot\",\"init_width\":640,\"init_height\":480,\"chart_title\":\"Changing point properties with list\",\"show_legend\":null,\"use_tool_tip\":true,\"legend_position\":{\"type\":\"LegendPosition\",\"position\":\"TOP_RIGHT\"},\"legend_layout\":\"VERTICAL\",\"element_styles\":{},\"domain_axis_label\":null,\"y_label\":\"\",\"rangeAxes\":[{\"type\":\"YAxis\",\"label\":\"\",\"auto_range\":true,\"auto_range_includes_zero\":false,\"lower_margin\":0.0,\"upper_margin\":0.0,\"lower_bound\":0.0,\"upper_bound\":0.0,\"use_log\":false,\"log_base\":10.0}],\"x_lower_margin\":0.05,\"x_upper_margin\":0.05,\"y_auto_range\":true,\"y_auto_range_includes_zero\":false,\"y_lower_margin\":0.0,\"y_upper_margin\":0.0,\"y_lower_bound\":0.0,\"y_upper_bound\":0.0,\"log_y\":false,\"timezone\":null,\"crosshair\":null,\"omit_checkboxes\":false,\"graphics_list\":[{\"type\":\"Points\",\"uid\":\"1a76577e-e4fd-4650-ac1d-e4287cb4b664\",\"visible\":true,\"yAxis\":null,\"hasClickAction\":false,\"x\":[0,1,2,3,4,5],\"y\":[5,5,5,5,5,5],\"display_name\":\"\",\"size\":12.0,\"shape\":\"DEFAULT\",\"fill\":null,\"colors\":[\"#FF000000\",\"#FFFF0000\",\"#FFFFC800\",\"#FF00FF00\",\"#FF0000FF\",\"#FFFFAFAF\"],\"outline_color\":null},{\"type\":\"Points\",\"uid\":\"db75f4cd-1d7c-44e3-96f2-f090970cb160\",\"visible\":true,\"yAxis\":null,\"hasClickAction\":false,\"x\":[0,1,2,3,4,5],\"y\":[4,4,4,4,4,4],\"display_name\":\"\",\"size\":12.0,\"shape\":\"DEFAULT\",\"fill\":null,\"color\":\"#FF808080\",\"outline_colors\":[\"#FF000000\",\"#FFFF0000\",\"#FFFFC800\",\"#FF00FF00\",\"#FF0000FF\",\"#FFFFAFAF\"]},{\"type\":\"Points\",\"uid\":\"09a8eaa4-2350-4ccc-8b96-39a8f833138e\",\"visible\":true,\"yAxis\":null,\"hasClickAction\":false,\"x\":[0,1,2,3,4,5],\"y\":[3,3,3,3,3,3],\"display_name\":\"\",\"sizes\":[6.0,9.0,12.0,15.0,18.0,21.0],\"shape\":\"DEFAULT\",\"fill\":null,\"color\":\"#FFFF0000\",\"outline_color\":null},{\"type\":\"Points\",\"uid\":\"167128ef-9862-47aa-a9b0-a49b5f765a98\",\"visible\":true,\"yAxis\":null,\"hasClickAction\":false,\"x\":[0,1,2,3,4,5],\"y\":[2,2,2,2,2,2],\"display_name\":\"\",\"size\":12.0,\"shape\":\"DEFAULT\",\"fills\":[false,false,false,true,false,false],\"color\":\"#FF000000\",\"outline_color\":\"#FF000000\"}],\"constant_lines\":[],\"constant_bands\":[],\"texts\":[],\"x_auto_range\":true,\"x_lower_bound\":0.0,\"x_upper_bound\":0.0,\"log_x\":false,\"x_log_base\":10.0,\"x_tickLabels_visible\":true,\"y_tickLabels_visible\":true}; console.log('plot this:'); console.log(j); window.initPlotd(j,'beakerChart7');</script></html>"
      ]
     },
     "execution_count": 7,
     "metadata": {},
     "output_type": "execute_result"
    }
   ],
   "source": [
    "def plot = new com.twosigma.beaker.widgets.chart.xychart.Plot(title: \"Changing point properties with list\")\n",
    "def cs = [Color.black, Color.red, Color.orange, Color.green, Color.blue, Color.pink]\n",
    "def ss = [6.0, 9.0, 12.0, 15.0, 18.0, 21.0]\n",
    "def fs = [false, false, false, true, false, false]\n",
    "plot << [new Points(y: [5] * 6, size: 12.0, color: cs),\n",
    "         new Points(y: [4] * 6, size: 12.0, color: Color.gray, outlineColor: cs),\n",
    "         new Points(y: [3] * 6, size: ss, color: Color.red),\n",
    "         new Points(y: [2] * 6, size: 12.0, color: Color.black, fill: fs, outlineColor: Color.black)]"
   ]
  },
  {
   "cell_type": "code",
   "execution_count": 8,
   "metadata": {
    "collapsed": false
   },
   "outputs": [
    {
     "data": {
      "text/html": [
       "<html><div id='beakerChart8'></div><script>var j = {\"type\":\"Plot\",\"init_width\":640,\"init_height\":480,\"chart_title\":null,\"show_legend\":null,\"use_tool_tip\":true,\"legend_position\":{\"type\":\"LegendPosition\",\"position\":\"TOP_RIGHT\"},\"legend_layout\":\"VERTICAL\",\"element_styles\":{},\"domain_axis_label\":null,\"y_label\":\"\",\"rangeAxes\":[{\"type\":\"YAxis\",\"label\":\"\",\"auto_range\":true,\"auto_range_includes_zero\":false,\"lower_margin\":0.0,\"upper_margin\":0.0,\"lower_bound\":0.0,\"upper_bound\":0.0,\"use_log\":false,\"log_base\":10.0}],\"x_lower_margin\":0.05,\"x_upper_margin\":0.05,\"y_auto_range\":true,\"y_auto_range_includes_zero\":false,\"y_lower_margin\":0.0,\"y_upper_margin\":0.0,\"y_lower_bound\":0.0,\"y_upper_bound\":0.0,\"log_y\":false,\"timezone\":null,\"crosshair\":null,\"omit_checkboxes\":false,\"graphics_list\":[{\"type\":\"Area\",\"uid\":\"7a89957e-db00-4c77-bfc7-1f5f75c142da\",\"visible\":true,\"yAxis\":null,\"hasClickAction\":false,\"x\":[0,1,2,3],\"y\":[3,5,2,3],\"display_name\":\"\",\"base\":0.0},{\"type\":\"Area\",\"uid\":\"4a8f8ed7-4b17-4479-a6f4-e43346c74a09\",\"visible\":true,\"yAxis\":null,\"hasClickAction\":false,\"x\":[3,4,5,8],\"y\":[3,5,2,3],\"display_name\":\"\",\"base\":0.0,\"color\":\"#32808080\",\"interpolation\":0}],\"constant_lines\":[],\"constant_bands\":[],\"texts\":[],\"x_auto_range\":true,\"x_lower_bound\":0.0,\"x_upper_bound\":0.0,\"log_x\":false,\"x_log_base\":10.0,\"x_tickLabels_visible\":true,\"y_tickLabels_visible\":true}; console.log('plot this:'); console.log(j); window.initPlotd(j,'beakerChart8');</script></html>"
      ]
     },
     "execution_count": 8,
     "metadata": {},
     "output_type": "execute_result"
    }
   ],
   "source": [
    "def plot = new com.twosigma.beaker.widgets.chart.xychart.Plot()\n",
    "def y = [3, 5, 2, 3]\n",
    "def x0 = [0, 1, 2, 3]\n",
    "def x1 = [3, 4, 5, 8]\n",
    "plot << new Area(x: x0, y: y)\n",
    "plot << new Area(x: x1, y: y, color: new Color(128, 128, 128, 50), interpolation: 0)"
   ]
  },
  {
   "cell_type": "code",
   "execution_count": 9,
   "metadata": {
    "collapsed": false
   },
   "outputs": [
    {
     "data": {
      "text/html": [
       "<html><div id='beakerChart9'></div><script>var j = {\"type\":\"Plot\",\"init_width\":640,\"init_height\":480,\"chart_title\":null,\"show_legend\":null,\"use_tool_tip\":true,\"legend_position\":{\"type\":\"LegendPosition\",\"position\":\"TOP_RIGHT\"},\"legend_layout\":\"VERTICAL\",\"element_styles\":{},\"domain_axis_label\":null,\"y_label\":\"\",\"rangeAxes\":[{\"type\":\"YAxis\",\"label\":\"\",\"auto_range\":true,\"auto_range_includes_zero\":false,\"lower_margin\":0.0,\"upper_margin\":0.0,\"lower_bound\":0.0,\"upper_bound\":0.0,\"use_log\":false,\"log_base\":10.0}],\"x_lower_margin\":0.05,\"x_upper_margin\":0.05,\"y_auto_range\":true,\"y_auto_range_includes_zero\":false,\"y_lower_margin\":0.0,\"y_upper_margin\":0.0,\"y_lower_bound\":0.0,\"y_upper_bound\":0.0,\"log_y\":false,\"timezone\":null,\"crosshair\":null,\"omit_checkboxes\":false,\"graphics_list\":[{\"type\":\"Line\",\"uid\":\"f4252e98-397c-4fec-b17c-536f69c6f765\",\"visible\":true,\"yAxis\":null,\"hasClickAction\":false,\"x\":[0,1,2,3],\"y\":[3,6,12,24],\"display_name\":\"Median\",\"width\":1.5},{\"type\":\"Area\",\"uid\":\"f3c67c42-f279-4c56-80f6-59099afdbc7f\",\"visible\":true,\"yAxis\":null,\"hasClickAction\":false,\"x\":[0,1,2,3],\"y\":[4,8,16,32],\"display_name\":\"Q1 to Q3\",\"bases\":[2,4,8,16],\"color\":\"#32FF0000\"}],\"constant_lines\":[],\"constant_bands\":[],\"texts\":[],\"x_auto_range\":true,\"x_lower_bound\":0.0,\"x_upper_bound\":0.0,\"log_x\":false,\"x_log_base\":10.0,\"x_tickLabels_visible\":true,\"y_tickLabels_visible\":true}; console.log('plot this:'); console.log(j); window.initPlotd(j,'beakerChart9');</script></html>"
      ]
     },
     "execution_count": 9,
     "metadata": {},
     "output_type": "execute_result"
    }
   ],
   "source": [
    "def p = new com.twosigma.beaker.widgets.chart.xychart.Plot()\n",
    "p << new Line(y: [3, 6, 12, 24], displayName: \"Median\")\n",
    "p << new Area(y: [4, 8, 16, 32], base: [2, 4, 8, 16],\n",
    "              color: new Color(255, 0, 0, 50), displayName: \"Q1 to Q3\")"
   ]
  },
  {
   "cell_type": "code",
   "execution_count": 10,
   "metadata": {
    "collapsed": false
   },
   "outputs": [
    {
     "data": {
      "text/html": [
       "<html><div id='beakerChart10'></div><script>var j = {\"type\":\"Plot\",\"init_width\":640,\"init_height\":200,\"chart_title\":\"Plot with XYStacker\",\"show_legend\":null,\"use_tool_tip\":true,\"legend_position\":{\"type\":\"LegendPosition\",\"position\":\"TOP_RIGHT\"},\"legend_layout\":\"VERTICAL\",\"element_styles\":{},\"domain_axis_label\":null,\"y_label\":\"\",\"rangeAxes\":[{\"type\":\"YAxis\",\"label\":\"\",\"auto_range\":true,\"auto_range_includes_zero\":false,\"lower_margin\":0.0,\"upper_margin\":0.0,\"lower_bound\":0.0,\"upper_bound\":0.0,\"use_log\":false,\"log_base\":10.0}],\"x_lower_margin\":0.05,\"x_upper_margin\":0.05,\"y_auto_range\":true,\"y_auto_range_includes_zero\":false,\"y_lower_margin\":0.0,\"y_upper_margin\":0.0,\"y_lower_bound\":0.0,\"y_upper_bound\":0.0,\"log_y\":false,\"timezone\":null,\"crosshair\":null,\"omit_checkboxes\":false,\"graphics_list\":[{\"type\":\"Area\",\"uid\":\"bfa7dbbb-6671-4062-a2d1-15f83ed195e1\",\"visible\":true,\"yAxis\":null,\"hasClickAction\":false,\"x\":[0,1,2,3,4],\"y\":[1,5,3,2,3],\"display_name\":\"y1\",\"base\":0.0},{\"type\":\"Area\",\"uid\":\"cad156d9-e701-4b4a-a75d-eb64c56ddd2c\",\"visible\":true,\"yAxis\":null,\"hasClickAction\":false,\"x\":[0,1,2,3,4],\"y\":[8.0,7.0,7.0,3.0,6.0],\"display_name\":\"y2\",\"bases\":[1,5,3,2,3]}],\"constant_lines\":[],\"constant_bands\":[],\"texts\":[],\"x_auto_range\":true,\"x_lower_bound\":0.0,\"x_upper_bound\":0.0,\"log_x\":false,\"x_log_base\":10.0,\"x_tickLabels_visible\":true,\"y_tickLabels_visible\":true}; console.log('plot this:'); console.log(j); window.initPlotd(j,'beakerChart10');</script></html>"
      ]
     },
     "execution_count": 10,
     "metadata": {},
     "output_type": "execute_result"
    }
   ],
   "source": [
    "def y1 = [1,5,3,2,3]\n",
    "def y2 = [7,2,4,1,3]\n",
    "def p = new com.twosigma.beaker.widgets.chart.xychart.Plot(title: 'Plot with XYStacker', initHeight: 200)\n",
    "def a1 = new Area(y: y1, displayName: 'y1')\n",
    "def a2 = new Area(y: y2, displayName: 'y2')\n",
    "p << XYStacker.stack([a1, a2])"
   ]
  },
  {
   "cell_type": "code",
   "execution_count": 11,
   "metadata": {
    "collapsed": false
   },
   "outputs": [
    {
     "data": {
      "text/html": [
       "<html><div id='beakerChart11'></div><script>var j = {\"type\":\"Plot\",\"init_width\":640,\"init_height\":480,\"chart_title\":null,\"show_legend\":null,\"use_tool_tip\":true,\"legend_position\":{\"type\":\"LegendPosition\",\"position\":\"TOP_RIGHT\"},\"legend_layout\":\"VERTICAL\",\"element_styles\":{},\"domain_axis_label\":null,\"y_label\":\"\",\"rangeAxes\":[{\"type\":\"YAxis\",\"label\":\"\",\"auto_range\":true,\"auto_range_includes_zero\":false,\"lower_margin\":0.0,\"upper_margin\":0.0,\"lower_bound\":0.0,\"upper_bound\":0.0,\"use_log\":false,\"log_base\":10.0}],\"x_lower_margin\":0.05,\"x_upper_margin\":0.05,\"y_auto_range\":true,\"y_auto_range_includes_zero\":false,\"y_lower_margin\":0.0,\"y_upper_margin\":0.0,\"y_lower_bound\":0.0,\"y_upper_bound\":0.0,\"log_y\":false,\"timezone\":null,\"crosshair\":null,\"omit_checkboxes\":false,\"graphics_list\":[{\"type\":\"Line\",\"uid\":\"98c3c140-dda1-47c0-b565-60bc6bbeb43c\",\"visible\":true,\"yAxis\":null,\"hasClickAction\":false,\"x\":[0,1],\"y\":[-1,1],\"display_name\":\"\",\"width\":1.5}],\"constant_lines\":[{\"type\":\"ConstantLine\",\"x\":0.65,\"y\":null,\"visible\":true,\"yAxis\":null,\"showLabel\":false,\"width\":1.5,\"style\":\"DOT\",\"color\":\"#FF0000FF\"},{\"type\":\"ConstantLine\",\"x\":null,\"y\":0.1,\"visible\":true,\"yAxis\":null,\"showLabel\":false,\"width\":1.5,\"style\":\"DASHDOT\",\"color\":\"#FF0000FF\"},{\"type\":\"ConstantLine\",\"x\":0.3,\"y\":0.4,\"visible\":true,\"yAxis\":null,\"showLabel\":true,\"width\":5.0,\"color\":\"#FF808080\"}],\"constant_bands\":[],\"texts\":[],\"x_auto_range\":true,\"x_lower_bound\":0.0,\"x_upper_bound\":0.0,\"log_x\":false,\"x_log_base\":10.0,\"x_tickLabels_visible\":true,\"y_tickLabels_visible\":true}; console.log('plot this:'); console.log(j); window.initPlotd(j,'beakerChart11');</script></html>"
      ]
     },
     "execution_count": 11,
     "metadata": {},
     "output_type": "execute_result"
    }
   ],
   "source": [
    "def p = new com.twosigma.beaker.widgets.chart.xychart.Plot ()\n",
    "p << new Line(y: [-1, 1])\n",
    "p << new ConstantLine(x: 0.65, style: StrokeType.DOT, color: Color.blue)\n",
    "p << new ConstantLine(y: 0.1, style: StrokeType.DASHDOT, color: Color.blue)\n",
    "p << new ConstantLine(x: 0.3, y: 0.4, color: Color.gray, width: 5, showLabel: true)"
   ]
  },
  {
   "cell_type": "code",
   "execution_count": 12,
   "metadata": {
    "collapsed": false
   },
   "outputs": [
    {
     "data": {
      "text/html": [
       "<html><div id='beakerChart12'></div><script>var j = {\"type\":\"Plot\",\"init_width\":640,\"init_height\":480,\"chart_title\":null,\"show_legend\":null,\"use_tool_tip\":true,\"legend_position\":{\"type\":\"LegendPosition\",\"position\":\"TOP_RIGHT\"},\"legend_layout\":\"VERTICAL\",\"element_styles\":{},\"domain_axis_label\":null,\"y_label\":\"\",\"rangeAxes\":[{\"type\":\"YAxis\",\"label\":\"\",\"auto_range\":true,\"auto_range_includes_zero\":false,\"lower_margin\":0.0,\"upper_margin\":0.0,\"lower_bound\":0.0,\"upper_bound\":0.0,\"use_log\":false,\"log_base\":10.0}],\"x_lower_margin\":0.05,\"x_upper_margin\":0.05,\"y_auto_range\":true,\"y_auto_range_includes_zero\":false,\"y_lower_margin\":0.0,\"y_upper_margin\":0.0,\"y_lower_bound\":0.0,\"y_upper_bound\":0.0,\"log_y\":false,\"timezone\":null,\"crosshair\":null,\"omit_checkboxes\":false,\"graphics_list\":[{\"type\":\"Line\",\"uid\":\"cef49752-7dcd-4534-bd8a-76878684b606\",\"visible\":true,\"yAxis\":null,\"hasClickAction\":false,\"x\":[0,1,2,3,4],\"y\":[-3,1,3,4,5],\"display_name\":\"\",\"width\":1.5}],\"constant_lines\":[],\"constant_bands\":[{\"type\":\"ConstantBand\",\"x\":[1,2],\"y\":[1,3],\"visible\":true,\"yAxis\":null,\"color\":\"#7F007FFF\"}],\"texts\":[],\"x_auto_range\":true,\"x_lower_bound\":0.0,\"x_upper_bound\":0.0,\"log_x\":false,\"x_log_base\":10.0,\"x_tickLabels_visible\":true,\"y_tickLabels_visible\":true}; console.log('plot this:'); console.log(j); window.initPlotd(j,'beakerChart12');</script></html>"
      ]
     },
     "execution_count": 12,
     "metadata": {},
     "output_type": "execute_result"
    }
   ],
   "source": [
    "new com.twosigma.beaker.widgets.chart.xychart.Plot() << new Line(y: [-3, 1, 3, 4, 5]) << new ConstantBand(x: [1, 2], y: [1, 3])"
   ]
  },
  {
   "cell_type": "code",
   "execution_count": 13,
   "metadata": {
    "collapsed": false
   },
   "outputs": [
    {
     "data": {
      "text/html": [
       "<html><div id='beakerChart13'></div><script>var j = {\"type\":\"Plot\",\"init_width\":640,\"init_height\":480,\"chart_title\":null,\"show_legend\":null,\"use_tool_tip\":true,\"legend_position\":{\"type\":\"LegendPosition\",\"position\":\"TOP_RIGHT\"},\"legend_layout\":\"VERTICAL\",\"element_styles\":{},\"domain_axis_label\":null,\"y_label\":\"\",\"rangeAxes\":[{\"type\":\"YAxis\",\"label\":\"\",\"auto_range\":true,\"auto_range_includes_zero\":false,\"lower_margin\":0.0,\"upper_margin\":0.0,\"lower_bound\":0.0,\"upper_bound\":0.0,\"use_log\":false,\"log_base\":10.0}],\"x_lower_margin\":0.05,\"x_upper_margin\":0.05,\"y_auto_range\":true,\"y_auto_range_includes_zero\":false,\"y_lower_margin\":0.0,\"y_upper_margin\":0.0,\"y_lower_bound\":0.0,\"y_upper_bound\":0.0,\"log_y\":false,\"timezone\":null,\"crosshair\":null,\"omit_checkboxes\":false,\"graphics_list\":[{\"type\":\"Line\",\"uid\":\"5240cb6c-a5fc-44d0-a0f7-f70e897d6803\",\"visible\":true,\"yAxis\":null,\"hasClickAction\":false,\"x\":[-3,1,2,4,5],\"y\":[4,2,6,1,5],\"display_name\":\"\",\"width\":1.5}],\"constant_lines\":[],\"constant_bands\":[{\"type\":\"ConstantBand\",\"x\":[\"-Infinity\",1],\"y\":null,\"visible\":true,\"yAxis\":null,\"color\":\"#32808080\"},{\"type\":\"ConstantBand\",\"x\":[1,2],\"y\":null,\"visible\":true,\"yAxis\":null,\"color\":\"#7F007FFF\"},{\"type\":\"ConstantBand\",\"x\":[4,\"Infinity\"],\"y\":null,\"visible\":true,\"yAxis\":null,\"color\":\"#7F007FFF\"}],\"texts\":[],\"x_auto_range\":true,\"x_lower_bound\":0.0,\"x_upper_bound\":0.0,\"log_x\":false,\"x_log_base\":10.0,\"x_tickLabels_visible\":true,\"y_tickLabels_visible\":true}; console.log('plot this:'); console.log(j); window.initPlotd(j,'beakerChart13');</script></html>"
      ]
     },
     "execution_count": 13,
     "metadata": {},
     "output_type": "execute_result"
    }
   ],
   "source": [
    "def p = new com.twosigma.beaker.widgets.chart.xychart.Plot() \n",
    "p << new Line(x: [-3, 1, 2, 4, 5], y: [4, 2, 6, 1, 5])\n",
    "p << new ConstantBand(x: [Double.NEGATIVE_INFINITY, 1], color: new Color(128, 128, 128, 50))\n",
    "p << new ConstantBand(x: [1, 2])\n",
    "p << new ConstantBand(x: [4, Double.POSITIVE_INFINITY])"
   ]
  },
  {
   "cell_type": "code",
   "execution_count": 14,
   "metadata": {
    "collapsed": false
   },
   "outputs": [
    {
     "data": {
      "text/html": [
       "<html><div id='beakerChart14'></div><script>var j = {\"type\":\"Plot\",\"init_width\":640,\"init_height\":480,\"chart_title\":null,\"show_legend\":null,\"use_tool_tip\":true,\"legend_position\":{\"type\":\"LegendPosition\",\"position\":\"TOP_RIGHT\"},\"legend_layout\":\"VERTICAL\",\"element_styles\":{},\"domain_axis_label\":null,\"y_label\":\"\",\"rangeAxes\":[{\"type\":\"YAxis\",\"label\":\"\",\"auto_range\":true,\"auto_range_includes_zero\":false,\"lower_margin\":0.0,\"upper_margin\":0.0,\"lower_bound\":0.0,\"upper_bound\":0.0,\"use_log\":false,\"log_base\":10.0}],\"x_lower_margin\":0.05,\"x_upper_margin\":0.05,\"y_auto_range\":true,\"y_auto_range_includes_zero\":false,\"y_lower_margin\":0.0,\"y_upper_margin\":0.0,\"y_lower_bound\":0.0,\"y_upper_bound\":0.0,\"log_y\":false,\"timezone\":null,\"crosshair\":null,\"omit_checkboxes\":false,\"graphics_list\":[{\"type\":\"Line\",\"uid\":\"222dce77-7f2e-481a-b806-6cbd9fbeeb57\",\"visible\":true,\"yAxis\":null,\"hasClickAction\":false,\"x\":[1,2,3,4,5,6,7,8,9,10],\"y\":[8.6,6.1,7.4,2.5,0.4,0.0,0.5,1.7,8.4,1],\"display_name\":\"\",\"width\":1.5},{\"type\":\"Points\",\"uid\":\"60a4d36c-b9ff-41fb-b4e0-b643aff818b6\",\"visible\":true,\"yAxis\":null,\"hasClickAction\":false,\"x\":[1,2,3,4,5,6,7,8,9,10],\"y\":[8.6,6.1,7.4,2.5,0.4,0.0,0.5,1.7,8.4,1],\"display_name\":\"\",\"size\":6.0,\"shape\":\"DEFAULT\",\"fill\":null,\"color\":null,\"outline_color\":null}],\"constant_lines\":[],\"constant_bands\":[],\"texts\":[{\"type\":\"Text\",\"x\":2,\"y\":6.1,\"show_pointer\":true,\"text\":\"min\",\"pointer_angle\":-0.3333333333,\"color\":null,\"size\":13},{\"type\":\"Text\",\"x\":3,\"y\":7.4,\"show_pointer\":true,\"text\":\"max\",\"pointer_angle\":-0.6666666667,\"color\":null,\"size\":13},{\"type\":\"Text\",\"x\":4,\"y\":2.5,\"show_pointer\":true,\"text\":\"falling\",\"pointer_angle\":-1.0,\"color\":null,\"size\":13},{\"type\":\"Text\",\"x\":5,\"y\":0.4,\"show_pointer\":true,\"text\":\"falling\",\"pointer_angle\":-1.3333333333,\"color\":null,\"size\":13},{\"type\":\"Text\",\"x\":6,\"y\":0.0,\"show_pointer\":true,\"text\":\"min\",\"pointer_angle\":-1.6666666667,\"color\":null,\"size\":13},{\"type\":\"Text\",\"x\":7,\"y\":0.5,\"show_pointer\":true,\"text\":\"rising\",\"pointer_angle\":-2.0,\"color\":null,\"size\":13},{\"type\":\"Text\",\"x\":8,\"y\":1.7,\"show_pointer\":true,\"text\":\"rising\",\"pointer_angle\":-2.3333333333,\"color\":null,\"size\":13},{\"type\":\"Text\",\"x\":9,\"y\":8.4,\"show_pointer\":true,\"text\":\"max\",\"pointer_angle\":-2.6666666667,\"color\":null,\"size\":13}],\"x_auto_range\":true,\"x_lower_bound\":0.0,\"x_upper_bound\":0.0,\"log_x\":false,\"x_log_base\":10.0,\"x_tickLabels_visible\":true,\"y_tickLabels_visible\":true}; console.log('plot this:'); console.log(j); window.initPlotd(j,'beakerChart14');</script></html>"
      ]
     },
     "execution_count": 14,
     "metadata": {},
     "output_type": "execute_result"
    }
   ],
   "source": [
    "def plot = new com.twosigma.beaker.widgets.chart.xychart.Plot()\n",
    "def xs = (1..10)\n",
    "def ys = [8.6, 6.1, 7.4, 2.5, 0.4, 0.0, 0.5, 1.7, 8.4, 1]\n",
    "def label = { i ->\n",
    "  if (ys[i] > ys[i+1] && ys[i] > ys[i-1]) return \"max\"\n",
    "  if (ys[i] < ys[i+1] && ys[i] < ys[i-1]) return \"min\"\n",
    "  if (ys[i] > ys[i-1]) return \"rising\"\n",
    "  if (ys[i] < ys[i-1]) return \"falling\"\n",
    "  return \"\"\n",
    "}\n",
    "for (i = 0; i < xs.size(); i++) {\n",
    "  if (i > 0 && i < xs.size()-1)\n",
    "    plot << new Text(x: xs[i], y: ys[i], text: label(i),  pointerAngle: -i/3.0)\n",
    "}\n",
    "plot << new Line(x: xs, y: ys)\n",
    "plot << new Points(x: xs, y: ys)"
   ]
  },
  {
   "cell_type": "code",
   "execution_count": 15,
   "metadata": {
    "collapsed": false
   },
   "outputs": [
    {
     "data": {
      "text/html": [
       "<html><div id='beakerChart15'></div><script>var j = {\"type\":\"Plot\",\"init_width\":640,\"init_height\":480,\"chart_title\":null,\"show_legend\":null,\"use_tool_tip\":true,\"legend_position\":{\"type\":\"LegendPosition\",\"position\":\"TOP\"},\"legend_layout\":\"HORIZONTAL\",\"element_styles\":{},\"domain_axis_label\":null,\"y_label\":\"\",\"rangeAxes\":[{\"type\":\"YAxis\",\"label\":\"\",\"auto_range\":true,\"auto_range_includes_zero\":false,\"lower_margin\":0.0,\"upper_margin\":0.0,\"lower_bound\":0.0,\"upper_bound\":0.0,\"use_log\":false,\"log_base\":10.0}],\"x_lower_margin\":0.05,\"x_upper_margin\":0.05,\"y_auto_range\":true,\"y_auto_range_includes_zero\":false,\"y_lower_margin\":0.0,\"y_upper_margin\":0.0,\"y_lower_bound\":0.0,\"y_upper_bound\":0.0,\"log_y\":false,\"timezone\":null,\"crosshair\":{\"type\":\"Crosshair\",\"color\":\"#FFFF8005\",\"style\":\"DOT\",\"width\":2.0},\"omit_checkboxes\":true,\"graphics_list\":[{\"type\":\"Line\",\"uid\":\"994ad42a-614d-47ea-a519-78b48cad64d3\",\"visible\":true,\"yAxis\":null,\"hasClickAction\":false,\"x\":[1,4,6,8,10],\"y\":[3,6,4,5,9],\"display_name\":\"Line\",\"width\":3.0},{\"type\":\"Bars\",\"uid\":\"235d858c-4fbd-4b0e-9b45-b057f3b0d5a7\",\"visible\":true,\"yAxis\":null,\"hasClickAction\":false,\"x\":[1,2,3,4,5,6,7,8,9,10],\"y\":[2,2,4,4,2,2,0,2,2,4],\"display_name\":\"Bar\",\"base\":0.0,\"width\":0.5,\"color\":null,\"outline_color\":null},{\"type\":\"Points\",\"uid\":\"de64bbe3-de50-4457-b17c-efe8beef80ce\",\"visible\":true,\"yAxis\":null,\"hasClickAction\":false,\"x\":[1,4,6,8,10],\"y\":[3,6,4,5,9],\"display_name\":\"\",\"tooltips\":[\"x = 1, y = 3\",\"x = 4, y = 6\",\"x = 6, y = 4\",\"x = 8, y = 5\",\"x = 10, y = 9\"],\"size\":10.0,\"shape\":\"DEFAULT\",\"fill\":null,\"color\":null,\"outline_color\":null}],\"constant_lines\":[],\"constant_bands\":[],\"texts\":[],\"x_auto_range\":true,\"x_lower_bound\":0.0,\"x_upper_bound\":0.0,\"log_x\":false,\"x_log_base\":10.0,\"x_tickLabels_visible\":true,\"y_tickLabels_visible\":true}; console.log('plot this:'); console.log(j); window.initPlotd(j,'beakerChart15');</script></html>"
      ]
     },
     "execution_count": 15,
     "metadata": {},
     "output_type": "execute_result"
    }
   ],
   "source": [
    "def ch = new Crosshair(color: new Color(255, 128, 5), width: 2, style: StrokeType.DOT)\n",
    "def pp = new com.twosigma.beaker.widgets.chart.xychart.Plot(crosshair: ch, omitCheckboxes: true,\n",
    "                  legendLayout: LegendLayout.HORIZONTAL, legendPosition: LegendPosition.TOP)\n",
    "def x = [1, 4, 6, 8, 10]\n",
    "def y = [3, 6, 4, 5, 9]\n",
    "pp << new Line(displayName: \"Line\", x: x, y: y, width: 3)\n",
    "pp << new Bars(displayName: \"Bar\", x: (1..10), y: [2, 2, 4, 4, 2, 2, 0, 2, 2, 4], width: 0.5)\n",
    "pp << new Points(x: x, y: y, size: 10, toolTip: {xs, ys -> \"x = \" + xs + \", y = \" + ys })"
   ]
  },
  {
   "cell_type": "code",
   "execution_count": 2,
   "metadata": {
    "collapsed": false
   },
   "outputs": [
    {
     "data": {
      "text/plain": []
     },
     "execution_count": 2,
     "metadata": {},
     "output_type": "execute_result"
    }
   ],
   "source": [
    "import com.twosigma.beaker.fileloader.CsvPlotReader\n",
    "\n",
    "def rates = new CsvPlotReader().read(\"tableRows.csv\")\n",
    "\n",
    "new com.twosigma.beaker.widgets.chart.xychart.SimpleTimePlot(rates, [\"y1\", \"y10\"],\n",
    "                   yLabel: \"Price\", \n",
    "                   displayNames: [\"1 Year\", \"10 Year\"])"
   ]
  },
  {
   "cell_type": "code",
   "execution_count": null,
   "metadata": {
    "collapsed": false
   },
   "outputs": [],
   "source": [
    "def points = 100;\n",
    "def logBase = 10;\n",
    "def expys = [];\n",
    "def xs = [];\n",
    "for(int i = 0; i < points; i++){\n",
    "  xs[i] = i / 15.0;\n",
    "  expys[i] = Math.exp(xs[i]); \n",
    "}\n",
    "\n",
    "def cplot = new com.twosigma.beaker.widgets.chart.xychart.CombinedPlot(xLabel: \"Linear\");\n",
    "def logYPlot = new Plot(title: \"Linear x, Log y\", yLabel: \"Log\", logY: true, yLogBase: logBase);\n",
    "logYPlot << new Line(x: xs, y: expys, displayName: \"f(x) = exp(x)\");\n",
    "logYPlot << new Line(x: xs, y: xs, displayName: \"g(x) = x\");\n",
    "cplot.add(logYPlot, 3);\n",
    "\n",
    "// works for 2nd Y axis too:\n",
    "// logYPlot << new YAxis(label: \"Right Log Y-Axis\", log: true, logBase: logBase);\n",
    "\n",
    "def linearYPlot = new Plot(title: \"Linear x, Linear y\", yLabel: \"Linear\");\n",
    "linearYPlot << new Line(x: xs, y: expys, displayName: \"f(x) = exp(x)\");\n",
    "linearYPlot << new Line(x: xs, y: xs, displayName: \"g(x) = x\");\n",
    "cplot.add(linearYPlot, 3);\n",
    "\n",
    "cplot"
   ]
  },
  {
   "cell_type": "code",
   "execution_count": 18,
   "metadata": {
    "collapsed": false
   },
   "outputs": [
    {
     "data": {
      "text/html": [
       "<html><div id='beakerChart18'></div><script>var j = {\"type\":\"Plot\",\"init_width\":640,\"init_height\":480,\"chart_title\":\"Log x, Log y\",\"show_legend\":null,\"use_tool_tip\":true,\"legend_position\":{\"type\":\"LegendPosition\",\"position\":\"TOP_RIGHT\"},\"legend_layout\":\"VERTICAL\",\"element_styles\":{},\"domain_axis_label\":\"Log\",\"y_label\":\"Log\",\"rangeAxes\":[{\"type\":\"YAxis\",\"label\":\"Log\",\"auto_range\":true,\"auto_range_includes_zero\":false,\"lower_margin\":0.0,\"upper_margin\":0.0,\"lower_bound\":0.0,\"upper_bound\":0.0,\"use_log\":true,\"log_base\":10.0}],\"x_lower_margin\":0.05,\"x_upper_margin\":0.05,\"y_auto_range\":true,\"y_auto_range_includes_zero\":false,\"y_lower_margin\":0.0,\"y_upper_margin\":0.0,\"y_lower_bound\":0.0,\"y_upper_bound\":0.0,\"log_y\":true,\"timezone\":null,\"crosshair\":null,\"omit_checkboxes\":false,\"graphics_list\":[{\"type\":\"Line\",\"uid\":\"f143a636-cd47-4dde-9dc1-54d5583986f1\",\"visible\":true,\"yAxis\":null,\"hasClickAction\":false,\"x\":[0,0.0666666667,0.1333333333,0.2,0.2666666667,0.3333333333,0.4,0.4666666667,0.5333333333,0.6,0.6666666667,0.7333333333,0.8,0.8666666667,0.9333333333,1,1.0666666667,1.1333333333,1.2,1.2666666667,1.3333333333,1.4,1.4666666667,1.5333333333,1.6,1.6666666667,1.7333333333,1.8,1.8666666667,1.9333333333,2,2.0666666667,2.1333333333,2.2,2.2666666667,2.3333333333,2.4,2.4666666667,2.5333333333,2.6,2.6666666667,2.7333333333,2.8,2.8666666667,2.9333333333,3,3.0666666667,3.1333333333,3.2,3.2666666667,3.3333333333,3.4,3.4666666667,3.5333333333,3.6,3.6666666667,3.7333333333,3.8,3.8666666667,3.9333333333,4,4.0666666667,4.1333333333,4.2,4.2666666667,4.3333333333,4.4,4.4666666667,4.5333333333,4.6,4.6666666667,4.7333333333,4.8,4.8666666667,4.9333333333,5,5.0666666667,5.1333333333,5.2,5.2666666667,5.3333333333,5.4,5.4666666667,5.5333333333,5.6,5.6666666667,5.7333333333,5.8,5.8666666667,5.9333333333,6,6.0666666667,6.1333333333,6.2,6.2666666667,6.3333333333,6.4,6.4666666667,6.5333333333,6.6],\"y\":[1.0,1.0689391057828777,1.142630811757635,1.2214027581601699,1.3056051721084723,1.3956124250395692,1.4918246976412703,1.5946697582814713,1.704604865265933,1.8221188003905089,1.9477340411196002,2.082009084009055,2.225540928492468,2.3789677299859338,2.542971637723189,2.718281828459045,2.9056777469788573,3.1059925722381867,3.3201169227365472,3.5490028144846044,3.7936678945567217,4.0551999668446745,4.334761826329701,4.633596429955265,4.953032424395115,5.2944900506465125,5.659487459748477,6.0496474644129465,6.466704750911227,6.912513593109683,7.38905609893065,7.898451018970449,8.442963168443832,9.025013499434122,9.647189859763508,10.312258500982024,11.023176380641601,11.783104303209972,12.5954209759601,13.463738035001692,14.391916095629622,15.384081920226127,16.444646771097048,17.57832601441177,18.79016008912619,20.085536923187668,21.470215877841202,22.950353359129874,24.532530197109352,26.223780891489508,28.03162489359175,29.96410004739701,32.02979831025325,34.237903960744234,36.59823444367799,39.121283999457255,41.81827033127602,44.701184493300815,47.78284417970442,51.07695072410811,54.598150033144236,58.36209767382858,62.38552849283677,66.68633104092515,71.28362707082746,76.19785657043064,81.45086866496814,87.06601871596963,93.06827218101702,99.48431564193378,106.3426754017103,113.67384433909561,121.51041751873485,129.88723704578052,138.8415470064412,148.4131591025766,158.64462957752013,169.5814484608922,181.27224187515122,193.7689881332816,207.12724888293027,221.40641620418717,236.6699765518954,252.98579307573902,270.42640742615254,289.0693621341878,308.99754543804573,330.2995599096486,353.07011621029767,377.4104542627515,403.4287934927351,431.24081376318935,460.9701697950074,492.7490410932563,526.7187193615957,563.0302368171834,601.8450378720822,643.3356966028456,687.6866841760816,735.0951892419727],\"display_name\":\"f(x) = exp(x)\",\"width\":1.5},{\"type\":\"Line\",\"uid\":\"995ef3b1-dcd0-41e5-b8b4-96e1b4533a6d\",\"visible\":true,\"yAxis\":null,\"hasClickAction\":false,\"x\":[0,0.0666666667,0.1333333333,0.2,0.2666666667,0.3333333333,0.4,0.4666666667,0.5333333333,0.6,0.6666666667,0.7333333333,0.8,0.8666666667,0.9333333333,1,1.0666666667,1.1333333333,1.2,1.2666666667,1.3333333333,1.4,1.4666666667,1.5333333333,1.6,1.6666666667,1.7333333333,1.8,1.8666666667,1.9333333333,2,2.0666666667,2.1333333333,2.2,2.2666666667,2.3333333333,2.4,2.4666666667,2.5333333333,2.6,2.6666666667,2.7333333333,2.8,2.8666666667,2.9333333333,3,3.0666666667,3.1333333333,3.2,3.2666666667,3.3333333333,3.4,3.4666666667,3.5333333333,3.6,3.6666666667,3.7333333333,3.8,3.8666666667,3.9333333333,4,4.0666666667,4.1333333333,4.2,4.2666666667,4.3333333333,4.4,4.4666666667,4.5333333333,4.6,4.6666666667,4.7333333333,4.8,4.8666666667,4.9333333333,5,5.0666666667,5.1333333333,5.2,5.2666666667,5.3333333333,5.4,5.4666666667,5.5333333333,5.6,5.6666666667,5.7333333333,5.8,5.8666666667,5.9333333333,6,6.0666666667,6.1333333333,6.2,6.2666666667,6.3333333333,6.4,6.4666666667,6.5333333333,6.6],\"y\":[0,0.0666666667,0.1333333333,0.2,0.2666666667,0.3333333333,0.4,0.4666666667,0.5333333333,0.6,0.6666666667,0.7333333333,0.8,0.8666666667,0.9333333333,1,1.0666666667,1.1333333333,1.2,1.2666666667,1.3333333333,1.4,1.4666666667,1.5333333333,1.6,1.6666666667,1.7333333333,1.8,1.8666666667,1.9333333333,2,2.0666666667,2.1333333333,2.2,2.2666666667,2.3333333333,2.4,2.4666666667,2.5333333333,2.6,2.6666666667,2.7333333333,2.8,2.8666666667,2.9333333333,3,3.0666666667,3.1333333333,3.2,3.2666666667,3.3333333333,3.4,3.4666666667,3.5333333333,3.6,3.6666666667,3.7333333333,3.8,3.8666666667,3.9333333333,4,4.0666666667,4.1333333333,4.2,4.2666666667,4.3333333333,4.4,4.4666666667,4.5333333333,4.6,4.6666666667,4.7333333333,4.8,4.8666666667,4.9333333333,5,5.0666666667,5.1333333333,5.2,5.2666666667,5.3333333333,5.4,5.4666666667,5.5333333333,5.6,5.6666666667,5.7333333333,5.8,5.8666666667,5.9333333333,6,6.0666666667,6.1333333333,6.2,6.2666666667,6.3333333333,6.4,6.4666666667,6.5333333333,6.6],\"display_name\":\"f(x) = x\",\"width\":1.5}],\"constant_lines\":[],\"constant_bands\":[],\"texts\":[],\"x_auto_range\":true,\"x_lower_bound\":0.0,\"x_upper_bound\":0.0,\"log_x\":true,\"x_log_base\":10.0,\"x_tickLabels_visible\":true,\"y_tickLabels_visible\":true}; console.log('plot this:'); console.log(j); window.initPlotd(j,'beakerChart18');</script></html>"
      ]
     },
     "execution_count": 18,
     "metadata": {},
     "output_type": "execute_result"
    }
   ],
   "source": [
    "def points = 100;\n",
    "def logBase = 10;\n",
    "def expys = [];\n",
    "def xs = [];\n",
    "for(int i = 0; i < points; i++){\n",
    "  xs[i] = i /15\n",
    "  expys[i] = Math.exp(xs[i]);\n",
    "}\n",
    "\n",
    "def plot = new com.twosigma.beaker.widgets.chart.xychart.Plot(title: \"Log x, Log y\", xLabel: \"Log\", yLabel: \"Log\",\n",
    "                    logX: true, xLogBase: logBase, logY: true, yLogBase: logBase);\n",
    "\n",
    "plot << new Line(x: xs, y: expys, displayName: \"f(x) = exp(x)\");\n",
    "plot << new Line(x: xs, y: xs, displayName: \"f(x) = x\");\n",
    "\n",
    "plot"
   ]
  },
  {
   "cell_type": "code",
   "execution_count": 19,
   "metadata": {
    "collapsed": false
   },
   "outputs": [
    {
     "data": {
      "text/html": [
       "<html><div id='beakerChart19'></div><script>var j = {\"type\":\"TimePlot\",\"init_width\":640,\"init_height\":480,\"chart_title\":null,\"show_legend\":null,\"use_tool_tip\":true,\"legend_position\":{\"type\":\"LegendPosition\",\"position\":\"TOP_RIGHT\"},\"legend_layout\":\"VERTICAL\",\"element_styles\":{},\"domain_axis_label\":null,\"y_label\":\"\",\"rangeAxes\":[{\"type\":\"YAxis\",\"label\":\"\",\"auto_range\":true,\"auto_range_includes_zero\":false,\"lower_margin\":0.0,\"upper_margin\":0.0,\"lower_bound\":0.0,\"upper_bound\":0.0,\"use_log\":false,\"log_base\":10.0}],\"x_lower_margin\":0.05,\"x_upper_margin\":0.05,\"y_auto_range\":true,\"y_auto_range_includes_zero\":false,\"y_lower_margin\":0.0,\"y_upper_margin\":0.0,\"y_lower_bound\":0.0,\"y_upper_bound\":0.0,\"log_y\":false,\"timezone\":\"America/New_York\",\"crosshair\":null,\"omit_checkboxes\":false,\"graphics_list\":[{\"type\":\"Points\",\"uid\":\"cec4d336-255b-40d8-86b4-cf5e6abdfe32\",\"visible\":true,\"yAxis\":null,\"hasClickAction\":false,\"x\":[1484754154133,1484757754133,1484761354133,1484764954133,1484768554133,1484772154133,1484775754133,1484779354133,1484782954133,1484786554133,1484790154133],\"y\":[0,1,2,3,4,5,6,7,8,9,10],\"display_name\":\"milliseconds\",\"size\":10.0,\"shape\":\"DEFAULT\",\"fill\":null,\"color\":null,\"outline_color\":null},{\"type\":\"Points\",\"uid\":\"dffb4e4f-80ee-41f4-9b88-681c3ec9be6b\",\"visible\":true,\"yAxis\":null,\"hasClickAction\":false,\"x\":[1484754154109,1484757754109,1484761354109,1484764954109,1484768554109,1484772154109,1484775754109,1484779354109,1484782954109,1484786554109,1484790154109],\"y\":[0,1,2,3,4,5,6,7,8,9,10],\"display_name\":\"date objects\",\"size\":4.0,\"shape\":\"DEFAULT\",\"fill\":null,\"color\":null,\"outline_color\":null}],\"constant_lines\":[],\"constant_bands\":[],\"texts\":[],\"x_auto_range\":true,\"x_lower_bound\":0.0,\"x_upper_bound\":0.0,\"log_x\":false,\"x_log_base\":10.0,\"x_tickLabels_visible\":true,\"y_tickLabels_visible\":true}; console.log('plot this:'); console.log(j); window.initPlotd(j,'beakerChart19');</script></html>"
      ]
     },
     "execution_count": 19,
     "metadata": {},
     "output_type": "execute_result"
    }
   ],
   "source": [
    "def cal = Calendar.getInstance();\n",
    "cal.add(Calendar.HOUR, -1)\n",
    "\n",
    "def today = new Date();\n",
    "def millis = today.time;\n",
    "def hour = 1000 * 60 * 60;\n",
    "\n",
    "def plot = new com.twosigma.beaker.widgets.chart.xychart.TimePlot(\n",
    "  timeZone: new SimpleTimeZone(10800000, \"America/New_York\")\n",
    ");\n",
    "//list of milliseconds\n",
    "plot << new Points(x:(0..10).collect{millis + hour * it}, y:(0..10), size: 10, displayName: \"milliseconds\");\n",
    "//list of java.util.Date objects\n",
    "plot << new Points(x:(0..10).collect{cal.add(Calendar.HOUR, 1); cal.getTime()}, y:(0..10), size: 4, displayName: \"date objects\");"
   ]
  },
  {
   "cell_type": "code",
   "execution_count": 20,
   "metadata": {
    "collapsed": false
   },
   "outputs": [
    {
     "data": {
      "text/html": [
       "<html><div id='beakerChart20'></div><script>var j = {\"type\":\"NanoPlot\",\"init_width\":640,\"init_height\":480,\"chart_title\":null,\"show_legend\":null,\"use_tool_tip\":true,\"legend_position\":{\"type\":\"LegendPosition\",\"position\":\"TOP_RIGHT\"},\"legend_layout\":\"VERTICAL\",\"element_styles\":{},\"domain_axis_label\":null,\"y_label\":\"\",\"rangeAxes\":[{\"type\":\"YAxis\",\"label\":\"\",\"auto_range\":true,\"auto_range_includes_zero\":false,\"lower_margin\":0.0,\"upper_margin\":0.0,\"lower_bound\":0.0,\"upper_bound\":0.0,\"use_log\":false,\"log_base\":10.0}],\"x_lower_margin\":0.05,\"x_upper_margin\":0.05,\"y_auto_range\":true,\"y_auto_range_includes_zero\":false,\"y_lower_margin\":0.0,\"y_upper_margin\":0.0,\"y_lower_bound\":0.0,\"y_upper_bound\":0.0,\"log_y\":false,\"timezone\":null,\"crosshair\":null,\"omit_checkboxes\":false,\"graphics_list\":[{\"type\":\"Points\",\"uid\":\"ef1ff321-644d-4864-8ec0-ce90b2cef731\",\"visible\":true,\"yAxis\":null,\"hasClickAction\":false,\"x\":[\"1484754176298000000\",\"1484754176298000007\",\"1484754176298000014\",\"1484754176298000021\",\"1484754176298000028\",\"1484754176298000035\",\"1484754176298000042\",\"1484754176298000049\",\"1484754176298000056\",\"1484754176298000063\",\"1484754176298000070\"],\"y\":[0,1,2,3,4,5,6,7,8,9,10],\"display_name\":\"\",\"size\":6.0,\"shape\":\"DEFAULT\",\"fill\":null,\"color\":null,\"outline_color\":null}],\"constant_lines\":[],\"constant_bands\":[],\"texts\":[],\"x_auto_range\":true,\"x_lower_bound\":0.0,\"x_upper_bound\":0.0,\"log_x\":false,\"x_log_base\":10.0,\"x_tickLabels_visible\":true,\"y_tickLabels_visible\":true}; console.log('plot this:'); console.log(j); window.initPlotd(j,'beakerChart20');</script></html>"
      ]
     },
     "execution_count": 20,
     "metadata": {},
     "output_type": "execute_result"
    }
   ],
   "source": [
    "def today  = new Date()\n",
    "def millis = today.time\n",
    "def nanos  = millis * 1000 * 1000g // g makes it arbitrary precision\n",
    "def np = new NanoPlot()\n",
    "np << new Points(x:(0..10).collect{nanos + 7 * it}, y:(0..10))"
   ]
  },
  {
   "cell_type": "code",
   "execution_count": 24,
   "metadata": {
    "collapsed": false
   },
   "outputs": [
    {
     "data": {
      "text/html": [
       "<html><div id='beakerChart24'></div><script>var j = {\"type\":\"Plot\",\"init_width\":640,\"init_height\":480,\"chart_title\":\"Advanced Plot Styling\",\"show_legend\":null,\"use_tool_tip\":true,\"legend_position\":{\"type\":\"LegendPosition\",\"position\":\"TOP_RIGHT\"},\"legend_layout\":\"VERTICAL\",\"element_styles\":{\".plot-label\":\"font-size:32px; font-weight: bold; font-family: courier; fill: green;\",\".plot-title\":\"color: green;\",\".plot-gridline\":\"stroke: purple; stroke-width: 3;\"},\"domain_axis_label\":null,\"y_label\":\"\",\"rangeAxes\":[{\"type\":\"YAxis\",\"label\":\"\",\"auto_range\":true,\"auto_range_includes_zero\":false,\"lower_margin\":0.0,\"upper_margin\":0.0,\"lower_bound\":0.0,\"upper_bound\":0.0,\"use_log\":false,\"log_base\":10.0}],\"x_lower_margin\":0.05,\"x_upper_margin\":0.05,\"y_auto_range\":true,\"y_auto_range_includes_zero\":false,\"y_lower_margin\":0.0,\"y_upper_margin\":0.0,\"y_lower_bound\":0.0,\"y_upper_bound\":0.0,\"log_y\":false,\"timezone\":null,\"crosshair\":null,\"omit_checkboxes\":false,\"graphics_list\":[{\"type\":\"Points\",\"uid\":\"40cd6987-35d7-4c2f-8247-ed572ba6d8e1\",\"visible\":true,\"yAxis\":null,\"hasClickAction\":false,\"x\":[10.479918280465121,-2.513687779437915,0.6861405589635526,-1.3701902781919884,6.972194357944628,1.9453872094772373,-3.0028785841693812,1.8888687494008558,-8.996693981642633,9.159761278614493,11.853955886861485,-0.07348542414057015,10.149319960902204,19.05805622679539,2.8331960217478764,7.962253108646458,9.046027015123654,-18.55601976502672,-1.7720660257119758,12.981110157892283,9.335073899896178,-0.6610004125220033,-3.060727940201391,-1.8667128596190616,-2.9625314626907846,-10.039747172608038,2.8233503734593763,-16.276237962422805,3.5812774955896582,10.585002991266247,-9.381333633040665,5.95515097852604,1.2840215519975604,3.740664818202441,-12.335649635145543,-8.04231968134821,-9.080874321696024,-2.578644715242606,-12.800626009153174,-4.269935487104323,7.9943657247609305,5.827318729290246,-9.71164154381736,17.880379372345033,1.855187439180167,3.794840425471782,8.3149435157488,14.449522389765665,-17.206716213766917,-16.270470918850787,-2.1318001310477954,11.944813631022857,13.817619181025611,2.404080407210831,5.568639763683446,-0.008187215904992775,0.7535453531097304,-25.523245046064353,3.599366985774709,-2.8598420160221947,-0.9284119833186144,2.474807846354739,-22.061479134132625,-0.5885387356406049,-4.7772897988590035,-8.833361465208675,9.807229849371705,-2.3446273529788257,-26.425951978694915,12.878409198854126,7.042484324397585,-6.988917505810815,-35.049823007061576,-3.5031641076762905,16.36195608680069,0.9532702132753573,-3.570535454175569,4.1438612714055765,-28.251162764662936,-6.455397332553922,8.553377565085864,-2.212085358644778,10.789877108846326,-4.799636119400791,-25.663701863592365,4.609535967512716,6.948163433974743,6.993425066047781,4.507675817276582,-14.958151842488432,-26.78045392648911,1.8663180199952214,1.4689859618552623,-8.511698212601766,-11.689822129272597,-7.159119252517595,3.770591469610693,12.858991634503298,-2.2504900003533415,-15.961335114438242,19.3267194394749,-1.0348962698074944,6.746102489278737,-5.5225250289433,3.4070215207721297,3.1275510943810354,-8.25448518808851,2.7931057087612006,-6.5402478665441555,-2.4093942273110116,-7.803415772022619,-6.469342468061301,7.353775459414655,5.0081350462851475,-6.322512386928155,-13.130463741868699,8.031043667748417,5.839738001810665,-1.2781525524430992,13.968811375992388,13.172593902100134,2.6235221536983984,-4.457540752766934,-7.0566169992429995,6.477237033689941,7.779441523323451,-13.272552979740414,-7.955210282654809,1.6447982716984968,-16.202687463463693,-20.746662898599688,-9.394923927592016,-6.606605522092453,5.3682433704324435,-0.9427500234551188,14.188839958252498,7.600497930541438,-7.619462558023049,-3.0333916981107856,2.1710732037502254,3.762527069044327,-5.596738211084728,2.837235395009226,6.266794106475249,-1.1046273783837615,0.8527424064256619,0.9870090204001847,-9.830098073893401,14.605342794944217,-3.181765112951686,-1.2243986303948526,-9.823649092016701,-1.6621245788165115,-2.6097553830131854,-9.053803855199478,-10.163687954760094,-10.673079888000952,3.8233472990564317,6.3112126155682375,7.01464492735051,25.120818453680545,-6.810926401828185,-6.069279019140331,-16.588584444024804,-3.6625074949282648,12.509439352805598,0.1450343378118721,6.302460649984311,-6.141745570465113,-0.4216492639181859,-7.136010998275154,-0.21968338052748593,0.53210833558783,-11.024202828390447,-0.24046585619193675,-18.316106572399587,7.396717433542563,-16.73203391652027,-14.7944080389919,2.122754756040714,0.49721063685854544,5.920003483844215,-10.887872681367416,3.7023807677841387,-7.861376996524989,6.4185213067258315,-11.226915376029456,-6.668232829729187,-0.4422091578641931,5.12054511269572,3.376292445409417,2.8157209328493216,4.567623390605739,-2.2128006927700987,-11.416718642421749,-2.439307965257023,17.841879386281136,-8.056868210700106,12.099162065417675,13.722894403101193,8.135494572520786,11.879259087672667,-11.198371265070667,22.67961719352922,6.343481011262126,-12.365700706191218,-6.105239823552706,7.483925884455148,-10.136468406231412,-20.511573782235125,0.6597294322032915,-18.530085004692506,-6.571114010027613,-17.485214035739595,-5.661574048434764,17.251416312620048,-17.269986377514613,12.70083293995925,-17.3307229326593,14.156708305109497,-6.673449336895745,-3.351541950229611,-2.8238627791658857,-5.068011364430825,-17.588609717949343,6.367296435651469,-0.3139806434865168,-11.31253765366564,7.811116678653548,10.453317859704711,1.7852990839188885,10.06552154859017,-6.1119550109245635,1.2216865378857418,-1.0819252372238937,17.302334224250856,4.024563426166317,-4.091156590803654,-17.313924679767247,-16.731865098707523,-12.838687442447739,8.601974339676653,-2.350323169133842,-14.715633558384543,-7.956638385684986,-33.54114245892897,6.1189853353359,5.285955311858011,16.865699189999468,0.02575816319074855,-2.1178268209804076,-16.397335257930003,21.79896406276562,4.194146566808881,-10.348389850316062,3.1340865331480745,6.095396922543945,1.8688414061345002,-0.33325691692316317,-26.23207928542631,-3.916425624466511,-0.3448081989183247,-1.5546581132540922,13.401675183154651,-0.632117706738623,1.043587012194198,2.110146999244881,6.291701414554068,-4.7608918117994445,17.19451053830008,-10.33066586663418,-7.360024415014072,9.251966049785404,9.939988865648445,24.499692805640258,-1.413085418533899,-28.968616320750264,-1.37232512466265,-0.9376370338249418,10.441130872146235,-5.820959583354634,3.2546729376037584,6.1877886505262385,21.16174455634161,-13.824948802069951,12.420822890094158,7.9749886873701925,1.3219142894242475,-10.791601843904903,16.24842110590574,-10.29039353523341,-15.199247997016164,-4.619766697487316,-0.121476402039462,5.9747529687427905,-4.976752773361336,-8.18713566996397,0.676786067884117,9.580817385065346,14.790369856556637,5.85802717515959,14.32369507718395,0.07953320502886965,6.647872124477575,-2.831710205577514,4.8327166945308795,-7.237309275855966,5.564204772912595,7.64442990223292,0.7524723052929867,-13.024974518739787,6.101207202377349,2.105254590972911,-3.521246412475319,4.692691731539213,-18.939872645190196,25.88121388355289,-8.360959002114829,2.3681207172719594,-6.725344302417723,6.331223637902109,0.04961527324966754,-7.947844594446014,7.46028465085108,-1.206904415737102,-1.7971121779337698,-0.20012582969683032,15.495641016491003,15.928570853623222,5.66558643641088,-14.61547737623031,-10.084917342430229,2.654319705107894,1.2891842874809425,-4.759655222404755,4.153633727638381,-3.1708151405008165,-2.990827093154813,-10.752485047534858,-7.207952278181192,14.6672355790746,2.8031298285502224,-0.8180412878050585,-2.460255442531856,10.107263396806832,-1.7345063025794727,-6.464689307020475,3.2738790257075805,0.025490476637762736,-1.487164164569462,-5.6348389461229145,-12.006592234799719,-9.787216636525706,-7.172604783872457,-5.189511790019871,17.4669520312807,-6.802804764191106,-4.085457888167618,-9.07772224747013,-9.918111695979384,18.67619990876704,-13.497044252506555,16.198651834108027,-11.314397289838237,-7.567719905369781,-4.739411707018386,-18.835604357544696,6.8534894517651646,-20.844782895630473,29.802484696369817,32.66147249937861,12.413195091226232,1.19958288358291,-7.05710069585138,0.07348108803373914,2.6509988923857692,10.38202354670107,11.758542403093815,8.495562187736326,3.302559232003193,-3.895141915214824,-14.142196179014979,-2.523237673321037,-1.6053092682862335,24.603101780413255,4.60814397939903,17.86552010774056,-13.055430557439573,-13.477771987801724,9.847521866884142,-18.069618912744424,11.203862233331652,-7.626037563418388,6.836658758133057,-0.39139197470864295,-2.183075387218499,-11.267865575337847,3.3009739588337474,-3.711312144634484,-4.192763550495925,-2.92154829862356,15.102283204023266,10.612803380715363,4.869628368483633,8.18339470613513,-15.01466319420069,-14.397990691655787,18.966298320089873,2.995703889219257,19.32712524798369,-8.425819372167474,2.5301932041177584,3.3219121711706663,7.300678548639581,-0.8760806624471833,-17.0399348896541,9.344494029477795,-2.402788019132434,-3.4215296818814385,-4.19717670800832,-16.548951352073743,10.581372603725265,22.034853291715365,12.631587897388123,20.092440517591626,-2.4056521523084844,5.499844236764938,3.2525423574965147,13.41157912122309,13.750954846468641,0.13926695387578766,-0.4119390158331152,5.924513168532796,-1.5572558217561223,-13.0184759104555,0.23981638348363224,-1.9376581847838759,-5.187879917370827,12.801436707394371,-8.436043756959736,6.224897455984481,-5.075669881350624,11.222086265313147,10.000706912027596,1.389186385970806,-2.9488328784819866,2.137280969218518,-4.074041698192945,-14.954894971073658,-8.533545235335861,-10.1753501988549,-6.766487588796296,-14.686711641865244,0.3480457613577895,-0.7435952493777463,1.1336642902806628,-1.6246267146665747,17.026060422501292,9.458808462063091,-0.6676033912890815,5.259105768313921,-1.5163064276870033,18.348043187558137,-13.916280881020374,-2.8775100178150033,6.404579202216871,14.854214620556954,9.778526625119408,0.05166916216807962,-2.587565706877294,-16.95387600651303,0.17548140490800512,-0.6777976735622032,5.77521456981885,8.252289389289334,-15.963057744599002,14.896643052621704,17.207919649434366,8.738831615178903,13.489332239250176,-12.985347993511095,16.495073235598912,-9.85068418805062,5.259550582269084,6.2429792875764445,6.002914055474546,7.0897958017307,14.886944632040988,-7.318598568803348,-10.754405039463704,-10.717671017189101,-3.5454910312419843,2.888590098704367,-6.837776044588784,10.00625260950554,8.230436680430238,5.51917536275028,2.413941332299547,-19.37912370089557,-0.5997875245761886,-0.5602455542744406,-0.7099313538217511,-7.297194360893766,3.8819838800306767,-3.214816799579575,15.415943329223312,-2.855392827213677,-9.851744306389987,-15.891597759801723,18.080972481190432,16.301143696739132,-7.4768914803428554,10.38103617542368,-2.4287609115538356,12.1013111675553,-3.6094386467714368,-3.0549993985814394,2.7034372880993427,11.649008244526456,7.0704503315709,10.499315938194458,-1.2980349742975026,11.621741286881564,-6.311580522844768,13.469571106273081,2.487355855548409,8.202909489174337,9.895814523805026,-1.5422584184060457,-5.359295225372129,-3.7813904546630766,3.926849562716699,-26.767951877321362,3.8628357133157514,-22.633782890059795,-17.699386032537884,11.260890859092891,15.584190365507059,0.8787478277008391,8.887209578649259,0.00474225956382817,20.203903304654034,0.395677773385572,7.1125942254519225,-13.177214231330389,-3.12710678396607,-27.68468515546829,16.17585992943122,-12.361369017166643,9.504814230146483,8.692318146471006,-5.340265596960188,-2.079314097571374,8.724605188391642,-3.794090548455266,16.352522131411785,-5.987292724453894,5.953101685638171,-3.5194876715267776,-15.266654491727996,-10.865628631584572,2.561950120523985,1.1496902455107298,20.834228615210463,-4.124489650314957,5.285533598571929,4.148897838439394,14.413945421119251,-1.4489439797272319,-9.875605346607584,15.79996276300379,-8.229910847774168,14.169843522614283,1.51634225648441,6.896789649319757,23.660450459493557,-11.716053721171411,6.136120252771552,0.03793037981919127,-18.46084054843088,8.162599350134357,17.054786911485202,8.07674780239651,0.8479006329630299,8.95831223981245,-11.421595886917721,11.79449070696667,16.09874551758105,-8.688514720085399,-2.423292002974418,-4.512539687943196,-25.227536294613483,9.92847910666888,-1.3144015287524358,-14.191541051391015,-19.814427680424625,4.102696355835345,-8.654926100208368,10.732835962511071,-3.0802133084578367,-1.2466880503978075,5.483058495014142,6.5375806051888405,10.009678819312686,-13.443586779756176,8.349337621526237,1.239308711131318,17.370585261541965,-8.136146009795626,-7.580249163703655,-4.355630552204347,-4.3326778966916235,-14.460765232545679,21.525944578083415,17.953468689543193,11.145975085218776,2.582187125252645,-2.5743809849085135,-0.4731496511862243,-0.3708626742446209,-16.15676158190619,-9.585321625687747,-7.8277293576125695,-9.29823253698258,7.58782163532698,2.863121449739376,5.904709980915252,-4.498390887006077,4.083510750777916,-4.59646538772467,-1.1194642528528107,-2.750932623115691,-5.59679372461857,-2.4414412965129237,-0.6814183789802599,13.476752294460262,11.278201987435034,20.2174140110848,2.325656900356332,8.815904712796618,-0.6311808419077594,-5.0395046223072795,0.7111098603211429,-18.479701366485337,9.747349441222081,3.1420574551327256,3.7875367320881654,1.6670489336735297,0.32784811260477936,-2.4818334886502837,11.977557314872339,-4.037751586798431,0.08346739147326357,-0.7980405606664442,-12.821056277726369,-2.6063927394954134,6.921830913914196,17.41675535432522,1.4712635917316397,15.09045691700683,-7.713971009605758,-4.233244591307549,-10.651381612035852,23.730699356681846,10.984942467480119,1.5445090489125624,25.458804031912447,-15.792829925760115,0.4113160017124701,-1.879962575699363,7.028048334250193,-4.293574291074405,-3.6508262391794153,-14.606681375604483,-3.1021626831593316,-15.785931969395516,4.508617041926311,8.23774001678321,-3.3455033214065693,1.8018534745693815,-11.31561245764658,1.2105155541408237,8.619819745975764,-8.802260636236678,-3.9344045494502793,1.0662475537677518,-5.656353593853934,10.900901267358039,-0.9116763855951573,18.24869287128626,-10.99942867811877,12.235587232640617,22.31069959134597,-3.306598163642629,-15.154720051908036,25.592213615286205,-9.064524455113425,3.6884246134375784,17.845650362846072,4.596683283924387,-5.913660335089432,-6.912337059104012,-3.2480670157226466,-3.9312472204435216,-2.395615330159264,6.271819642451702,8.23848412955613,-6.080261707045507,-6.3490147504381635,1.2187243990261967,-6.472789303822914,-8.194414776583535,-7.307045959806918,5.546184541038286,-0.2723051297320126,10.029164092177346,11.411952293874334,4.258273215895087,-6.511086149799874,15.308709528133253,-7.32134159598821,4.724725104364586,9.516729324143817,-0.15687974055112391,9.309403344982215,16.69673847706703,4.383204601634673,-16.709323606454525,-10.675499747937437,4.670054110224532,-3.360398299099253,0.08999636028704439,-11.722918367765969,-0.1506662631214781,-8.220499201070577,7.559785488737091,14.65405945327387,-5.635263714971329,-2.9494052205955965,-23.74365495198147,-5.978353208051055,-13.198105119115027,-6.788052706853095,-7.290446308353507,-1.444295253993593,14.503107587714117,-8.344086532268694,17.21670744858907,-14.163933953292307,-6.889877754441275,4.399259838892503,9.282007815150784,-7.63706607185205,-14.749738481730692,-16.13644704220849,-3.1832309289618226,-12.869132465622663,-7.737273889824369,-10.883514628718212,-2.8267082767096916,-4.487946834792639,-9.22239936736592,-7.23683892801179,-14.914050650166457,-4.4555661942000215,6.531337731759647,1.715884607319138,9.500732899852999,-19.565955317076988,25.86304907455171,-2.167654087735232,13.948374769884534,-9.986003585154954,-7.324093975908142,-2.931039784774885,-1.1315813674690087,-3.728907514104629,-4.2851717888560295,-4.479893015908706,-14.688847542886714,-17.561257899776994,-6.415168989434601,3.413150004740166,-7.950870906949454,1.5002704029831442,15.678120994590465,5.433330891843843,-30.5783343463545,10.159614040732649,9.61163146755238,6.543311118688347,-4.92812347702573,-6.852883846038078,-2.5584570661397517,0.4981876183306211,20.823905023164645,-8.091250584049316,-19.453669156860975,-15.090504602602575,-2.822319325229406,-7.29833198618561,-10.26754763201711,-19.60972417437558,2.713303648629681,9.977280524144593,-18.745870663022366,8.577812673140448,-5.802253247700021,-11.885445207392616,2.8279380079490855,15.0980915332744,1.806594036991298,2.8562392537502257,-7.11785255526466,9.015202168938357,6.146644876557346,14.56574094910965,-8.117315189553855,-11.809185389557118,3.2972513111908297,1.9315647241525529,-28.09997514797445,10.032479330628616,-2.500627695546316,9.135710064944181,-2.5263128265001673,-2.8017980542077447,7.6892182974370735,-2.693228510646674,2.6465168245134665,-3.085913785309949,-1.3373720581087514,-1.005183215330594,13.991535155459163,-11.237099567303881,-16.724514070863425,0.28190551617365645,3.6272515332250115,9.46749744898958,-15.445729371867792,-17.138802058353463,-4.431316047099693,-8.059165746697728,1.9888935452611451,-9.093622349148262,-12.577772803764699,4.198203352893811,2.8922469717984463,5.072937330880427,1.5204159673211364,-2.209712236789636,16.88948693297914,15.642761582130804,2.0069807230907815,-1.4428683397875544,4.963546459012886,2.4859076545215633,16.20966324759538,7.264834662458068,-13.528285265957285,-19.658504992246446,-6.917970447458397,-9.893385594563807,10.68660838623554,-6.28473010659358,-16.3522264852852,-7.614520763942636,-8.088888867201412,-4.141316302999518,-13.055766030783147,-3.0128944471612433,10.90197628672831,10.723700770367907,4.6642477084003975,-11.418435257451861,4.431718417755182,3.7322609190068596,-8.369901541925964,-16.829319398526646,-15.666864475490225,-5.701229598762616,2.370753766157696,-8.91737586895635,-11.589372851476597,0.9089030164548526,1.118296724414717,9.340456710539737,-3.9299522300737393,-6.606769084419694,-7.276329340426485,-9.5414704984594,9.930744286523726,-17.755350976582534,-1.1795009880343348,4.741129942739731,-12.133436879778674,16.140987150159663,-20.659580053906836,-17.898493332078306,-9.771657743466497,-6.189587340119347,13.012464987089023,2.6241981280784477,-8.244409969074106,5.197682549325746,0.7524595939336516,-2.557731147574216,-5.343149201014919,-9.041702585345249,10.852746043742847,-7.958912593763353,-4.755516217102153,3.0413747897468584,10.892375571810927,-5.248393938324685,-0.24567141865728492,2.2568537102066717,-6.362294282803338,7.631858222187628,-2.3010280121553754,0.45205966315027346,-4.366315171822323,-1.3476005349674336,-0.36438198699872076,-10.34602112224842,9.905135522917735,3.7621434324521,5.694284333643988,6.998323095649125,9.403875455405432,10.668214539660188,-4.707847615856508,3.0098523353986266,23.77444730368705,-0.4203079194232283,-18.024480058259748,5.4322283036563395,-5.663334988555899,4.049734317203823,5.291783355597049,-9.487653082457989,-5.122410092535245,0.716661393115895,13.186451064545588,-8.101207867221959,-3.2306999200814768,-9.771621398424461,-25.533311056709973,-11.229596361462338,-12.66994579846451,5.0203589065794665,21.37246904124534,6.586746819177842,-5.19291981813038,6.605698967379703,7.316000179434443,2.3968159724715505,-6.893393798214845,7.160346063391313,1.3335075195786823,-9.638909960557958,-0.42447675245075533,8.030252086306653,-3.5340685714334903,1.5615758644172413,11.75162749285219,-7.512040728351582,-2.4944969450516026,-3.1597522940434346,-7.075663455208514,10.474759259740459,-1.1123606235964019,-3.8692189824015815,-5.742705166337282,2.4684767933915848,-7.4308787712897075,-17.656318633743446,3.2734755368948125,8.546013376064707,-1.7739078427390602,5.710129548563533,0.4605820078932424,3.910085692973044,2.7818527590763438,16.562165653087707,7.079999684475352,-4.03494395059546,-6.4371296353001695,1.2277513205631485,-11.85375444364011,13.220750559239946,-8.514984782722522,16.01678605893584,4.296688720987511,10.929223479564314,16.182688842091444,10.19397560395392,-1.611843398783662,-0.7006783335299,-4.230133606906893],\"y\":[28.788961457754553,31.711096774171878,-19.2698406314734,-1.288555676117531,-9.617863696385214,8.832007173500035,-21.961123476999404,-31.0395467129757,41.80909944134694,-0.0660415112760935,-10.622148154508197,24.6593038317136,2.785760317700955,1.4565751219953933,-7.278587186388776,4.874568551395785,9.180867103739953,-47.99580837157755,14.399256163785392,-12.098929378302838,-8.82569546573794,4.544812214785337,6.240861768630661,11.934561237414467,29.625735285906604,2.7689804433602982,-69.6727892927196,-32.18799700966307,-23.696449072959652,-8.963071060939228,15.244128565147339,-12.219497815002264,17.644096190153643,24.951066952923075,20.50074143025046,-1.7743121335844358,37.23433216578763,-17.005840858978296,0.09893256452695354,-16.64457185125802,8.290760915189944,-13.398484859962425,-9.15166345226426,2.1879871594125593,7.609444404591432,-9.45537012163321,9.09081510412335,-2.7786754834203284,-49.51283739543661,-5.062637157705829,10.301771057952172,-38.33238305712981,-3.9624158996173655,-7.014704476607437,-17.958239543222767,-28.71560981052809,34.57658706758548,24.82338078656121,-9.310082676859917,0.7586274621982471,-14.560668991369738,7.492499614046842,7.204999714102077,30.130224246415082,-10.681348249240454,-40.42061963680007,-18.259405912056096,-27.87610948086002,-28.010760529482223,-36.06757756525535,1.3495818453854944,-17.194815438462065,-22.597126882194157,-16.450494029395916,20.22880481666306,-5.4366712007191875,0.2856716310865917,-10.37356770313005,-22.811971290964948,-20.03406241010797,16.210339986313162,-7.878655415565054,11.338555360152878,37.422549812042725,18.556612154244956,16.97403281138312,-8.892031319547876,-7.259222255682806,17.768491390687224,-18.50943229723946,-21.588959192592934,-10.904454114673346,18.31668901621589,-10.310610446828633,-41.53213167091828,0.30949758467270677,26.118864443636582,2.6136611417418005,-2.920297846086117,6.432180844710493,-16.633297037778437,-30.4940216643138,-27.94954237809631,8.924058207736403,-32.025060054845945,-33.749953889062056,-16.45734232134792,4.293862861852354,0.6097018793382215,32.30376041242138,12.587029257444495,-32.34256039768344,10.718139328442948,13.46999361303573,-19.33445755108486,-17.749658669320702,-21.707809171029332,-5.282305290786285,0.35974446797768134,21.443653552040132,10.990718431982241,-25.163669599997306,-10.16453354779518,-27.613904225551657,15.317495626838442,20.379265784867325,-38.564657909638555,0.7264411927475188,-15.268013564595549,-27.682523649891884,3.854590151982235,-23.30591838716446,3.5702319141663685,-35.200303624294605,29.73607701081784,23.51649933203206,5.809826393577776,-3.285769060024593,-24.31167689205561,-15.35817617631687,-3.290917306529486,12.289637731712297,7.735326085544117,-18.39888707215107,-32.360723179183395,-9.288132863089928,-10.525177502416339,7.1825596736444925,17.19349169953387,-14.806062094558287,-5.253975271117733,2.5474721849189774,-18.4755470201577,36.964084264020855,-6.784852272307038,-28.3370577385565,12.352872891356078,-0.40418945482009705,-14.038280835150998,-12.268114151243967,45.664687884665405,-16.429477863087815,9.90879875298454,-2.1042199559453354,-22.037696473301533,1.980572582558491,-14.547709094093687,22.024801924667386,28.252375458658182,-1.313486200920872,18.24127841360176,-8.822798483535164,-8.83571946293562,-28.38417207513605,18.590508726410313,3.5926220413804226,-10.679365705252442,-29.175511327346044,-29.671000707703072,25.318558153468764,22.788283258512063,-18.85298528432197,-1.4224266041032987,18.018998177248363,-26.860530234899432,35.91127762462096,-18.601051953034947,-21.38363601062878,15.92887581009014,-7.367847969600772,40.73229154356963,-2.8947753517295816,6.783549172585895,19.01384213597327,-12.462527442814014,49.924606608805234,-10.870542177197569,9.595714177311029,-5.503961413274717,23.389281474443656,10.80380761131989,-1.003252263520197,1.8200839028893723,21.943782113208815,-4.7200095471540795,47.78646534681647,-9.359354191151413,-24.774760690400033,15.475145513227782,-7.935007250536501,-23.877597218889793,-7.590983219728847,-7.466142969829073,10.863807872958546,8.678399480875775,4.224270840644122,13.291025607437824,28.198132660839267,-3.7325223287489124,12.75637647998867,-2.0983941099124865,23.2635408329071,46.367584941997855,9.073282582875574,20.604710469511748,-6.904935952787569,16.22199178663014,38.86438011220599,3.7501417051793826,-9.607498068247036,-8.264407573404828,27.11885349131282,-33.37712350608825,8.678848651821674,-2.335770378293551,11.1284588403651,-12.997061888711293,-18.825599032461632,-16.56878015421398,23.733881360491704,-11.593675597377697,-9.11199147630747,4.566130405819444,-14.773371375289086,-1.8532345125035712,-12.832556578217641,-6.795410868325524,27.114516693825855,44.8070539785231,-9.921425173992043,-10.123601428441372,-29.032933136509243,-13.609094549188374,0.12345691709572613,6.797764249914797,-1.5443740730702156,-19.688122841883914,-19.944774497751446,-2.3805150050143977,-25.840156167763727,-1.3537231842927708,-15.318580109537907,8.169770492743444,-4.18051439562678,-35.94561792938447,-1.9340649936197996,21.359296625851613,16.368871675659346,0.9212537418442414,-13.078985608754143,-2.1684810320991446,-16.79260846643863,33.65433480460244,-8.363628983874143,3.568122220732021,54.54659582926584,-15.11722592311938,6.336970253423421,34.1042881994882,-6.321697464150136,-9.8889532885318,32.58469121311085,-0.2571948515031659,6.396843971764038,-13.23933896231246,4.8621098968031395,11.098677035238387,4.771917112702585,3.828378761020903,3.026186709833705,-2.0957176128726998,22.467744134800675,-13.914487574573336,-1.0140825782170488,-5.828271076320506,19.480392707399826,8.795785485195713,27.735870822373194,13.779364885849429,3.4914819596866837,-19.248622922445495,-13.879117123888973,29.585342456674475,13.467518064132278,16.046078211738916,17.996781030869805,0.5647122450438695,3.6481205822337284,11.70687896041022,-14.110476994921793,-2.9243960602628842,26.093901235731938,-33.12721441494614,-30.276785093633173,1.5705384828079152,14.846741699896693,-12.967875041738338,12.90898358504149,4.584531782148434,0.7691611219348139,-44.21375632038317,4.996903126449698,-1.7848130611397348,-3.202656017132586,-25.780239330961226,-6.096665347137325,-16.470948165105387,24.680515325402872,-3.1500976867914687,-19.96987967867537,32.2601696661668,6.286228077189228,-14.235629364511489,-10.250480048155033,19.97739111111564,3.1488751389339815,9.359416572101349,15.90719623692002,4.148278816610295,-25.73964012668479,-11.313748538857135,-20.327439445373724,-33.350997921676814,18.629468436699117,-46.41463910335055,-23.109308812630243,5.523997163357901,11.777023983320197,21.68103859772183,-0.8525837873572142,10.607518052479017,-10.57842231724094,54.6824419065355,35.47025403572226,-16.07977342087738,20.83705945765413,-0.541782003758087,48.889668341545836,15.88260037694985,14.336496022236409,16.34062053833874,20.297112529935497,-14.032520219622366,37.312421176349154,13.313372568194847,22.684652555771283,-18.94721939688218,-19.39009377234917,-6.759024600437147,21.189645673597354,-16.475371211121164,10.139861204445676,1.0569540750881863,-13.291657002600283,19.185291283456966,-1.410914651357848,-16.714367067776156,-1.2169590280580909,37.16458670780354,-15.036490656221396,9.48189754603742,36.72407102037207,32.7540061548927,-13.520976748589703,7.137372448655213,7.09866262675904,-18.89643884111967,-14.991198808719549,-20.93244378850317,-17.388342283614715,-1.2470888115123808,-2.3465641791194707,11.145571187613417,-20.022262358148993,10.679616221314514,57.97573727836459,-19.373526074142294,14.918281372140683,-3.231776219401202,15.909961579939171,-37.01315617703999,-24.262305291666898,35.56613764645212,-20.46534603391472,-21.988642645452817,-23.172814802836186,-25.932261127679826,-0.8390302409451831,22.258973063169613,12.702278962748451,8.276798759921842,14.94404499993549,-5.687797677594151,-9.368050647630302,-5.659609500458145,32.31725333307306,2.336515088627747,-6.7323249953620685,39.261808409145154,-7.391532859678208,29.933626228308526,9.878490930502938,24.274749203672688,0.62577406141307,11.384615624388854,0.23798584107115242,-17.840444877846643,9.437677922920736,-2.681741685747422,-18.77477532334391,24.28667929237941,8.604602220547106,7.199323140383665,-22.70883609582878,40.18762884161808,-35.77677001901053,17.31161979127747,-15.516615747147252,-35.750589276015276,-9.223295826243968,44.40487435387134,-10.383444961346237,19.670992880685066,17.10238531102106,17.24877745260415,7.401514170829445,-35.30243713968807,-6.739367939800223,-9.690123214310923,-22.07011487872686,28.216103731884857,-8.781568855109615,-33.91076029735196,31.535080483359962,11.761468870966183,-3.651675276191696,-20.337177479376894,-28.71408427909961,40.943224521703414,27.04081783260027,27.576567079370896,26.882029503760986,35.004672296532476,-29.404920280349245,-12.33934779081583,-46.426802037098824,27.424029879590627,51.15246575857292,-41.5493521927825,20.799408421390805,-13.05040876855428,13.839742466088502,-24.997225898041087,-29.44485789783574,-28.821236256875252,2.5712025344819938,-22.13463033594088,-43.860258047545656,-2.4088878208202553,-23.27025609708987,9.234149880247179,-5.550441998742297,20.048841019195088,8.172279794497872,-5.7329986089383524,-30.109596469070503,6.25602119074145,-20.507851549460206,12.478313258812738,23.169502605808358,-29.026973820775094,22.197724045564044,-23.03414694964488,-41.05743459390078,-32.45412264596618,-9.727490477119892,-5.469006706922221,2.19241112958526,24.95957531993654,-7.5788167632107575,14.046367505427451,13.858176333674109,-25.43012731831785,2.183594423850039,21.720115511422694,-18.383788133657227,1.7796001566749569,-57.4307803877749,16.299080074464232,19.00995440082263,-3.875661236261112,8.444017711256267,3.6261395928137343,-13.007417555743881,18.01122832468697,17.098227476847093,6.778216895711084,-37.374398525468415,24.900248205758494,22.055730163940503,16.5860465650044,-7.090449394364402,8.725024941727872,-13.030141199060846,-13.679270518291435,31.838589283425573,26.511558090265694,11.29487115311927,8.278950283255433,-14.061926882380662,15.411095668300849,-9.369946710198619,5.663594755934692,23.97265289465861,-13.612272948911377,7.064462126831304,18.20207490005403,8.945269030306017,24.984248284675413,-14.748621208506252,-1.95850090942813,12.102001668382558,11.897088603113628,-6.234712739782116,23.385901461102478,-3.7348517479489676,1.513483944523952,-10.446491946818622,12.95100619863028,-12.392940843878318,-20.615854002500335,13.166046094289825,7.179646722003483,-3.9291255530337716,14.62389516587116,-23.96691863150992,12.145832431575132,-5.85846631534743,-55.99943368367743,-17.941088880707625,8.212253293833284,-28.225400422119478,11.466719061950686,4.59127581915923,27.90709898531185,12.005306853983049,-2.018455286418633,34.76697058054644,-6.917193494856236,-11.04511012668399,5.188832711606941,-6.128081363992294,-24.508637982195896,-29.050468727804176,-7.556433209888488,9.309780680973203,-33.441052240075024,0.7137803343333794,-26.415797364987004,-16.057106123092964,-23.600255839548417,-14.488005430450725,-16.983422517993432,3.940865793801268,-13.574060397323821,9.550477017771078,-39.1020146797706,0.7917355679776672,-18.572680237981068,4.98246563802742,0.9636687374234577,30.07167280692462,-27.684453467341843,-15.414542362923234,10.468825069025138,2.182445144835329,-6.558456554112164,8.87522256109836,12.505581940139631,-18.561283018817512,-43.49260944447704,15.04883583784964,6.534779219312425,1.3286541496621012,2.942837614652549,54.822968262595495,-1.8783895280005076,-33.90997260109578,1.735892543556554,4.934664523418057,-27.143725881904057,-18.45214159386514,18.611711667795593,-16.38738215670147,18.46567943410943,5.744833889214193,43.67266543013641,-14.653786879937647,-9.120889166076479,-3.6286179050188414,-8.571727649964755,-15.640348169942495,-5.048572517254819,-4.6877791821039825,-21.65422615018304,7.317705920637304,8.834894202995256,-20.115618369367336,4.225045351870179,-6.112407166798196,-43.029086281295506,-11.000267078534481,10.614148118859998,5.945369410317265,-6.395911918967185,-31.477938961240138,18.977837738586125,14.066192308887938,-1.4787684887746284,-24.54673262957862,-26.80216612882536,-2.277732434139929,-4.36430615354366,-8.64465318788464,28.719120593471107,16.095933266514578,-23.832488231162273,22.080168014981297,-15.511668229705279,-8.207877488151674,-5.6759310784822645,-20.25743375394105,-11.20804208605936,-0.6244406355684393,22.738541365871797,32.83433482940267,-27.80164031200792,2.957240475835561,-17.876846750355327,-3.0016076631217583,1.1590303029840643,-3.5989893510984787,28.751771644429102,-23.37901464365229,-10.47840673566669,26.619344314616946,-23.426081612550224,-24.09191049615591,7.523489896665686,-3.4974461813764206,8.176553050739173,8.855667992474128,7.241868048975602,21.002635384829702,27.497279155272835,22.489851398186467,-47.66069786441931,-8.69682460944265,6.47116561321027,14.319381783287161,22.527046619057476,-15.321487817136298,4.084102376664252,-42.052330280825814,18.411041411846426,-23.09505444902367,3.6863233675230775,-2.2903684024449404,-17.32091892747884,-17.4110179389426,-36.0608595611222,-6.5188059674312635,-7.866032705056517,20.69654053120294,22.057235048692327,9.905751520004241,29.955185527313176,5.925243606987508,-4.935049158592639,-35.265499493616474,-8.90447955729584,20.29262380543156,15.276268060427,-24.096828692450888,-41.438221891627684,8.411858220699575,-15.337998112720976,16.48097850345469,3.4163262103676253,12.631024999927833,-16.91177364062188,4.223759103762581,-16.68236836787141,5.907474065423527,6.182353386303799,-6.392358034419522,-19.077494900090905,27.900107497391453,0.5965946762919602,-35.29077268880039,-8.142288730431156,-30.989299502530194,3.9990918256942027,15.77326755269196,-30.82866669902776,27.02617321355241,-52.46476174960221,11.8751574046322,24.46384469996466,-7.469235292929671,-26.66057025607218,-2.4459290662131647,6.23212758032278,-12.278119551888803,-1.7721242135837003,26.243990893847172,1.3454137060525106,-12.511488868559514,-24.35892931199661,17.708015377877146,-9.436274783807951,10.276115011824288,-4.917899630448447,-7.7806175172289755,-5.046704084367841,14.871198749494956,9.795182091224973,-8.143283325026882,37.763818333304215,11.501712106780362,-9.560963768912915,18.84332413107108,18.281624689523813,-20.946416289176977,14.091769010419615,23.06301636193538,3.1267982825409883,-6.728064548144918,-7.878941445235945,-26.086855357976887,23.07801124888376,-16.109933591393045,-9.144546610092775,3.0030485131111266,16.92385268403845,14.678554322743278,-12.872112440512835,-3.936314918874118,9.979148980036289,-3.0892140863003674,-30.34106905580402,19.64696154590537,10.422845401935323,-1.4188042973123929,-8.028792856838317,5.277631260954047,6.159962574027826,17.807757819898114,4.321630595925232,-16.80050470413101,14.68491151331569,11.579207555673012,-17.962668491663894,-2.444300360102179,4.574578676185687,3.393467700463318,4.206020980659475,-16.302169830768317,-1.8468147613536259,-2.393964601080118,19.782808555237278,0.8153507384822567,-6.337006801462629,-13.866291039355456,6.688516890077128,-6.2465813160522865,-9.769890945587305,35.61332472896044,-2.4702252608925703,17.379945243400623,-2.087505251602446,23.290198831850354,-41.26276261443829,5.420653284864386,6.40509512790209,-11.488687763298513,10.352162507426526,12.286651435257605,16.453094335927158,-1.6311766552770899,-12.287677382432387,19.45017888010445,3.9064216317128446,6.028052039432339,4.752153878080368,24.800516031194668,-1.9750134139450017,-7.666754644385354,3.3615333067599957,3.5951319207929426,24.3717319017681,4.948494799957711,3.6093985434582248,-1.8914790336486864,-11.085727905045315,2.037856760679619,26.613769943090148,1.6326914128105976,-12.357778821226372,9.701989237453997,29.538174722188252,-21.331075704840874,1.8142191533012824,-5.899526544103239,1.7986505096001912,-34.48646557566404,-12.88335776193563,37.18684142889841,-10.575977036425465,-31.2160767696551,6.089538884848171,-5.548556700019089,24.12875333267636,-2.919105874761474,-4.065253922490912,24.733540250997493,-24.055346169883926,-23.39791024796355,25.44299964258681,-4.956417650512798,7.69003013926309,22.264851615546064,-15.36352234226448,-26.683486365882636,23.022775871996526,6.299147139508905,12.938615052560706,7.303969727047987,-13.581518148670844,19.8773822074656,-4.454650153163092,-15.740682257804917,6.947683301653543,-32.475013375318056,-55.58233747133444,2.140064210268618,8.042165298919628,4.386833139429867,32.08805976652727,44.26270950810145,0.07047046016636294,42.232461647597475,14.55595662639965,-13.87948528762262,-22.11673966911764,5.112011922719307,-6.361722690455048,-17.747124080721495,16.44166057575613,-19.78492045363972,-14.999557064767043,-13.272359765139292,26.558603742415645,11.76329974389475,12.48589523473088,-31.302006987570714,0.06538204956480241,7.592355972104942,-7.760375595183038,-2.3571065940510953,-13.97399697491901,-2.4057672460369983,7.3570954239309305,22.792245926502083,6.275634398563616,-25.923264989375035,-2.7142077969641716,-14.272303325489206,-8.792414087847856,2.270128037518991,-14.745862386637615,-43.07779005758702,15.155378475877512,15.77868949041621,3.6603469600629035,7.79271635898459,7.4323034032820665,-44.456074409046245,6.119102155159863,3.818987241153547,22.286790237304253,16.369859789209496,23.99170160454108,-9.199959394559825,19.37773222046876,-5.940487447403752,-7.79607704467109,3.820734865566509,-33.59278037211949,-18.831377611292616,-8.491709052292185,-17.325545932490126,-5.2318708724402185,15.296176534372282,-16.15298796534702,-22.72890080372562,4.055230669511172,-1.572990938029738,1.5391072525693628,3.664501197416224,-0.8624649325152232,-20.95912282846259,8.69897204232513,-23.275196391068228,21.75324652628766,0.7549044567567914,-4.883663121693579,-16.781392929964806,-6.273093845499575,46.39328364380556,0.2984653136125216,-1.5938333913106342,-1.4277562920273095,-13.566995038551257,-14.831676421725222,-16.626853834091296,-1.4466502921416071,28.98310796505134,-22.987595110316406,-6.627157994042751,-12.882629687604384,-14.336519974593456,28.255733598093986,19.757065318425727,-17.216675204483597,-37.655196510347885,2.676838939388974,-5.38042290554122,-33.566966633602554,11.126898593632838,20.478332662128153,25.317671066161314,7.85254366091351,-31.38047175015702,-2.781664186649296,-11.67576974333626,17.807705713457654,-21.912483906287783,12.830759890620742,-2.454193578607837,30.889267727247347,11.298358518688925,-16.727248726500264,-21.756429599557737,-7.365973023842831,17.42076827765557,-11.393899893627218,12.756350582730986,5.642795695245464,-23.459803302804403,-10.702884514917654,-1.5565706480854133,16.69737614951196,-27.326647025233584,34.006686238863765,-9.058721946145809,9.825025954255315,6.765572699283519,-1.7527282987721633,-14.800212738298129,17.030024380033538,10.906154018203509,-3.834376937339589,3.3864008294135006,-25.172580749093996,23.997320869108773,-12.1798081622998,-7.4765575713790975,16.772392156915863,36.32370940479745],\"display_name\":\"\",\"size\":6.0,\"shape\":\"DEFAULT\",\"fill\":null,\"color\":null,\"outline_color\":null}],\"constant_lines\":[],\"constant_bands\":[],\"texts\":[],\"x_auto_range\":true,\"x_lower_bound\":0.0,\"x_upper_bound\":0.0,\"log_x\":false,\"x_log_base\":10.0,\"x_tickLabels_visible\":true,\"y_tickLabels_visible\":true}; console.log('plot this:'); console.log(j); window.initPlotd(j,'beakerChart24');</script></html>"
      ]
     },
     "execution_count": 24,
     "metadata": {},
     "output_type": "execute_result"
    }
   ],
   "source": [
    "import com.twosigma.beaker.chart.xychart.*\n",
    "import com.twosigma.beaker.chart.legend.*\n",
    "import com.twosigma.beaker.chart.xychart.plotitem.*\n",
    "import com.twosigma.beaker.chart.Color\n",
    "\n",
    "r = new Random()\n",
    "p = new com.twosigma.beaker.widgets.chart.xychart.Plot(title: \"Advanced Plot Styling\",\n",
    "         labelStyle: \"font-size:32px; font-weight: bold; font-family: courier; fill: green;\",\n",
    "         gridLineStyle:  \"stroke: purple; stroke-width: 3;\",\n",
    "         titleStyle: \"color: green;\"\n",
    "        )\n",
    "p << new Points(x: (1..1000).collect { r.nextGaussian() * 10.0d },\n",
    "                y: (1..1000).collect { r.nextGaussian() * 20.0d })"
   ]
  }
 ],
 "metadata": {
  "anaconda-cloud": {},
  "kernelspec": {
   "display_name": "Groovy",
   "language": "groovy",
   "name": "groovy"
  },
  "language_info": {
   "codemirror_mode": "",
   "file_extension": ".groovy",
   "mimetype": "",
   "name": "Groovy",
   "nbconverter_exporter": "",
   "pygments_lexer": "",
   "version": "2.4.6"
  }
 },
 "nbformat": 4,
 "nbformat_minor": 1
}

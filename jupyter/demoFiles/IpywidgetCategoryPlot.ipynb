{
 "cells": [
  {
   "cell_type": "code",
   "execution_count": 2,
   "metadata": {
    "collapsed": false
   },
   "outputs": [
    {
     "data": {
      "text/plain": []
     },
     "execution_count": 2,
     "metadata": {},
     "output_type": "execute_result"
    }
   ],
   "source": [
    "import com.twosigma.beaker.chart.categoryplot.plotitem.*\n",
    "import com.twosigma.beaker.widgets.chart.categoryplot.CategoryPlot\n",
    "def bars = new CategoryBars(value: [[1, 2, 3], [1, 3, 5]])\n",
    "new CategoryPlot() << bars"
   ]
  },
  {
   "cell_type": "code",
   "execution_count": 3,
   "metadata": {
    "collapsed": false
   },
   "outputs": [
    {
     "data": {
      "text/plain": []
     },
     "execution_count": 3,
     "metadata": {},
     "output_type": "execute_result"
    }
   ],
   "source": [
    "import com.twosigma.beaker.widgets.chart.categoryplot.CategoryPlot\n",
    "def cplot = new CategoryPlot(initWidth: 400, initHeight: 200)\n",
    "def bars = new CategoryBars(value:[[1, 2, 3], [1, 3, 5]])\n",
    "cplot << bars"
   ]
  },
  {
   "cell_type": "code",
   "execution_count": 4,
   "metadata": {
    "collapsed": false
   },
   "outputs": [
    {
     "data": {
      "text/plain": []
     },
     "execution_count": 4,
     "metadata": {},
     "output_type": "execute_result"
    }
   ],
   "source": [
    "import com.twosigma.beaker.widgets.chart.categoryplot.CategoryPlot\n",
    "def cplot = new CategoryPlot(title: \"Hello CategoryPlot!\",\n",
    "                             xLabel: \"Categories\",\n",
    "                             yLabel: \"Values\")\n",
    "cplot << new CategoryBars(value:[[1, 2, 3], [1, 3, 5]])"
   ]
  },
  {
   "cell_type": "code",
   "execution_count": 5,
   "metadata": {
    "collapsed": false
   },
   "outputs": [
    {
     "data": {
      "text/plain": []
     },
     "execution_count": 5,
     "metadata": {},
     "output_type": "execute_result"
    }
   ],
   "source": [
    "import com.twosigma.beaker.widgets.chart.categoryplot.CategoryPlot\n",
    "def cplot = new CategoryPlot(categoryNames: [\"Helium\", \"Neon\", \"Argon\"])\n",
    "cplot << new CategoryBars(value: [[1, 2, 3], [1, 3, 5]])"
   ]
  },
  {
   "cell_type": "code",
   "execution_count": 6,
   "metadata": {
    "collapsed": false
   },
   "outputs": [
    {
     "data": {
      "text/plain": []
     },
     "execution_count": 6,
     "metadata": {},
     "output_type": "execute_result"
    }
   ],
   "source": [
    "import com.twosigma.beaker.widgets.chart.categoryplot.CategoryPlot\n",
    "new CategoryPlot() << new CategoryBars(value: [[1, 2, 3], [1, 3, 5]],\n",
    "                                       seriesNames: [\"Gas\", \"Liquid\"])"
   ]
  },
  {
   "cell_type": "code",
   "execution_count": 7,
   "metadata": {
    "collapsed": false
   },
   "outputs": [
    {
     "data": {
      "text/plain": []
     },
     "execution_count": 7,
     "metadata": {},
     "output_type": "execute_result"
    }
   ],
   "source": [
    "import com.twosigma.beaker.widgets.chart.categoryplot.CategoryPlot\n",
    "def bars = new CategoryBars(value: [[1, 2], [3, 4], [5, 6], [7, 8]],\n",
    "                            seriesNames: [\"Gas\", null, \"\", \"Liquid\"])\n",
    "new CategoryPlot() << bars"
   ]
  },
  {
   "cell_type": "code",
   "execution_count": 8,
   "metadata": {
    "collapsed": false
   },
   "outputs": [
    {
     "data": {
      "text/plain": []
     },
     "execution_count": 8,
     "metadata": {},
     "output_type": "execute_result"
    }
   ],
   "source": [
    "import com.twosigma.beaker.widgets.chart.categoryplot.CategoryPlot\n",
    "def plot = new CategoryPlot(showLegend: true) // force legend display\n",
    "def bars = new CategoryBars(value: [[1, 2, 3], [1, 3, 5]])\n",
    "// since no display names were provided, default names \"series0\" etc will be used.\n",
    "plot << bars"
   ]
  },
  {
   "cell_type": "code",
   "execution_count": 9,
   "metadata": {
    "collapsed": false
   },
   "outputs": [
    {
     "data": {
      "text/plain": []
     },
     "execution_count": 9,
     "metadata": {},
     "output_type": "execute_result"
    }
   ],
   "source": [
    "import com.twosigma.beaker.widgets.chart.categoryplot.CategoryPlot\n",
    "def plot = new CategoryPlot(orientation: PlotOrientationType.HORIZONTAL)\n",
    "plot << new CategoryBars(value:[[1, 2, 3], [1, 3, 5]])"
   ]
  },
  {
   "cell_type": "code",
   "execution_count": 10,
   "metadata": {
    "collapsed": false
   },
   "outputs": [
    {
     "data": {
      "text/plain": []
     },
     "execution_count": 10,
     "metadata": {},
     "output_type": "execute_result"
    }
   ],
   "source": [
    "import com.twosigma.beaker.widgets.chart.categoryplot.CategoryPlot\n",
    "def plot = new CategoryPlot(categoryNames: [\"Acid\", \"Neutral\", \"Base\"], \n",
    "                            categoryNamesLabelAngle: -1/4 * Math.PI)\n",
    "plot << new CategoryBars(value: [[1, 2, 3], [4, 5, 6]])"
   ]
  },
  {
   "cell_type": "code",
   "execution_count": 11,
   "metadata": {
    "collapsed": false
   },
   "outputs": [
    {
     "data": {
      "text/plain": []
     },
     "execution_count": 11,
     "metadata": {},
     "output_type": "execute_result"
    }
   ],
   "source": [
    "import com.twosigma.beaker.widgets.chart.categoryplot.CategoryPlot\n",
    "new CategoryPlot(categoryMargin: 2) << new CategoryBars(value: [[1, 2, 3], [4, 5, 6]])"
   ]
  },
  {
   "cell_type": "code",
   "execution_count": 12,
   "metadata": {
    "collapsed": false
   },
   "outputs": [
    {
     "data": {
      "text/plain": []
     },
     "execution_count": 12,
     "metadata": {},
     "output_type": "execute_result"
    }
   ],
   "source": [
    "import com.twosigma.beaker.widgets.chart.categoryplot.CategoryPlot\n",
    "def bars = new CategoryBars(value: (1..4) + 2)\n",
    "new CategoryPlot() << bars"
   ]
  },
  {
   "cell_type": "code",
   "execution_count": 14,
   "metadata": {
    "collapsed": false
   },
   "outputs": [
    {
     "data": {
      "text/plain": []
     },
     "execution_count": 14,
     "metadata": {},
     "output_type": "execute_result"
    }
   ],
   "source": [
    "import com.twosigma.beaker.widgets.chart.categoryplot.CategoryPlot\n",
    "def bars = new CategoryBars(value: [[1, 2], [3, 4], [5, 6]], color: Color.pink)\n",
    "new CategoryPlot() << bars"
   ]
  },
  {
   "cell_type": "code",
   "execution_count": 15,
   "metadata": {
    "collapsed": false
   },
   "outputs": [
    {
     "data": {
      "text/plain": []
     },
     "execution_count": 15,
     "metadata": {},
     "output_type": "execute_result"
    }
   ],
   "source": [
    "import com.twosigma.beaker.widgets.chart.categoryplot.CategoryPlot\n",
    "def colors = [Color.red, Color.gray, Color.blue]\n",
    "def bars = new CategoryBars(value: [[1, 2], [3, 4], [5, 6]], color: colors)\n",
    "new CategoryPlot() << bars"
   ]
  },
  {
   "cell_type": "code",
   "execution_count": 16,
   "metadata": {
    "collapsed": false
   },
   "outputs": [
    {
     "data": {
      "text/plain": []
     },
     "execution_count": 16,
     "metadata": {},
     "output_type": "execute_result"
    }
   ],
   "source": [
    "import com.twosigma.beaker.widgets.chart.categoryplot.CategoryPlot\n",
    "def colors = [[Color.red, Color.gray],\n",
    "              [Color.gray, Color.gray],\n",
    "              [Color.blue, Color.pink]]\n",
    "def bars = new CategoryBars(value: [[1, 2], [3, 4], [5, 6]], color: colors)\n",
    "new CategoryPlot() << bars"
   ]
  },
  {
   "cell_type": "code",
   "execution_count": 17,
   "metadata": {
    "collapsed": false
   },
   "outputs": [
    {
     "data": {
      "text/plain": []
     },
     "execution_count": 17,
     "metadata": {},
     "output_type": "execute_result"
    }
   ],
   "source": [
    "import com.twosigma.beaker.widgets.chart.categoryplot.CategoryPlot\n",
    "def colors = [Color.pink, [Color.red, Color.gray, Color.blue]]\n",
    "def bars = new CategoryBars(value: [[1, 2, 3], [4, 5, 6]], color: colors)\n",
    "new CategoryPlot() << bars"
   ]
  },
  {
   "cell_type": "code",
   "execution_count": 18,
   "metadata": {
    "collapsed": false
   },
   "outputs": [
    {
     "data": {
      "text/plain": []
     },
     "execution_count": 18,
     "metadata": {},
     "output_type": "execute_result"
    }
   ],
   "source": [
    "import com.twosigma.beaker.widgets.chart.categoryplot.CategoryPlot\n",
    "def bars = new CategoryBars(value: [[1, 2, 3], [4, 5, 6]], base: -2)\n",
    "new CategoryPlot() << bars"
   ]
  },
  {
   "cell_type": "code",
   "execution_count": 19,
   "metadata": {
    "collapsed": false
   },
   "outputs": [
    {
     "data": {
      "text/plain": []
     },
     "execution_count": 19,
     "metadata": {},
     "output_type": "execute_result"
    }
   ],
   "source": [
    "import com.twosigma.beaker.widgets.chart.categoryplot.CategoryPlot\n",
    "def bars = new CategoryBars(value: [[1, 2,  3], [4, 5, 4]], base: [-1, -3])\n",
    "new CategoryPlot() << bars"
   ]
  },
  {
   "cell_type": "code",
   "execution_count": 20,
   "metadata": {
    "collapsed": false
   },
   "outputs": [
    {
     "data": {
      "text/plain": []
     },
     "execution_count": 20,
     "metadata": {},
     "output_type": "execute_result"
    }
   ],
   "source": [
    "import com.twosigma.beaker.widgets.chart.categoryplot.CategoryPlot\n",
    "def bars = new CategoryBars(value: [[1, 2, 3], [4, 5, 6]],\n",
    "                            base: [[0, 1, 1], [-4, -5, -6]])\n",
    "new CategoryPlot() << bars"
   ]
  },
  {
   "cell_type": "code",
   "execution_count": 21,
   "metadata": {
    "collapsed": false
   },
   "outputs": [
    {
     "data": {
      "text/plain": []
     },
     "execution_count": 21,
     "metadata": {},
     "output_type": "execute_result"
    }
   ],
   "source": [
    "import com.twosigma.beaker.widgets.chart.categoryplot.CategoryPlot\n",
    "def bars = new CategoryBars(value: [[1, 2, 3], [4, 5, 6]],\n",
    "                            width: [[0.3, 0.6, 1.7], 1.0])\n",
    "new CategoryPlot() << bars"
   ]
  },
  {
   "cell_type": "code",
   "execution_count": 22,
   "metadata": {
    "collapsed": false
   },
   "outputs": [
    {
     "data": {
      "text/plain": []
     },
     "execution_count": 22,
     "metadata": {},
     "output_type": "execute_result"
    }
   ],
   "source": [
    "import com.twosigma.beaker.widgets.chart.categoryplot.CategoryPlot\n",
    "def bars = new CategoryBars(value: [[1, 2, 3], [4, 5, 6]],\n",
    "                            fill: [[true, true, false], [true, false, true]],\n",
    "                            drawOutline: [[true, false, true], [true, true, false]],\n",
    "                            outlineColor: [Color.black, Color.red])\n",
    "new CategoryPlot() << bars"
   ]
  },
  {
   "cell_type": "code",
   "execution_count": 23,
   "metadata": {
    "collapsed": false
   },
   "outputs": [
    {
     "data": {
      "text/plain": []
     },
     "execution_count": 23,
     "metadata": {},
     "output_type": "execute_result"
    }
   ],
   "source": [
    "import com.twosigma.beaker.widgets.chart.categoryplot.CategoryPlot\n",
    "def bars = new CategoryBars(value: [[1, 2, 3], [4, 5, 8], [10, 9, 10]],\n",
    "                           base: [0, [1, 2, 3], [4, 5, 8]],\n",
    "                           centerSeries: true,\n",
    "                           itemLabel: {value, base-> Math.abs(value-base)})\n",
    "new CategoryPlot() << bars"
   ]
  },
  {
   "cell_type": "code",
   "execution_count": 24,
   "metadata": {
    "collapsed": false
   },
   "outputs": [
    {
     "data": {
      "text/plain": []
     },
     "execution_count": 24,
     "metadata": {},
     "output_type": "execute_result"
    }
   ],
   "source": [
    "import com.twosigma.beaker.widgets.chart.categoryplot.CategoryPlot\n",
    "def ss = [StrokeType.DASH, StrokeType.LONGDASH]\n",
    "def cs = [Color.black, Color.red]\n",
    "new CategoryPlot() << new CategoryStems(value: [[1, 2, 4], [4, 5, 8]], color: cs, style: ss)"
   ]
  },
  {
   "cell_type": "code",
   "execution_count": 25,
   "metadata": {
    "collapsed": false
   },
   "outputs": [
    {
     "data": {
      "text/plain": []
     },
     "execution_count": 25,
     "metadata": {},
     "output_type": "execute_result"
    }
   ],
   "source": [
    "import com.twosigma.beaker.widgets.chart.categoryplot.CategoryPlot\n",
    "import com.twosigma.beaker.chart.categoryplot.plotitem.*\n",
    "import com.twosigma.beaker.chart.Color\n",
    "\n",
    "new CategoryPlot() << new CategoryPoints(value: [[1, 2, 4], [4, 5, 8]])"
   ]
  },
  {
   "cell_type": "code",
   "execution_count": 26,
   "metadata": {
    "collapsed": false
   },
   "outputs": [
    {
     "data": {
      "text/plain": []
     },
     "execution_count": 26,
     "metadata": {},
     "output_type": "execute_result"
    }
   ],
   "source": [
    "import com.twosigma.beaker.chart.xychart.plotitem.*\n",
    "import com.twosigma.beaker.widgets.chart.categoryplot.CategoryPlot\n",
    "import com.twosigma.beaker.chart.categoryplot.plotitem.*\n",
    "import com.twosigma.beaker.chart.Color\n",
    "\n",
    "def ss = [StrokeType.DASH, StrokeType.DOT]\n",
    "new CategoryPlot() << new CategoryLines(value: [[1, 2, 4], [4, 5, 8]], style: ss,\n",
    "                                        seriesNames:[\"Lanthanide\", \"Actinide\"])"
   ]
  },
  {
   "cell_type": "code",
   "execution_count": 27,
   "metadata": {
    "collapsed": false
   },
   "outputs": [
    {
     "data": {
      "text/plain": []
     },
     "execution_count": 27,
     "metadata": {},
     "output_type": "execute_result"
    }
   ],
   "source": [
    "import com.twosigma.beaker.chart.xychart.plotitem.*\n",
    "import com.twosigma.beaker.widgets.chart.categoryplot.CategoryPlot\n",
    "import com.twosigma.beaker.chart.categoryplot.plotitem.*\n",
    "import com.twosigma.beaker.chart.Color\n",
    "\n",
    "def s1 = [1, 2, 4]\n",
    "def s2 = [4, 5, 8]\n",
    "def lines = new CategoryLines(value: [s1, s2], centerSeries: true)\n",
    "def points = new CategoryPoints(value: [s1, s2], centerSeries: true)\n",
    "def stems = new CategoryStems(value:[s1], base: [s2], style: StrokeType.DOT, color: Color.gray)\n",
    "new CategoryPlot() << lines << points << stems"
   ]
  },
  {
   "cell_type": "code",
   "execution_count": 28,
   "metadata": {
    "collapsed": false
   },
   "outputs": [
    {
     "data": {
      "text/plain": []
     },
     "execution_count": 28,
     "metadata": {},
     "output_type": "execute_result"
    }
   ],
   "source": [
    "import com.twosigma.beaker.widgets.chart.categoryplot.CategoryPlot\n",
    "import com.twosigma.beaker.chart.categoryplot.plotitem.*\n",
    "import com.twosigma.beaker.chart.Color\n",
    "\n",
    "def plot = new CategoryPlot(initWidth: 500, initHeight: 400,\n",
    "                            title: \"Bar Chart Demo\",\n",
    "                            xLabel: \"Alkali\", yLabel: \"Temperature ° Celcius\",\n",
    "                            categoryNames:[\"Lithium\", \"Sodium\", \"Potassium\", \"Rubidium\"])\n",
    "def s1 = [[10, 15, 13, 7], [22, 18, 28, 17]]\n",
    "def high = [[12.4, 19.5, 15.1, 8.2], [24.3, 23.3, 30.1, 18.2]]\n",
    "def low = [[7.6, 10.5, 10.9, 5.8], [19.7, 12.7, 25.9, 15.8]]\n",
    "def color = [new Color(247, 150, 70), Color.orange, new Color(155, 187, 89)]\n",
    "plot << new CategoryBars(value: s1, color: color, seriesNames: [\"Solid\", \"Liquid\"])\n",
    "plot << new CategoryStems(value: high, base: low, color: color[2])\n",
    "plot << new CategoryPoints(value: high, outlineColor: color[2], size:12)\n",
    "plot << new CategoryPoints(value: low, outlineColor: color[2], size:12)"
   ]
  },
  {
   "cell_type": "code",
   "execution_count": 77,
   "metadata": {
    "collapsed": false
   },
   "outputs": [
    {
     "data": {
      "text/html": [
       "<html><div id='beakerChart76'></div><script>var j = {\"type\":\"CategoryPlot\",\"init_width\":640,\"init_height\":480,\"chart_title\":\"Multiple Y Axes Demo\",\"show_legend\":null,\"use_tool_tip\":true,\"legend_position\":{\"type\":\"LegendPosition\",\"position\":\"TOP_RIGHT\"},\"legend_layout\":\"VERTICAL\",\"custom_styles\":[],\"element_styles\":{},\"domain_axis_label\":null,\"y_label\":\"Price\",\"rangeAxes\":[{\"type\":\"YAxis\",\"label\":\"Price\",\"auto_range\":true,\"auto_range_includes_zero\":false,\"lower_margin\":0.0,\"upper_margin\":0.0,\"lower_bound\":0.0,\"upper_bound\":0.0,\"use_log\":false,\"log_base\":10.0},{\"type\":\"YAxis\",\"label\":\"Volume\",\"auto_range\":true,\"auto_range_includes_zero\":false,\"lower_margin\":0.0,\"upper_margin\":1.0,\"lower_bound\":0.0,\"upper_bound\":0.0,\"use_log\":false,\"log_base\":10.0}],\"x_lower_margin\":0.05,\"x_upper_margin\":0.05,\"y_auto_range\":true,\"y_auto_range_includes_zero\":false,\"y_lower_margin\":0.0,\"y_upper_margin\":0.0,\"y_lower_bound\":0.0,\"y_upper_bound\":0.0,\"log_y\":false,\"timezone\":null,\"crosshair\":null,\"omit_checkboxes\":false,\"categoryNames\":[\"Q1\",\"Q2\",\"Q3\",\"Q4\"],\"graphics_list\":[{\"type\":\"CategoryBars\",\"uid\":\"8dde5390-e0d0-4483-8e32-cbc917903007\",\"visible\":true,\"yAxis\":\"Volume\",\"hasClickAction\":false,\"showItemLabel\":true,\"center_series\":false,\"use_tool_tip\":true,\"value\":[[1500,2200,2500,4000]],\"color\":\"#FFFFAFAF\",\"base\":0.0,\"width\":0.6,\"outline_color\":null,\"fill\":null,\"outline\":false,\"labelPosition\":\"VALUE_INSIDE\"},{\"type\":\"CategoryLines\",\"uid\":\"8baab247-a26b-4f87-8001-6834f88e7164\",\"visible\":true,\"yAxis\":null,\"hasClickAction\":false,\"showItemLabel\":true,\"center_series\":false,\"use_tool_tip\":true,\"value\":[[5,2,3.5,4]],\"color\":\"#FF808080\",\"width\":1.5,\"style\":\"SOLID\"},{\"type\":\"CategoryPoints\",\"uid\":\"9cc115d7-b889-468d-9460-4ca810e3c6a6\",\"visible\":true,\"yAxis\":null,\"hasClickAction\":false,\"showItemLabel\":false,\"center_series\":false,\"use_tool_tip\":true,\"value\":[[5,2,3.5,4]],\"color\":\"#FF808080\",\"size\":6.0,\"shape\":\"DEFAULT\",\"fill\":null,\"outline_color\":null}],\"orientation\":\"VERTICAL\",\"category_margin\":0.2,\"categoryNamesLabelAngle\":0.0}; console.log('plot this:'); console.log(j); window.initPlotd(j,'beakerChart76');</script></html>"
      ]
     },
     "execution_count": 77,
     "metadata": {},
     "output_type": "execute_result"
    }
   ],
   "source": [
    "import com.twosigma.beaker.chart.categoryplot.CategoryPlot\n",
    "import com.twosigma.beaker.chart.categoryplot.plotitem.*\n",
    "import com.twosigma.beaker.chart.Color\n",
    "import com.twosigma.beaker.chart.xychart.plotitem.*\n",
    "\n",
    "def p = new CategoryPlot(title: \"Multiple Y Axes Demo\",\n",
    "                         yLabel: \"Price\",\n",
    "                         categoryNames: [\"Q1\", \"Q2\", \"Q3\", \"Q4\"])\n",
    "p << new YAxis(label: \"Volume\", upperMargin: 1)\n",
    "p << new CategoryBars(value: [[1500, 2200, 2500, 4000]], width: 0.6,\n",
    "                      color: Color.PINK, yAxis: \"Volume\", showItemLabel: true,\n",
    "                      labelPosition: LabelPositionType.VALUE_INSIDE)\n",
    "p << new CategoryLines(value: [[5, 2, 3.5, 4]], color: Color.GRAY,\n",
    "                       showItemLabel:true)\n",
    "p << new CategoryPoints(value:[[5, 2, 3.5, 4]], color:Color.GRAY)"
   ]
  },
  {
   "cell_type": "code",
   "execution_count": 29,
   "metadata": {
    "collapsed": false
   },
   "outputs": [
    {
     "data": {
      "text/plain": []
     },
     "execution_count": 29,
     "metadata": {},
     "output_type": "execute_result"
    }
   ],
   "source": [
    "import com.twosigma.beaker.widgets.chart.categoryplot.CategoryPlot\n",
    "import com.twosigma.beaker.chart.categoryplot.plotitem.*\n",
    "import com.twosigma.beaker.chart.Color\n",
    "\n",
    "new CategoryPlot() << new CategoryStems(value:[[-3, 2, 4], [4, 5, 8]],\n",
    "                                        width: 10, showItemLabel: true)"
   ]
  },
  {
   "cell_type": "code",
   "execution_count": 31,
   "metadata": {
    "collapsed": false
   },
   "outputs": [
    {
     "data": {
      "text/plain": []
     },
     "execution_count": 31,
     "metadata": {},
     "output_type": "execute_result"
    }
   ],
   "source": [
    "import com.twosigma.beaker.widgets.chart.categoryplot.CategoryPlot\n",
    "import com.twosigma.beaker.chart.categoryplot.plotitem.*\n",
    "import com.twosigma.beaker.chart.Color\n",
    "\n",
    "def bars = new CategoryBars(value: [[-5, 2, 3], [1, 3, 5]],\n",
    "                            showItemLabel: true)\n",
    "new CategoryPlot() << bars"
   ]
  },
  {
   "cell_type": "code",
   "execution_count": 32,
   "metadata": {
    "collapsed": false
   },
   "outputs": [
    {
     "data": {
      "text/plain": []
     },
     "execution_count": 32,
     "metadata": {},
     "output_type": "execute_result"
    }
   ],
   "source": [
    "import com.twosigma.beaker.widgets.chart.categoryplot.CategoryPlot\n",
    "import com.twosigma.beaker.chart.categoryplot.plotitem.*\n",
    "import com.twosigma.beaker.chart.Color\n",
    "import com.twosigma.beaker.chart.xychart.plotitem.*\n",
    "\n",
    "def bars = new CategoryBars(value: [[-5, 2, 3], [1, 3, 5]],\n",
    "                            labelPosition: LabelPositionType.BASE_OUTSIDE,\n",
    "                            showItemLabel: true)\n",
    "new CategoryPlot() << bars"
   ]
  },
  {
   "cell_type": "code",
   "execution_count": 33,
   "metadata": {
    "collapsed": false
   },
   "outputs": [
    {
     "data": {
      "text/plain": []
     },
     "execution_count": 33,
     "metadata": {},
     "output_type": "execute_result"
    }
   ],
   "source": [
    "import com.twosigma.beaker.widgets.chart.categoryplot.CategoryPlot\n",
    "import com.twosigma.beaker.chart.categoryplot.plotitem.*\n",
    "import com.twosigma.beaker.chart.Color\n",
    "\n",
    "def plot = new CategoryPlot(title: \"Move mouse cursor over bars\")\n",
    "def bars = new CategoryBars(value: [[-5, 2, 3], [1, 3, 5]], useToolTip: false)\n",
    "plot << bars"
   ]
  },
  {
   "cell_type": "code",
   "execution_count": 34,
   "metadata": {
    "collapsed": false
   },
   "outputs": [
    {
     "data": {
      "text/plain": []
     },
     "execution_count": 34,
     "metadata": {},
     "output_type": "execute_result"
    }
   ],
   "source": [
    "import com.twosigma.beaker.widgets.chart.categoryplot.CategoryPlot\n",
    "import com.twosigma.beaker.chart.categoryplot.plotitem.*\n",
    "import com.twosigma.beaker.chart.Color\n",
    "\n",
    "def input = [[1,2,3],[1,3,5]].transpose() // == [[1,1], [2,3], [3,5]]\n",
    "def bars = new CategoryBars(value: input)\n",
    "new CategoryPlot() << bars"
   ]
  },
  {
   "cell_type": "code",
   "execution_count": 35,
   "metadata": {
    "collapsed": false
   },
   "outputs": [
    {
     "data": {
      "text/plain": [
       "[{closePrice_mean=88.59, highPrice_mean=88.91, lowPrice_mean=88.20, openPrice_mean=78.55}, {closePrice_mean=58.96, highPrice_mean=59.79, lowPrice_mean=58.11, openPrice_mean=58.93}, {closePrice_mean=39.09, highPrice_mean=39.96, lowPrice_mean=27.99, openPrice_mean=18.86}]"
      ]
     },
     "execution_count": 35,
     "metadata": {},
     "output_type": "execute_result"
    }
   ],
   "source": [
    "table = [[closePrice_mean:88.59, highPrice_mean:88.91, lowPrice_mean:88.20, openPrice_mean:78.55],\n",
    "         [closePrice_mean:58.96, highPrice_mean:59.79, lowPrice_mean:58.11, openPrice_mean:58.93],\n",
    "         [closePrice_mean:39.09, highPrice_mean:39.96, lowPrice_mean:27.99, openPrice_mean:18.86]]"
   ]
  },
  {
   "cell_type": "code",
   "execution_count": 37,
   "metadata": {
    "collapsed": false
   },
   "outputs": [
    {
     "data": {
      "text/plain": []
     },
     "execution_count": 37,
     "metadata": {},
     "output_type": "execute_result"
    }
   ],
   "source": [
    "import com.twosigma.beaker.widgets.chart.categoryplot.CategoryPlot\n",
    "import com.twosigma.beaker.chart.categoryplot.plotitem.*\n",
    "import com.twosigma.beaker.chart.Color\n",
    "\n",
    "def v = table.collect { it.values().toList() }\n",
    "def p = new CategoryPlot(categoryNames: table[0].keySet().toList())\n",
    "p << new CategoryBars(value: v, seriesNames: [\"A\", \"B\", \"C\"])"
   ]
  },
  {
   "cell_type": "code",
   "execution_count": null,
   "metadata": {
    "collapsed": true
   },
   "outputs": [],
   "source": []
  }
 ],
 "metadata": {
  "anaconda-cloud": {},
  "kernelspec": {
   "display_name": "Groovy",
   "language": "groovy",
   "name": "groovy"
  },
  "language_info": {
   "codemirror_mode": "",
   "file_extension": ".groovy",
   "mimetype": "",
   "name": "Groovy",
   "nbconverter_exporter": "",
   "pygments_lexer": "",
   "version": "2.4.6"
  }
 },
 "nbformat": 4,
 "nbformat_minor": 1
}

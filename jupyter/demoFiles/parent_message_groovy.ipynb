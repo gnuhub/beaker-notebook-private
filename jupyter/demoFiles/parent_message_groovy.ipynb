{
 "cells": [
  {
   "cell_type": "code",
   "execution_count": 62,
   "metadata": {
    "collapsed": false
   },
   "outputs": [
    {
     "data": {
      "text/plain": [
       "null"
      ]
     },
     "execution_count": 62,
     "metadata": {},
     "output_type": "execute_result"
    }
   ],
   "source": [
    "import com.twosigma.beaker.widgets.integers.IntProgress\n",
    "import static com.twosigma.beaker.widgets.DisplayWidget.display;\n",
    "bar = new IntProgress()\n",
    "bar.max = 300\n",
    "bar.value = 10\n",
    "display(bar)"
   ]
  },
  {
   "cell_type": "code",
   "execution_count": 63,
   "metadata": {
    "collapsed": false
   },
   "outputs": [
    {
     "data": {
      "text/plain": [
       "null"
      ]
     },
     "execution_count": 63,
     "metadata": {},
     "output_type": "execute_result"
    }
   ],
   "source": [
    "import com.twosigma.beaker.widgets.integers.IntProgress\n",
    "import static com.twosigma.beaker.widgets.DisplayWidget.display;\n",
    "bar = new IntProgress()\n",
    "bar.max = 300\n",
    "bar.value = 20\n",
    "display(bar)"
   ]
  },
  {
   "cell_type": "code",
   "execution_count": 64,
   "metadata": {
    "collapsed": false
   },
   "outputs": [
    {
     "data": {
      "text/plain": [
       "null"
      ]
     },
     "execution_count": 64,
     "metadata": {},
     "output_type": "execute_result"
    }
   ],
   "source": [
    "import com.twosigma.beaker.widgets.integers.IntProgress\n",
    "import static com.twosigma.beaker.widgets.DisplayWidget.display;\n",
    "bar = new IntProgress()\n",
    "bar.max = 300\n",
    "bar.value = 30\n",
    "display(bar)"
   ]
  },
  {
   "cell_type": "code",
   "execution_count": 65,
   "metadata": {
    "collapsed": false
   },
   "outputs": [
    {
     "data": {
      "text/plain": [
       "null"
      ]
     },
     "execution_count": 65,
     "metadata": {},
     "output_type": "execute_result"
    }
   ],
   "source": [
    "import com.twosigma.beaker.widgets.integers.IntProgress\n",
    "import static com.twosigma.beaker.widgets.DisplayWidget.display;\n",
    "bar = new IntProgress()\n",
    "bar.max = 300\n",
    "bar.value = 40\n",
    "display(bar)"
   ]
  },
  {
   "cell_type": "code",
   "execution_count": 66,
   "metadata": {
    "collapsed": false
   },
   "outputs": [
    {
     "data": {
      "text/plain": [
       "null"
      ]
     },
     "execution_count": 66,
     "metadata": {},
     "output_type": "execute_result"
    }
   ],
   "source": [
    "import com.twosigma.beaker.widgets.integers.IntProgress\n",
    "import static com.twosigma.beaker.widgets.DisplayWidget.display;\n",
    "bar = new IntProgress()\n",
    "bar.max = 300\n",
    "bar.value = 50\n",
    "display(bar)"
   ]
  },
  {
   "cell_type": "code",
   "execution_count": 67,
   "metadata": {
    "collapsed": false
   },
   "outputs": [
    {
     "data": {
      "text/plain": [
       "null"
      ]
     },
     "execution_count": 67,
     "metadata": {},
     "output_type": "execute_result"
    }
   ],
   "source": [
    "import com.twosigma.beaker.widgets.integers.IntProgress\n",
    "import static com.twosigma.beaker.widgets.DisplayWidget.display;\n",
    "bar = new IntProgress()\n",
    "bar.max = 300\n",
    "bar.value = 60\n",
    "display(bar)"
   ]
  },
  {
   "cell_type": "code",
   "execution_count": 68,
   "metadata": {
    "collapsed": false
   },
   "outputs": [
    {
     "data": {
      "text/plain": [
       "null"
      ]
     },
     "execution_count": 68,
     "metadata": {},
     "output_type": "execute_result"
    }
   ],
   "source": [
    "import com.twosigma.beaker.widgets.integers.IntProgress\n",
    "import static com.twosigma.beaker.widgets.DisplayWidget.display;\n",
    "bar = new IntProgress()\n",
    "bar.max = 300\n",
    "bar.value = 70\n",
    "display(bar)"
   ]
  },
  {
   "cell_type": "code",
   "execution_count": 69,
   "metadata": {
    "collapsed": false
   },
   "outputs": [
    {
     "data": {
      "text/plain": [
       "null"
      ]
     },
     "execution_count": 69,
     "metadata": {},
     "output_type": "execute_result"
    }
   ],
   "source": [
    "import com.twosigma.beaker.widgets.integers.IntProgress\n",
    "import static com.twosigma.beaker.widgets.DisplayWidget.display;\n",
    "bar = new IntProgress()\n",
    "bar.max = 300\n",
    "bar.value = 80\n",
    "display(bar)"
   ]
  },
  {
   "cell_type": "code",
   "execution_count": 70,
   "metadata": {
    "collapsed": false
   },
   "outputs": [
    {
     "data": {
      "text/plain": [
       "null"
      ]
     },
     "execution_count": 70,
     "metadata": {},
     "output_type": "execute_result"
    }
   ],
   "source": [
    "import com.twosigma.beaker.widgets.integers.IntProgress\n",
    "import static com.twosigma.beaker.widgets.DisplayWidget.display;\n",
    "bar = new IntProgress()\n",
    "bar.max = 300\n",
    "bar.value = 90\n",
    "display(bar)"
   ]
  },
  {
   "cell_type": "code",
   "execution_count": 71,
   "metadata": {
    "collapsed": false
   },
   "outputs": [
    {
     "data": {
      "text/plain": [
       "null"
      ]
     },
     "execution_count": 71,
     "metadata": {},
     "output_type": "execute_result"
    }
   ],
   "source": [
    "import com.twosigma.beaker.widgets.integers.IntProgress\n",
    "import static com.twosigma.beaker.widgets.DisplayWidget.display;\n",
    "bar = new IntProgress()\n",
    "bar.max = 300\n",
    "bar.value = 100\n",
    "display(bar)"
   ]
  },
  {
   "cell_type": "code",
   "execution_count": 72,
   "metadata": {
    "collapsed": false
   },
   "outputs": [
    {
     "data": {
      "text/plain": [
       "null"
      ]
     },
     "execution_count": 72,
     "metadata": {},
     "output_type": "execute_result"
    }
   ],
   "source": [
    "import com.twosigma.beaker.widgets.integers.IntProgress\n",
    "import static com.twosigma.beaker.widgets.DisplayWidget.display;\n",
    "bar = new IntProgress()\n",
    "bar.max = 300\n",
    "bar.value = 110\n",
    "display(bar)"
   ]
  },
  {
   "cell_type": "code",
   "execution_count": 73,
   "metadata": {
    "collapsed": false
   },
   "outputs": [
    {
     "data": {
      "text/plain": [
       "null"
      ]
     },
     "execution_count": 73,
     "metadata": {},
     "output_type": "execute_result"
    }
   ],
   "source": [
    "import com.twosigma.beaker.widgets.integers.IntProgress\n",
    "import static com.twosigma.beaker.widgets.DisplayWidget.display;\n",
    "bar = new IntProgress()\n",
    "bar.max = 300\n",
    "bar.value = 120\n",
    "display(bar)"
   ]
  },
  {
   "cell_type": "code",
   "execution_count": 74,
   "metadata": {
    "collapsed": false
   },
   "outputs": [
    {
     "data": {
      "text/plain": [
       "null"
      ]
     },
     "execution_count": 74,
     "metadata": {},
     "output_type": "execute_result"
    }
   ],
   "source": [
    "import com.twosigma.beaker.widgets.integers.IntProgress\n",
    "import static com.twosigma.beaker.widgets.DisplayWidget.display;\n",
    "bar = new IntProgress()\n",
    "bar.max = 300\n",
    "bar.value = 130\n",
    "display(bar)"
   ]
  },
  {
   "cell_type": "code",
   "execution_count": 75,
   "metadata": {
    "collapsed": false
   },
   "outputs": [
    {
     "data": {
      "text/plain": [
       "null"
      ]
     },
     "execution_count": 75,
     "metadata": {},
     "output_type": "execute_result"
    }
   ],
   "source": [
    "import com.twosigma.beaker.widgets.integers.IntProgress\n",
    "import static com.twosigma.beaker.widgets.DisplayWidget.display;\n",
    "bar = new IntProgress()\n",
    "bar.max = 300\n",
    "bar.value = 140\n",
    "display(bar)"
   ]
  },
  {
   "cell_type": "code",
   "execution_count": 76,
   "metadata": {
    "collapsed": false
   },
   "outputs": [
    {
     "data": {
      "text/plain": [
       "null"
      ]
     },
     "execution_count": 76,
     "metadata": {},
     "output_type": "execute_result"
    }
   ],
   "source": [
    "import com.twosigma.beaker.widgets.integers.IntProgress\n",
    "import static com.twosigma.beaker.widgets.DisplayWidget.display;\n",
    "bar = new IntProgress()\n",
    "bar.max = 300\n",
    "bar.value = 150\n",
    "display(bar)"
   ]
  },
  {
   "cell_type": "code",
   "execution_count": 77,
   "metadata": {
    "collapsed": false
   },
   "outputs": [
    {
     "data": {
      "text/plain": [
       "null"
      ]
     },
     "execution_count": 77,
     "metadata": {},
     "output_type": "execute_result"
    }
   ],
   "source": [
    "import com.twosigma.beaker.widgets.integers.IntProgress\n",
    "import static com.twosigma.beaker.widgets.DisplayWidget.display;\n",
    "bar = new IntProgress()\n",
    "bar.max = 300\n",
    "bar.value = 160\n",
    "display(bar)"
   ]
  },
  {
   "cell_type": "code",
   "execution_count": 78,
   "metadata": {
    "collapsed": false
   },
   "outputs": [
    {
     "data": {
      "text/plain": [
       "null"
      ]
     },
     "execution_count": 78,
     "metadata": {},
     "output_type": "execute_result"
    }
   ],
   "source": [
    "import com.twosigma.beaker.widgets.integers.IntProgress\n",
    "import static com.twosigma.beaker.widgets.DisplayWidget.display;\n",
    "bar = new IntProgress()\n",
    "bar.max = 300\n",
    "bar.value = 170\n",
    "display(bar)"
   ]
  },
  {
   "cell_type": "code",
   "execution_count": 79,
   "metadata": {
    "collapsed": false
   },
   "outputs": [
    {
     "data": {
      "text/plain": [
       "null"
      ]
     },
     "execution_count": 79,
     "metadata": {},
     "output_type": "execute_result"
    }
   ],
   "source": [
    "import com.twosigma.beaker.widgets.integers.IntProgress\n",
    "import static com.twosigma.beaker.widgets.DisplayWidget.display;\n",
    "bar = new IntProgress()\n",
    "bar.max = 300\n",
    "bar.value = 180\n",
    "display(bar)"
   ]
  },
  {
   "cell_type": "code",
   "execution_count": 80,
   "metadata": {
    "collapsed": false
   },
   "outputs": [
    {
     "data": {
      "text/plain": [
       "null"
      ]
     },
     "execution_count": 80,
     "metadata": {},
     "output_type": "execute_result"
    }
   ],
   "source": [
    "import com.twosigma.beaker.widgets.integers.IntProgress\n",
    "import static com.twosigma.beaker.widgets.DisplayWidget.display;\n",
    "bar = new IntProgress()\n",
    "bar.max = 300\n",
    "bar.value = 190\n",
    "display(bar)"
   ]
  },
  {
   "cell_type": "code",
   "execution_count": 81,
   "metadata": {
    "collapsed": false
   },
   "outputs": [
    {
     "data": {
      "text/plain": [
       "null"
      ]
     },
     "execution_count": 81,
     "metadata": {},
     "output_type": "execute_result"
    }
   ],
   "source": [
    "import com.twosigma.beaker.widgets.integers.IntProgress\n",
    "import static com.twosigma.beaker.widgets.DisplayWidget.display;\n",
    "bar = new IntProgress()\n",
    "bar.max = 300\n",
    "bar.value = 200\n",
    "display(bar)"
   ]
  },
  {
   "cell_type": "code",
   "execution_count": 82,
   "metadata": {
    "collapsed": false
   },
   "outputs": [
    {
     "data": {
      "text/plain": [
       "null"
      ]
     },
     "execution_count": 82,
     "metadata": {},
     "output_type": "execute_result"
    }
   ],
   "source": [
    "import com.twosigma.beaker.widgets.integers.IntProgress\n",
    "import static com.twosigma.beaker.widgets.DisplayWidget.display;\n",
    "bar = new IntProgress()\n",
    "bar.max = 300\n",
    "bar.value = 210\n",
    "display(bar)"
   ]
  },
  {
   "cell_type": "code",
   "execution_count": 83,
   "metadata": {
    "collapsed": false
   },
   "outputs": [
    {
     "data": {
      "text/plain": [
       "null"
      ]
     },
     "execution_count": 83,
     "metadata": {},
     "output_type": "execute_result"
    }
   ],
   "source": [
    "import com.twosigma.beaker.widgets.integers.IntProgress\n",
    "import static com.twosigma.beaker.widgets.DisplayWidget.display;\n",
    "bar = new IntProgress()\n",
    "bar.max = 300\n",
    "bar.value = 220\n",
    "display(bar)"
   ]
  },
  {
   "cell_type": "code",
   "execution_count": 84,
   "metadata": {
    "collapsed": false
   },
   "outputs": [
    {
     "data": {
      "text/plain": [
       "null"
      ]
     },
     "execution_count": 84,
     "metadata": {},
     "output_type": "execute_result"
    }
   ],
   "source": [
    "import com.twosigma.beaker.widgets.integers.IntProgress\n",
    "import static com.twosigma.beaker.widgets.DisplayWidget.display;\n",
    "bar = new IntProgress()\n",
    "bar.max = 300\n",
    "bar.value = 230\n",
    "display(bar)"
   ]
  },
  {
   "cell_type": "code",
   "execution_count": 85,
   "metadata": {
    "collapsed": false
   },
   "outputs": [
    {
     "data": {
      "text/plain": [
       "null"
      ]
     },
     "execution_count": 85,
     "metadata": {},
     "output_type": "execute_result"
    }
   ],
   "source": [
    "import com.twosigma.beaker.widgets.integers.IntProgress\n",
    "import static com.twosigma.beaker.widgets.DisplayWidget.display;\n",
    "bar = new IntProgress()\n",
    "bar.max = 300\n",
    "bar.value = 240\n",
    "display(bar)"
   ]
  },
  {
   "cell_type": "code",
   "execution_count": 86,
   "metadata": {
    "collapsed": false
   },
   "outputs": [
    {
     "data": {
      "text/plain": [
       "null"
      ]
     },
     "execution_count": 86,
     "metadata": {},
     "output_type": "execute_result"
    }
   ],
   "source": [
    "import com.twosigma.beaker.widgets.integers.IntProgress\n",
    "import static com.twosigma.beaker.widgets.DisplayWidget.display;\n",
    "bar = new IntProgress()\n",
    "bar.max = 300\n",
    "bar.value = 250\n",
    "display(bar)"
   ]
  },
  {
   "cell_type": "code",
   "execution_count": 87,
   "metadata": {
    "collapsed": false
   },
   "outputs": [
    {
     "data": {
      "text/plain": [
       "null"
      ]
     },
     "execution_count": 87,
     "metadata": {},
     "output_type": "execute_result"
    }
   ],
   "source": [
    "import com.twosigma.beaker.widgets.integers.IntProgress\n",
    "import static com.twosigma.beaker.widgets.DisplayWidget.display;\n",
    "bar = new IntProgress()\n",
    "bar.max = 300\n",
    "bar.value = 260\n",
    "display(bar)"
   ]
  },
  {
   "cell_type": "code",
   "execution_count": 88,
   "metadata": {
    "collapsed": false
   },
   "outputs": [
    {
     "data": {
      "text/plain": [
       "null"
      ]
     },
     "execution_count": 88,
     "metadata": {},
     "output_type": "execute_result"
    }
   ],
   "source": [
    "import com.twosigma.beaker.widgets.integers.IntProgress\n",
    "import static com.twosigma.beaker.widgets.DisplayWidget.display;\n",
    "bar = new IntProgress()\n",
    "bar.max = 300\n",
    "bar.value = 270\n",
    "display(bar)"
   ]
  },
  {
   "cell_type": "code",
   "execution_count": 89,
   "metadata": {
    "collapsed": false
   },
   "outputs": [
    {
     "data": {
      "text/plain": [
       "null"
      ]
     },
     "execution_count": 89,
     "metadata": {},
     "output_type": "execute_result"
    }
   ],
   "source": [
    "import com.twosigma.beaker.widgets.integers.IntProgress\n",
    "import static com.twosigma.beaker.widgets.DisplayWidget.display;\n",
    "bar = new IntProgress()\n",
    "bar.max = 300\n",
    "bar.value = 280\n",
    "display(bar)"
   ]
  },
  {
   "cell_type": "code",
   "execution_count": 90,
   "metadata": {
    "collapsed": false
   },
   "outputs": [
    {
     "data": {
      "text/plain": [
       "null"
      ]
     },
     "execution_count": 90,
     "metadata": {},
     "output_type": "execute_result"
    }
   ],
   "source": [
    "import com.twosigma.beaker.widgets.integers.IntProgress\n",
    "import static com.twosigma.beaker.widgets.DisplayWidget.display;\n",
    "bar = new IntProgress()\n",
    "bar.max = 300\n",
    "bar.value = 290\n",
    "display(bar)"
   ]
  },
  {
   "cell_type": "code",
   "execution_count": 91,
   "metadata": {
    "collapsed": false
   },
   "outputs": [
    {
     "data": {
      "text/plain": [
       "null"
      ]
     },
     "execution_count": 91,
     "metadata": {},
     "output_type": "execute_result"
    }
   ],
   "source": [
    "import com.twosigma.beaker.widgets.integers.IntProgress\n",
    "import static com.twosigma.beaker.widgets.DisplayWidget.display;\n",
    "bar = new IntProgress()\n",
    "bar.max = 300\n",
    "bar.value = 300\n",
    "display(bar)"
   ]
  }
 ],
 "metadata": {
  "anaconda-cloud": {},
  "classpath": [],
  "imports": [
   "static java.lang.Math.*",
   "com.twosigma.beaker.chart.Color",
   "com.twosigma.beaker.chart.xychart.*",
   "com.twosigma.beaker.chart.xychart.plotitem.*",
   "com.twosigma.beaker.chart.legend.*",
   "com.twosigma.beaker.chart.Filter",
   "com.twosigma.beaker.chart.GradientColor",
   "com.twosigma.beaker.chart.categoryplot.*",
   "com.twosigma.beaker.chart.categoryplot.plotitem.*",
   "com.twosigma.beaker.chart.histogram.*",
   "com.twosigma.beaker.chart.heatmap.HeatMap",
   "com.twosigma.beaker.chart.KeyboardCodes",
   "java.util.concurrent.TimeUnit",
   "com.github.lwhite1.tablesaw.api.*",
   "com.github.lwhite1.tablesaw.columns.*",
   "com.github.lwhite1.tablesaw.api.ml.clustering.*",
   "com.github.lwhite1.tablesaw.reducing.*",
   "com.github.lwhite1.tablesaw.api.ml.regression.*",
   "static com.github.lwhite1.tablesaw.api.QueryHelper.*",
   "com.github.lwhite1.tablesaw.filtering.*"
  ],
  "kernelspec": {
   "display_name": "Groovy",
   "language": "groovy",
   "name": "groovy"
  },
  "language_info": {
   "codemirror_mode": "",
   "file_extension": ".groovy",
   "mimetype": "",
   "name": "Groovy",
   "nbconverter_exporter": "",
   "pygments_lexer": "",
   "version": "2.4.6"
  }
 },
 "nbformat": 4,
 "nbformat_minor": 2
}

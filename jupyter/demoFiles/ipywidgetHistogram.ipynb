{
 "cells": [
  {
   "cell_type": "code",
   "execution_count": 1,
   "metadata": {
    "collapsed": false
   },
   "outputs": [
    {
     "data": {
      "text/plain": [
       "1..10000"
      ]
     },
     "execution_count": 1,
     "metadata": {},
     "output_type": "execute_result"
    }
   ],
   "source": [
    "Random random = new Random();\n",
    "data1 = [];\n",
    "data2 = [];\n",
    "\n",
    "(1..10000).each {\n",
    "  data1 << random.nextGaussian();\n",
    "  data2 << random.nextGaussian() + 1.0;\n",
    "}"
   ]
  },
  {
   "cell_type": "code",
   "execution_count": 2,
   "metadata": {
    "collapsed": false
   },
   "outputs": [
    {
     "data": {
      "text/plain": []
     },
     "execution_count": 2,
     "metadata": {},
     "output_type": "execute_result"
    }
   ],
   "source": [
    "import com.twosigma.beaker.chart.xychart.*\n",
    "import com.twosigma.beaker.chart.legend.*\n",
    "import com.twosigma.beaker.chart.xychart.plotitem.*\n",
    "import com.twosigma.beaker.chart.Color\n",
    "import com.twosigma.beaker.chart.histogram.Histogram\n",
    "\n",
    "new com.twosigma.beaker.widgets.chart.histogram.Histogram(data: data1, binCount: 25);"
   ]
  },
  {
   "cell_type": "code",
   "execution_count": 2,
   "metadata": {
    "collapsed": false
   },
   "outputs": [
    {
     "data": {
      "text/plain": []
     },
     "execution_count": 2,
     "metadata": {},
     "output_type": "execute_result"
    }
   ],
   "source": [
    "import com.twosigma.beaker.chart.xychart.*\n",
    "import com.twosigma.beaker.chart.legend.*\n",
    "import com.twosigma.beaker.chart.xychart.plotitem.*\n",
    "import com.twosigma.beaker.chart.Color\n",
    "import com.twosigma.beaker.chart.histogram.Histogram\n",
    "\n",
    "new com.twosigma.beaker.widgets.chart.histogram.Histogram(\n",
    "              initWidth:800,\n",
    "              initHeight:200,\n",
    "              title:\"Wide Histogram with Manual Parameters\",\n",
    "              xLabel:\"Size\",\n",
    "              yLabel:\"Count\",\n",
    "              rangeMin: -8, \n",
    "              rangeMax: 8, \n",
    "              data: data1 + [7]*200,\n",
    "              binCount: 99, \n",
    "              color: new Color(0, 154, 166));"
   ]
  },
  {
   "cell_type": "code",
   "execution_count": 3,
   "metadata": {
    "collapsed": false
   },
   "outputs": [
    {
     "data": {
      "text/plain": []
     },
     "execution_count": 3,
     "metadata": {},
     "output_type": "execute_result"
    }
   ],
   "source": [
    "import com.twosigma.beaker.chart.xychart.*\n",
    "import com.twosigma.beaker.chart.legend.*\n",
    "import com.twosigma.beaker.chart.xychart.plotitem.*\n",
    "import com.twosigma.beaker.chart.Color\n",
    "import com.twosigma.beaker.chart.histogram.Histogram\n",
    "\n",
    "new com.twosigma.beaker.widgets.chart.histogram.Histogram(title:\"Default is Overlap\",\n",
    "              data: [data1, data2],\n",
    "              binCount: 99,\n",
    "              names: [\"old and tired\", \"new and improved\"],\n",
    "              color: [new Color(0, 154, 166),\n",
    "                      new Color(230, 50, 50, 128) // transparent!\n",
    "                     ]);"
   ]
  },
  {
   "cell_type": "code",
   "execution_count": 4,
   "metadata": {
    "collapsed": false
   },
   "outputs": [
    {
     "data": {
      "text/plain": []
     },
     "execution_count": 4,
     "metadata": {},
     "output_type": "execute_result"
    }
   ],
   "source": [
    "import com.twosigma.beaker.chart.xychart.*\n",
    "import com.twosigma.beaker.chart.legend.*\n",
    "import com.twosigma.beaker.chart.xychart.plotitem.*\n",
    "import com.twosigma.beaker.chart.Color\n",
    "import com.twosigma.beaker.chart.histogram.Histogram\n",
    "\n",
    "new com.twosigma.beaker.widgets.chart.histogram.Histogram(\n",
    "              title:\"Stack\",\n",
    "              showLegend: false,\n",
    "              displayMode: Histogram.DisplayMode.STACK,\n",
    "              data: [data1, data2],\n",
    "              binCount: 99)"
   ]
  },
  {
   "cell_type": "code",
   "execution_count": 6,
   "metadata": {
    "collapsed": false
   },
   "outputs": [
    {
     "data": {
      "text/plain": []
     },
     "execution_count": 6,
     "metadata": {},
     "output_type": "execute_result"
    }
   ],
   "source": [
    "import com.twosigma.beaker.chart.xychart.*\n",
    "import com.twosigma.beaker.chart.legend.*\n",
    "import com.twosigma.beaker.chart.xychart.plotitem.*\n",
    "import com.twosigma.beaker.chart.Color\n",
    "import com.twosigma.beaker.chart.histogram.Histogram\n",
    "\n",
    "new com.twosigma.beaker.widgets.chart.histogram.Histogram(\n",
    "              title:\"Side by Side\",\n",
    "              displayMode: Histogram.DisplayMode.SIDE_BY_SIDE,\n",
    "              data: [data1,data2], \n",
    "              binCount: 55)"
   ]
  },
  {
   "cell_type": "code",
   "execution_count": 7,
   "metadata": {
    "collapsed": false
   },
   "outputs": [
    {
     "data": {
      "text/plain": []
     },
     "execution_count": 7,
     "metadata": {},
     "output_type": "execute_result"
    }
   ],
   "source": [
    "import com.twosigma.beaker.chart.xychart.*\n",
    "import com.twosigma.beaker.chart.legend.*\n",
    "import com.twosigma.beaker.chart.xychart.plotitem.*\n",
    "import com.twosigma.beaker.chart.Color\n",
    "import com.twosigma.beaker.chart.histogram.Histogram\n",
    "\n",
    "new com.twosigma.beaker.widgets.chart.histogram.Histogram(\n",
    "              title:\"Cumulative\",\n",
    "              cumulative: true,\n",
    "              data: data1,\n",
    "              binCount: 55);"
   ]
  },
  {
   "cell_type": "code",
   "execution_count": 8,
   "metadata": {
    "collapsed": false
   },
   "outputs": [
    {
     "data": {
      "text/plain": []
     },
     "execution_count": 8,
     "metadata": {},
     "output_type": "execute_result"
    }
   ],
   "source": [
    "import com.twosigma.beaker.chart.xychart.*\n",
    "import com.twosigma.beaker.chart.legend.*\n",
    "import com.twosigma.beaker.chart.xychart.plotitem.*\n",
    "import com.twosigma.beaker.chart.Color\n",
    "import com.twosigma.beaker.chart.histogram.Histogram\n",
    "\n",
    "new com.twosigma.beaker.widgets.chart.histogram.Histogram(\n",
    "              title:\"Normed, Area = 1.0\",\n",
    "              normed: true,\n",
    "              data: data1,\n",
    "              binCount: 55);"
   ]
  },
  {
   "cell_type": "code",
   "execution_count": 10,
   "metadata": {
    "collapsed": false
   },
   "outputs": [
    {
     "data": {
      "text/plain": []
     },
     "execution_count": 10,
     "metadata": {},
     "output_type": "execute_result"
    }
   ],
   "source": [
    "import com.twosigma.beaker.chart.xychart.*\n",
    "import com.twosigma.beaker.chart.legend.*\n",
    "import com.twosigma.beaker.chart.xychart.plotitem.*\n",
    "import com.twosigma.beaker.chart.Color\n",
    "import com.twosigma.beaker.chart.histogram.Histogram\n",
    "\n",
    "new com.twosigma.beaker.widgets.chart.histogram.Histogram(\n",
    "              log: true,  \n",
    "              data: data1,\n",
    "              binCount: 99);"
   ]
  },
  {
   "cell_type": "code",
   "execution_count": null,
   "metadata": {
    "collapsed": true
   },
   "outputs": [],
   "source": []
  }
 ],
 "metadata": {
  "anaconda-cloud": {},
  "kernelspec": {
   "display_name": "Groovy",
   "language": "groovy",
   "name": "groovy"
  },
  "language_info": {
   "codemirror_mode": "",
   "file_extension": ".groovy",
   "mimetype": "",
   "name": "Groovy",
   "nbconverter_exporter": "",
   "pygments_lexer": "",
   "version": "2.4.6"
  }
 },
 "nbformat": 4,
 "nbformat_minor": 0
}

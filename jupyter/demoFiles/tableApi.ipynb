{
 "cells": [
  {
   "cell_type": "code",
   "execution_count": 3,
   "metadata": {
    "collapsed": false
   },
   "outputs": [
    {
     "data": {
      "text/plain": []
     },
     "execution_count": 3,
     "metadata": {},
     "output_type": "execute_result"
    }
   ],
   "source": [
    "import com.twosigma.beaker.table.*\n",
    "import java.util.concurrent.TimeUnit    \n",
    "import com.twosigma.beaker.table.format.TableDisplayStringFormat\n",
    "import com.twosigma.beaker.fileloader.CsvPlotReader\n",
    "\n",
    "def rates = new CsvPlotReader().readAsList(\"tableRows.csv\")\n",
    "display = new TableDisplay(rates)\n",
    "display"
   ]
  },
  {
   "cell_type": "code",
   "execution_count": 4,
   "metadata": {
    "collapsed": false
   },
   "outputs": [
    {
     "data": {
      "text/plain": []
     },
     "execution_count": 4,
     "metadata": {},
     "output_type": "execute_result"
    }
   ],
   "source": [
    "display"
   ]
  },
  {
   "cell_type": "code",
   "execution_count": null,
   "metadata": {
    "collapsed": true
   },
   "outputs": [],
   "source": []
  }
 ],
 "metadata": {
  "anaconda-cloud": {},
  "classpath": [],
  "imports": [
   "static java.lang.Math.*",
   "com.twosigma.beaker.chart.Color",
   "com.twosigma.beaker.chart.xychart.*",
   "com.twosigma.beaker.chart.xychart.plotitem.*",
   "com.twosigma.beaker.chart.legend.*",
   "com.twosigma.beaker.chart.Filter",
   "com.twosigma.beaker.chart.GradientColor",
   "com.twosigma.beaker.chart.categoryplot.*",
   "com.twosigma.beaker.chart.categoryplot.plotitem.*",
   "com.twosigma.beaker.chart.histogram.*",
   "com.twosigma.beaker.chart.heatmap.HeatMap",
   "com.twosigma.beaker.chart.KeyboardCodes",
   "java.util.concurrent.TimeUnit",
   "com.github.lwhite1.tablesaw.api.*",
   "com.github.lwhite1.tablesaw.columns.*",
   "com.github.lwhite1.tablesaw.api.ml.clustering.*",
   "com.github.lwhite1.tablesaw.reducing.*",
   "com.github.lwhite1.tablesaw.api.ml.regression.*",
   "static com.github.lwhite1.tablesaw.api.QueryHelper.*",
   "com.github.lwhite1.tablesaw.filtering.*"
  ],
  "kernelspec": {
   "display_name": "Groovy",
   "language": "groovy",
   "name": "groovy"
  },
  "language_info": {
   "codemirror_mode": "",
   "file_extension": ".groovy",
   "mimetype": "",
   "name": "Groovy",
   "nbconverter_exporter": "",
   "pygments_lexer": "",
   "version": "2.4.6"
  },
  "widgets": {
   "state": {
    "f7d30807-6d2d-414d-b604-fcb0ed748612": {
     "views": [
      {
       "cell_index": 0
      },
      {
       "cell_index": 1
      }
     ]
    }
   },
   "version": "1.2.0"
  }
 },
 "nbformat": 4,
 "nbformat_minor": 2
}

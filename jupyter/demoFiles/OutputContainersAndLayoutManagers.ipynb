{
 "cells": [
  {
   "cell_type": "code",
   "execution_count": 1,
   "metadata": {
    "collapsed": false
   },
   "outputs": [
    {
     "data": {
      "text/plain": []
     },
     "execution_count": 1,
     "metadata": {},
     "output_type": "execute_result"
    }
   ],
   "source": [
    "import com.twosigma.beaker.jvm.object.OutputContainer;\n",
    "def o = new OutputContainer()\n",
    "o.addItem(\"simplest example\")\n",
    "o << [2, 3, 5, 7] // shorter syntax"
   ]
  },
  {
   "cell_type": "code",
   "execution_count": 4,
   "metadata": {
    "collapsed": false
   },
   "outputs": [
    {
     "data": {
      "text/plain": [
       "ok"
      ]
     },
     "execution_count": 4,
     "metadata": {},
     "output_type": "execute_result"
    }
   ],
   "source": [
    "import com.twosigma.beaker.fileloader.CsvPlotReader\n",
    "\n",
    "def rates = new CsvPlotReader().readAsList(\"tableRows.csv\")\n",
    "def c = new Color(120, 120, 120, 100)\n",
    "plot1 = new Plot(initWidth: 300, initHeight: 400) \\\n",
    "     << new Points(x:rates.y1, y:rates.y30, size: 3, displayName:\"y1 vs y30\") \\\n",
    "     << new Points(x:rates.m3, y:rates.y5, size: 3, displayName:\"m3 vs y5\") \\\n",
    "     << new Line(x:rates.m3, y:rates.y5, color: c) \\\n",
    "     << new Line(x:rates.y1, y:rates.y30, color: c)\n",
    "\n",
    "plot2 = new SimpleTimePlot(rates, [\"m3\", \"y1\"], showLegend:false, initWidth: 300, initHeight: 400)\n",
    "plot3 = new SimpleTimePlot(rates, [\"y5\", \"y10\"], showLegend:false, initWidth: 300, initHeight: 400)\n",
    "table = rates[0]\n",
    "\"ok\""
   ]
  },
  {
   "cell_type": "code",
   "execution_count": 3,
   "metadata": {
    "collapsed": false
   },
   "outputs": [
    {
     "data": {
      "text/plain": []
     },
     "execution_count": 3,
     "metadata": {},
     "output_type": "execute_result"
    }
   ],
   "source": [
    "import com.twosigma.beaker.jvm.object.OutputContainer;\n",
    "new OutputContainer() << plot1 << plot2 << table"
   ]
  },
  {
   "cell_type": "code",
   "execution_count": 7,
   "metadata": {
    "collapsed": false
   },
   "outputs": [
    {
     "data": {
      "text/plain": []
     },
     "execution_count": 7,
     "metadata": {},
     "output_type": "execute_result"
    }
   ],
   "source": [
    "import com.twosigma.beaker.jvm.object.TabbedOutputContainerLayoutManager;\n",
    "import com.twosigma.beaker.jvm.object.OutputContainer;\n",
    "\n",
    "def l = new TabbedOutputContainerLayoutManager()\n",
    "l.setBorderDisplayed(false)\n",
    "def o = new OutputContainer()\n",
    "o.setLayoutManager(l)\n",
    "o.addItem(plot1, \"Scatter with History\")\n",
    "o.addItem(plot2, \"Short Term\")\n",
    "o.addItem(plot3, \"Long Term\")\n",
    "o.addItem(table, \"1990/01\")\n",
    "o"
   ]
  },
  {
   "cell_type": "code",
   "execution_count": 2,
   "metadata": {
    "collapsed": false
   },
   "outputs": [
    {
     "data": {
      "text/plain": [
       "null"
      ]
     },
     "execution_count": 2,
     "metadata": {},
     "output_type": "execute_result"
    }
   ],
   "source": [
    "import com.twosigma.beaker.widgets.strings.Text\n",
    "import com.twosigma.beaker.widgets.selectioncontainer.Tab\n",
    "import static com.twosigma.beaker.widgets.DisplayWidget.display;\n",
    "\n",
    "t1 = new Text()\n",
    "t1.value = \"Text example 1\"\n",
    "t2 = new Text()\n",
    "t2.value = \"Text example 1\"\n",
    "\n",
    "tab = new Tab([t1,t2])\n",
    "\n",
    "display(tab)"
   ]
  },
  {
   "cell_type": "code",
   "execution_count": null,
   "metadata": {
    "collapsed": true
   },
   "outputs": [],
   "source": []
  }
 ],
 "metadata": {
  "anaconda-cloud": {},
  "classpath": [],
  "imports": [
   "static java.lang.Math.*",
   "com.twosigma.beaker.chart.Color",
   "com.twosigma.beaker.chart.xychart.*",
   "com.twosigma.beaker.chart.xychart.plotitem.*",
   "com.twosigma.beaker.chart.legend.*",
   "com.twosigma.beaker.chart.Filter",
   "com.twosigma.beaker.chart.GradientColor",
   "com.twosigma.beaker.chart.categoryplot.*",
   "com.twosigma.beaker.chart.categoryplot.plotitem.*",
   "com.twosigma.beaker.chart.histogram.*",
   "com.twosigma.beaker.chart.heatmap.HeatMap",
   "com.twosigma.beaker.chart.KeyboardCodes",
   "java.util.concurrent.TimeUnit",
   "com.github.lwhite1.tablesaw.api.*",
   "com.github.lwhite1.tablesaw.columns.*",
   "com.github.lwhite1.tablesaw.api.ml.clustering.*",
   "com.github.lwhite1.tablesaw.reducing.*",
   "com.github.lwhite1.tablesaw.api.ml.regression.*",
   "static com.github.lwhite1.tablesaw.api.QueryHelper.*",
   "com.github.lwhite1.tablesaw.filtering.*"
  ],
  "kernelspec": {
   "display_name": "Groovy",
   "language": "groovy",
   "name": "groovy"
  },
  "language_info": {
   "codemirror_mode": "",
   "file_extension": ".groovy",
   "mimetype": "",
   "name": "Groovy",
   "nbconverter_exporter": "",
   "pygments_lexer": "",
   "version": "2.4.6"
  },
  "widgets": {
   "state": {
    "567fa369-7110-4b56-a468-803e9c8fb157": {
     "views": [
      {
       "cell_index": 0
      }
     ]
    },
    "d3fc88ce-6477-40b8-85d9-ecb3716b8176": {
     "views": [
      {
       "cell_index": 0
      }
     ]
    }
   },
   "version": "1.2.0"
  }
 },
 "nbformat": 4,
 "nbformat_minor": 1
}

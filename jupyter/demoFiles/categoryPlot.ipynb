{
 "cells": [
  {
   "cell_type": "code",
   "execution_count": 51,
   "metadata": {
    "collapsed": false
   },
   "outputs": [
    {
     "data": {
      "text/html": [
       "<html><div id='beakerChart50'></div><script>var j = {\"type\":\"CategoryPlot\",\"init_width\":640,\"init_height\":480,\"chart_title\":null,\"show_legend\":null,\"use_tool_tip\":true,\"legend_position\":{\"type\":\"LegendPosition\",\"position\":\"TOP_RIGHT\"},\"legend_layout\":\"VERTICAL\",\"custom_styles\":[],\"element_styles\":{},\"domain_axis_label\":null,\"y_label\":\"\",\"rangeAxes\":[{\"type\":\"YAxis\",\"label\":\"\",\"auto_range\":true,\"auto_range_includes_zero\":false,\"lower_margin\":0.0,\"upper_margin\":0.0,\"lower_bound\":0.0,\"upper_bound\":0.0,\"use_log\":false,\"log_base\":10.0}],\"x_lower_margin\":0.05,\"x_upper_margin\":0.05,\"y_auto_range\":true,\"y_auto_range_includes_zero\":false,\"y_lower_margin\":0.0,\"y_upper_margin\":0.0,\"y_lower_bound\":0.0,\"y_upper_bound\":0.0,\"log_y\":false,\"timezone\":null,\"crosshair\":null,\"omit_checkboxes\":false,\"categoryNames\":[],\"graphics_list\":[{\"type\":\"CategoryBars\",\"uid\":\"251f5ea6-9779-4b41-b5c9-f6bd864764ea\",\"visible\":true,\"yAxis\":null,\"hasClickAction\":false,\"showItemLabel\":false,\"center_series\":false,\"use_tool_tip\":true,\"value\":[[1,2,3],[1,3,5]],\"color\":null,\"base\":0.0,\"width\":null,\"outline_color\":null,\"fill\":null,\"outline\":false,\"labelPosition\":\"CENTER\"}],\"orientation\":\"VERTICAL\",\"category_margin\":0.2,\"categoryNamesLabelAngle\":0.0}; console.log('plot this:'); console.log(j); window.initPlotd(j,'beakerChart50');</script></html>"
      ]
     },
     "execution_count": 51,
     "metadata": {},
     "output_type": "execute_result"
    }
   ],
   "source": [
    "def bars = new CategoryBars(value: [[1, 2, 3], [1, 3, 5]])\n",
    "new CategoryPlot() << bars"
   ]
  },
  {
   "cell_type": "code",
   "execution_count": 52,
   "metadata": {
    "collapsed": false
   },
   "outputs": [
    {
     "data": {
      "text/html": [
       "<html><div id='beakerChart51'></div><script>var j = {\"type\":\"CategoryPlot\",\"init_width\":400,\"init_height\":200,\"chart_title\":null,\"show_legend\":null,\"use_tool_tip\":true,\"legend_position\":{\"type\":\"LegendPosition\",\"position\":\"TOP_RIGHT\"},\"legend_layout\":\"VERTICAL\",\"custom_styles\":[],\"element_styles\":{},\"domain_axis_label\":null,\"y_label\":\"\",\"rangeAxes\":[{\"type\":\"YAxis\",\"label\":\"\",\"auto_range\":true,\"auto_range_includes_zero\":false,\"lower_margin\":0.0,\"upper_margin\":0.0,\"lower_bound\":0.0,\"upper_bound\":0.0,\"use_log\":false,\"log_base\":10.0}],\"x_lower_margin\":0.05,\"x_upper_margin\":0.05,\"y_auto_range\":true,\"y_auto_range_includes_zero\":false,\"y_lower_margin\":0.0,\"y_upper_margin\":0.0,\"y_lower_bound\":0.0,\"y_upper_bound\":0.0,\"log_y\":false,\"timezone\":null,\"crosshair\":null,\"omit_checkboxes\":false,\"categoryNames\":[],\"graphics_list\":[{\"type\":\"CategoryBars\",\"uid\":\"2655214a-8f31-47ef-ae75-7e34a1ad05a3\",\"visible\":true,\"yAxis\":null,\"hasClickAction\":false,\"showItemLabel\":false,\"center_series\":false,\"use_tool_tip\":true,\"value\":[[1,2,3],[1,3,5]],\"color\":null,\"base\":0.0,\"width\":null,\"outline_color\":null,\"fill\":null,\"outline\":false,\"labelPosition\":\"CENTER\"}],\"orientation\":\"VERTICAL\",\"category_margin\":0.2,\"categoryNamesLabelAngle\":0.0}; console.log('plot this:'); console.log(j); window.initPlotd(j,'beakerChart51');</script></html>"
      ]
     },
     "execution_count": 52,
     "metadata": {},
     "output_type": "execute_result"
    }
   ],
   "source": [
    "def cplot = new CategoryPlot(initWidth: 400, initHeight: 200)\n",
    "def bars = new CategoryBars(value:[[1, 2, 3], [1, 3, 5]])\n",
    "cplot << bars"
   ]
  },
  {
   "cell_type": "code",
   "execution_count": 53,
   "metadata": {
    "collapsed": false
   },
   "outputs": [
    {
     "data": {
      "text/html": [
       "<html><div id='beakerChart52'></div><script>var j = {\"type\":\"CategoryPlot\",\"init_width\":640,\"init_height\":480,\"chart_title\":\"Hello CategoryPlot!\",\"show_legend\":null,\"use_tool_tip\":true,\"legend_position\":{\"type\":\"LegendPosition\",\"position\":\"TOP_RIGHT\"},\"legend_layout\":\"VERTICAL\",\"custom_styles\":[],\"element_styles\":{},\"domain_axis_label\":\"Categories\",\"y_label\":\"Values\",\"rangeAxes\":[{\"type\":\"YAxis\",\"label\":\"Values\",\"auto_range\":true,\"auto_range_includes_zero\":false,\"lower_margin\":0.0,\"upper_margin\":0.0,\"lower_bound\":0.0,\"upper_bound\":0.0,\"use_log\":false,\"log_base\":10.0}],\"x_lower_margin\":0.05,\"x_upper_margin\":0.05,\"y_auto_range\":true,\"y_auto_range_includes_zero\":false,\"y_lower_margin\":0.0,\"y_upper_margin\":0.0,\"y_lower_bound\":0.0,\"y_upper_bound\":0.0,\"log_y\":false,\"timezone\":null,\"crosshair\":null,\"omit_checkboxes\":false,\"categoryNames\":[],\"graphics_list\":[{\"type\":\"CategoryBars\",\"uid\":\"6a0302fa-e0a5-4dba-afd6-34be0d66f9ab\",\"visible\":true,\"yAxis\":null,\"hasClickAction\":false,\"showItemLabel\":false,\"center_series\":false,\"use_tool_tip\":true,\"value\":[[1,2,3],[1,3,5]],\"color\":null,\"base\":0.0,\"width\":null,\"outline_color\":null,\"fill\":null,\"outline\":false,\"labelPosition\":\"CENTER\"}],\"orientation\":\"VERTICAL\",\"category_margin\":0.2,\"categoryNamesLabelAngle\":0.0}; console.log('plot this:'); console.log(j); window.initPlotd(j,'beakerChart52');</script></html>"
      ]
     },
     "execution_count": 53,
     "metadata": {},
     "output_type": "execute_result"
    }
   ],
   "source": [
    "def cplot = new CategoryPlot(title: \"Hello CategoryPlot!\",\n",
    "                             xLabel: \"Categories\",\n",
    "                             yLabel: \"Values\")\n",
    "cplot << new CategoryBars(value:[[1, 2, 3], [1, 3, 5]])"
   ]
  },
  {
   "cell_type": "code",
   "execution_count": 54,
   "metadata": {
    "collapsed": false
   },
   "outputs": [
    {
     "data": {
      "text/html": [
       "<html><div id='beakerChart53'></div><script>var j = {\"type\":\"CategoryPlot\",\"init_width\":640,\"init_height\":480,\"chart_title\":null,\"show_legend\":null,\"use_tool_tip\":true,\"legend_position\":{\"type\":\"LegendPosition\",\"position\":\"TOP_RIGHT\"},\"legend_layout\":\"VERTICAL\",\"custom_styles\":[],\"element_styles\":{},\"domain_axis_label\":null,\"y_label\":\"\",\"rangeAxes\":[{\"type\":\"YAxis\",\"label\":\"\",\"auto_range\":true,\"auto_range_includes_zero\":false,\"lower_margin\":0.0,\"upper_margin\":0.0,\"lower_bound\":0.0,\"upper_bound\":0.0,\"use_log\":false,\"log_base\":10.0}],\"x_lower_margin\":0.05,\"x_upper_margin\":0.05,\"y_auto_range\":true,\"y_auto_range_includes_zero\":false,\"y_lower_margin\":0.0,\"y_upper_margin\":0.0,\"y_lower_bound\":0.0,\"y_upper_bound\":0.0,\"log_y\":false,\"timezone\":null,\"crosshair\":null,\"omit_checkboxes\":false,\"categoryNames\":[\"Helium\",\"Neon\",\"Argon\"],\"graphics_list\":[{\"type\":\"CategoryBars\",\"uid\":\"c69eb135-e41b-42ed-9ac6-6e22050d689f\",\"visible\":true,\"yAxis\":null,\"hasClickAction\":false,\"showItemLabel\":false,\"center_series\":false,\"use_tool_tip\":true,\"value\":[[1,2,3],[1,3,5]],\"color\":null,\"base\":0.0,\"width\":null,\"outline_color\":null,\"fill\":null,\"outline\":false,\"labelPosition\":\"CENTER\"}],\"orientation\":\"VERTICAL\",\"category_margin\":0.2,\"categoryNamesLabelAngle\":0.0}; console.log('plot this:'); console.log(j); window.initPlotd(j,'beakerChart53');</script></html>"
      ]
     },
     "execution_count": 54,
     "metadata": {},
     "output_type": "execute_result"
    }
   ],
   "source": [
    "def cplot = new CategoryPlot(categoryNames: [\"Helium\", \"Neon\", \"Argon\"])\n",
    "cplot << new CategoryBars(value: [[1, 2, 3], [1, 3, 5]])"
   ]
  },
  {
   "cell_type": "code",
   "execution_count": 55,
   "metadata": {
    "collapsed": false
   },
   "outputs": [
    {
     "data": {
      "text/html": [
       "<html><div id='beakerChart54'></div><script>var j = {\"type\":\"CategoryPlot\",\"init_width\":640,\"init_height\":480,\"chart_title\":null,\"show_legend\":null,\"use_tool_tip\":true,\"legend_position\":{\"type\":\"LegendPosition\",\"position\":\"TOP_RIGHT\"},\"legend_layout\":\"VERTICAL\",\"custom_styles\":[],\"element_styles\":{},\"domain_axis_label\":null,\"y_label\":\"\",\"rangeAxes\":[{\"type\":\"YAxis\",\"label\":\"\",\"auto_range\":true,\"auto_range_includes_zero\":false,\"lower_margin\":0.0,\"upper_margin\":0.0,\"lower_bound\":0.0,\"upper_bound\":0.0,\"use_log\":false,\"log_base\":10.0}],\"x_lower_margin\":0.05,\"x_upper_margin\":0.05,\"y_auto_range\":true,\"y_auto_range_includes_zero\":false,\"y_lower_margin\":0.0,\"y_upper_margin\":0.0,\"y_lower_bound\":0.0,\"y_upper_bound\":0.0,\"log_y\":false,\"timezone\":null,\"crosshair\":null,\"omit_checkboxes\":false,\"categoryNames\":[],\"graphics_list\":[{\"type\":\"CategoryBars\",\"uid\":\"c59171c1-5940-4215-8666-82d18989a3f0\",\"visible\":true,\"yAxis\":null,\"hasClickAction\":false,\"showItemLabel\":false,\"center_series\":false,\"use_tool_tip\":true,\"seriesNames\":[\"Gas\",\"Liquid\"],\"value\":[[1,2,3],[1,3,5]],\"color\":null,\"base\":0.0,\"width\":null,\"outline_color\":null,\"fill\":null,\"outline\":false,\"labelPosition\":\"CENTER\"}],\"orientation\":\"VERTICAL\",\"category_margin\":0.2,\"categoryNamesLabelAngle\":0.0}; console.log('plot this:'); console.log(j); window.initPlotd(j,'beakerChart54');</script></html>"
      ]
     },
     "execution_count": 55,
     "metadata": {},
     "output_type": "execute_result"
    }
   ],
   "source": [
    "new CategoryPlot() << new CategoryBars(value: [[1, 2, 3], [1, 3, 5]],\n",
    "                                       seriesNames: [\"Gas\", \"Liquid\"])"
   ]
  },
  {
   "cell_type": "code",
   "execution_count": 56,
   "metadata": {
    "collapsed": false
   },
   "outputs": [
    {
     "data": {
      "text/html": [
       "<html><div id='beakerChart55'></div><script>var j = {\"type\":\"CategoryPlot\",\"init_width\":640,\"init_height\":480,\"chart_title\":null,\"show_legend\":null,\"use_tool_tip\":true,\"legend_position\":{\"type\":\"LegendPosition\",\"position\":\"TOP_RIGHT\"},\"legend_layout\":\"VERTICAL\",\"custom_styles\":[],\"element_styles\":{},\"domain_axis_label\":null,\"y_label\":\"\",\"rangeAxes\":[{\"type\":\"YAxis\",\"label\":\"\",\"auto_range\":true,\"auto_range_includes_zero\":false,\"lower_margin\":0.0,\"upper_margin\":0.0,\"lower_bound\":0.0,\"upper_bound\":0.0,\"use_log\":false,\"log_base\":10.0}],\"x_lower_margin\":0.05,\"x_upper_margin\":0.05,\"y_auto_range\":true,\"y_auto_range_includes_zero\":false,\"y_lower_margin\":0.0,\"y_upper_margin\":0.0,\"y_lower_bound\":0.0,\"y_upper_bound\":0.0,\"log_y\":false,\"timezone\":null,\"crosshair\":null,\"omit_checkboxes\":false,\"categoryNames\":[],\"graphics_list\":[{\"type\":\"CategoryBars\",\"uid\":\"8220b288-6826-4d2c-96cb-00acf703c817\",\"visible\":true,\"yAxis\":null,\"hasClickAction\":false,\"showItemLabel\":false,\"center_series\":false,\"use_tool_tip\":true,\"seriesNames\":[\"Gas\",null,\"\",\"Liquid\"],\"value\":[[1,2],[3,4],[5,6],[7,8]],\"color\":null,\"base\":0.0,\"width\":null,\"outline_color\":null,\"fill\":null,\"outline\":false,\"labelPosition\":\"CENTER\"}],\"orientation\":\"VERTICAL\",\"category_margin\":0.2,\"categoryNamesLabelAngle\":0.0}; console.log('plot this:'); console.log(j); window.initPlotd(j,'beakerChart55');</script></html>"
      ]
     },
     "execution_count": 56,
     "metadata": {},
     "output_type": "execute_result"
    }
   ],
   "source": [
    "def bars = new CategoryBars(value: [[1, 2], [3, 4], [5, 6], [7, 8]],\n",
    "                            seriesNames: [\"Gas\", null, \"\", \"Liquid\"])\n",
    "new CategoryPlot() << bars"
   ]
  },
  {
   "cell_type": "code",
   "execution_count": 57,
   "metadata": {
    "collapsed": false
   },
   "outputs": [
    {
     "data": {
      "text/html": [
       "<html><div id='beakerChart56'></div><script>var j = {\"type\":\"CategoryPlot\",\"init_width\":640,\"init_height\":480,\"chart_title\":null,\"show_legend\":true,\"use_tool_tip\":true,\"legend_position\":{\"type\":\"LegendPosition\",\"position\":\"TOP_RIGHT\"},\"legend_layout\":\"VERTICAL\",\"custom_styles\":[],\"element_styles\":{},\"domain_axis_label\":null,\"y_label\":\"\",\"rangeAxes\":[{\"type\":\"YAxis\",\"label\":\"\",\"auto_range\":true,\"auto_range_includes_zero\":false,\"lower_margin\":0.0,\"upper_margin\":0.0,\"lower_bound\":0.0,\"upper_bound\":0.0,\"use_log\":false,\"log_base\":10.0}],\"x_lower_margin\":0.05,\"x_upper_margin\":0.05,\"y_auto_range\":true,\"y_auto_range_includes_zero\":false,\"y_lower_margin\":0.0,\"y_upper_margin\":0.0,\"y_lower_bound\":0.0,\"y_upper_bound\":0.0,\"log_y\":false,\"timezone\":null,\"crosshair\":null,\"omit_checkboxes\":false,\"categoryNames\":[],\"graphics_list\":[{\"type\":\"CategoryBars\",\"uid\":\"286ace33-bb3a-455f-ae13-4f2c692adef6\",\"visible\":true,\"yAxis\":null,\"hasClickAction\":false,\"showItemLabel\":false,\"center_series\":false,\"use_tool_tip\":true,\"value\":[[1,2,3],[1,3,5]],\"color\":null,\"base\":0.0,\"width\":null,\"outline_color\":null,\"fill\":null,\"outline\":false,\"labelPosition\":\"CENTER\"}],\"orientation\":\"VERTICAL\",\"category_margin\":0.2,\"categoryNamesLabelAngle\":0.0}; console.log('plot this:'); console.log(j); window.initPlotd(j,'beakerChart56');</script></html>"
      ]
     },
     "execution_count": 57,
     "metadata": {},
     "output_type": "execute_result"
    }
   ],
   "source": [
    "def plot = new CategoryPlot(showLegend: true) // force legend display\n",
    "def bars = new CategoryBars(value: [[1, 2, 3], [1, 3, 5]])\n",
    "// since no display names were provided, default names \"series0\" etc will be used.\n",
    "plot << bars"
   ]
  },
  {
   "cell_type": "code",
   "execution_count": 58,
   "metadata": {
    "collapsed": false
   },
   "outputs": [
    {
     "data": {
      "text/html": [
       "<html><div id='beakerChart57'></div><script>var j = {\"type\":\"CategoryPlot\",\"init_width\":640,\"init_height\":480,\"chart_title\":null,\"show_legend\":null,\"use_tool_tip\":true,\"legend_position\":{\"type\":\"LegendPosition\",\"position\":\"TOP_RIGHT\"},\"legend_layout\":\"VERTICAL\",\"custom_styles\":[],\"element_styles\":{},\"domain_axis_label\":null,\"y_label\":\"\",\"rangeAxes\":[{\"type\":\"YAxis\",\"label\":\"\",\"auto_range\":true,\"auto_range_includes_zero\":false,\"lower_margin\":0.0,\"upper_margin\":0.0,\"lower_bound\":0.0,\"upper_bound\":0.0,\"use_log\":false,\"log_base\":10.0}],\"x_lower_margin\":0.05,\"x_upper_margin\":0.05,\"y_auto_range\":true,\"y_auto_range_includes_zero\":false,\"y_lower_margin\":0.0,\"y_upper_margin\":0.0,\"y_lower_bound\":0.0,\"y_upper_bound\":0.0,\"log_y\":false,\"timezone\":null,\"crosshair\":null,\"omit_checkboxes\":false,\"categoryNames\":[],\"graphics_list\":[{\"type\":\"CategoryBars\",\"uid\":\"a1500f18-1a73-448a-a6d7-79ae6c03df11\",\"visible\":true,\"yAxis\":null,\"hasClickAction\":false,\"showItemLabel\":false,\"center_series\":false,\"use_tool_tip\":true,\"value\":[[1,2,3],[1,3,5]],\"color\":null,\"base\":0.0,\"width\":null,\"outline_color\":null,\"fill\":null,\"outline\":false,\"labelPosition\":\"CENTER\"}],\"orientation\":\"HORIZONTAL\",\"category_margin\":0.2,\"categoryNamesLabelAngle\":0.0}; console.log('plot this:'); console.log(j); window.initPlotd(j,'beakerChart57');</script></html>"
      ]
     },
     "execution_count": 58,
     "metadata": {},
     "output_type": "execute_result"
    }
   ],
   "source": [
    "def plot = new CategoryPlot(orientation: PlotOrientationType.HORIZONTAL)\n",
    "plot << new CategoryBars(value:[[1, 2, 3], [1, 3, 5]])"
   ]
  },
  {
   "cell_type": "code",
   "execution_count": 59,
   "metadata": {
    "collapsed": false
   },
   "outputs": [
    {
     "data": {
      "text/html": [
       "<html><div id='beakerChart58'></div><script>var j = {\"type\":\"CategoryPlot\",\"init_width\":640,\"init_height\":480,\"chart_title\":null,\"show_legend\":null,\"use_tool_tip\":true,\"legend_position\":{\"type\":\"LegendPosition\",\"position\":\"TOP_RIGHT\"},\"legend_layout\":\"VERTICAL\",\"custom_styles\":[],\"element_styles\":{},\"domain_axis_label\":null,\"y_label\":\"\",\"rangeAxes\":[{\"type\":\"YAxis\",\"label\":\"\",\"auto_range\":true,\"auto_range_includes_zero\":false,\"lower_margin\":0.0,\"upper_margin\":0.0,\"lower_bound\":0.0,\"upper_bound\":0.0,\"use_log\":false,\"log_base\":10.0}],\"x_lower_margin\":0.05,\"x_upper_margin\":0.05,\"y_auto_range\":true,\"y_auto_range_includes_zero\":false,\"y_lower_margin\":0.0,\"y_upper_margin\":0.0,\"y_lower_bound\":0.0,\"y_upper_bound\":0.0,\"log_y\":false,\"timezone\":null,\"crosshair\":null,\"omit_checkboxes\":false,\"categoryNames\":[\"Acid\",\"Neutral\",\"Base\"],\"graphics_list\":[{\"type\":\"CategoryBars\",\"uid\":\"f218adf2-a1c4-40c9-a147-95cecb31dc53\",\"visible\":true,\"yAxis\":null,\"hasClickAction\":false,\"showItemLabel\":false,\"center_series\":false,\"use_tool_tip\":true,\"value\":[[1,2,3],[4,5,6]],\"color\":null,\"base\":0.0,\"width\":null,\"outline_color\":null,\"fill\":null,\"outline\":false,\"labelPosition\":\"CENTER\"}],\"orientation\":\"VERTICAL\",\"category_margin\":0.2,\"categoryNamesLabelAngle\":-0.7853981633974483}; console.log('plot this:'); console.log(j); window.initPlotd(j,'beakerChart58');</script></html>"
      ]
     },
     "execution_count": 59,
     "metadata": {},
     "output_type": "execute_result"
    }
   ],
   "source": [
    "def plot = new CategoryPlot(categoryNames: [\"Acid\", \"Neutral\", \"Base\"], \n",
    "                            categoryNamesLabelAngle: -1/4 * Math.PI)\n",
    "plot << new CategoryBars(value: [[1, 2, 3], [4, 5, 6]])"
   ]
  },
  {
   "cell_type": "code",
   "execution_count": 60,
   "metadata": {
    "collapsed": false
   },
   "outputs": [
    {
     "data": {
      "text/html": [
       "<html><div id='beakerChart59'></div><script>var j = {\"type\":\"CategoryPlot\",\"init_width\":640,\"init_height\":480,\"chart_title\":null,\"show_legend\":null,\"use_tool_tip\":true,\"legend_position\":{\"type\":\"LegendPosition\",\"position\":\"TOP_RIGHT\"},\"legend_layout\":\"VERTICAL\",\"custom_styles\":[],\"element_styles\":{},\"domain_axis_label\":null,\"y_label\":\"\",\"rangeAxes\":[{\"type\":\"YAxis\",\"label\":\"\",\"auto_range\":true,\"auto_range_includes_zero\":false,\"lower_margin\":0.0,\"upper_margin\":0.0,\"lower_bound\":0.0,\"upper_bound\":0.0,\"use_log\":false,\"log_base\":10.0}],\"x_lower_margin\":0.05,\"x_upper_margin\":0.05,\"y_auto_range\":true,\"y_auto_range_includes_zero\":false,\"y_lower_margin\":0.0,\"y_upper_margin\":0.0,\"y_lower_bound\":0.0,\"y_upper_bound\":0.0,\"log_y\":false,\"timezone\":null,\"crosshair\":null,\"omit_checkboxes\":false,\"categoryNames\":[],\"graphics_list\":[{\"type\":\"CategoryBars\",\"uid\":\"39014b76-853b-4af5-bd46-a7fbd7cafc85\",\"visible\":true,\"yAxis\":null,\"hasClickAction\":false,\"showItemLabel\":false,\"center_series\":false,\"use_tool_tip\":true,\"value\":[[1,2,3],[4,5,6]],\"color\":null,\"base\":0.0,\"width\":null,\"outline_color\":null,\"fill\":null,\"outline\":false,\"labelPosition\":\"CENTER\"}],\"orientation\":\"VERTICAL\",\"category_margin\":2.0,\"categoryNamesLabelAngle\":0.0}; console.log('plot this:'); console.log(j); window.initPlotd(j,'beakerChart59');</script></html>"
      ]
     },
     "execution_count": 60,
     "metadata": {},
     "output_type": "execute_result"
    }
   ],
   "source": [
    "new CategoryPlot(categoryMargin: 2) << new CategoryBars(value: [[1, 2, 3], [4, 5, 6]])"
   ]
  },
  {
   "cell_type": "code",
   "execution_count": 61,
   "metadata": {
    "collapsed": false
   },
   "outputs": [
    {
     "data": {
      "text/html": [
       "<html><div id='beakerChart60'></div><script>var j = {\"type\":\"CategoryPlot\",\"init_width\":640,\"init_height\":480,\"chart_title\":null,\"show_legend\":null,\"use_tool_tip\":true,\"legend_position\":{\"type\":\"LegendPosition\",\"position\":\"TOP_RIGHT\"},\"legend_layout\":\"VERTICAL\",\"custom_styles\":[],\"element_styles\":{},\"domain_axis_label\":null,\"y_label\":\"\",\"rangeAxes\":[{\"type\":\"YAxis\",\"label\":\"\",\"auto_range\":true,\"auto_range_includes_zero\":false,\"lower_margin\":0.0,\"upper_margin\":0.0,\"lower_bound\":0.0,\"upper_bound\":0.0,\"use_log\":false,\"log_base\":10.0}],\"x_lower_margin\":0.05,\"x_upper_margin\":0.05,\"y_auto_range\":true,\"y_auto_range_includes_zero\":false,\"y_lower_margin\":0.0,\"y_upper_margin\":0.0,\"y_lower_bound\":0.0,\"y_upper_bound\":0.0,\"log_y\":false,\"timezone\":null,\"crosshair\":null,\"omit_checkboxes\":false,\"categoryNames\":[],\"graphics_list\":[{\"type\":\"CategoryBars\",\"uid\":\"9959cf37-3542-424b-ad84-5f90d33b08e7\",\"visible\":true,\"yAxis\":null,\"hasClickAction\":false,\"showItemLabel\":false,\"center_series\":false,\"use_tool_tip\":true,\"value\":[[1,2,3,4,2]],\"color\":null,\"base\":0.0,\"width\":null,\"outline_color\":null,\"fill\":null,\"outline\":false,\"labelPosition\":\"CENTER\"}],\"orientation\":\"VERTICAL\",\"category_margin\":0.2,\"categoryNamesLabelAngle\":0.0}; console.log('plot this:'); console.log(j); window.initPlotd(j,'beakerChart60');</script></html>"
      ]
     },
     "execution_count": 61,
     "metadata": {},
     "output_type": "execute_result"
    }
   ],
   "source": [
    "def bars = new CategoryBars(value: (1..4) + 2)\n",
    "new CategoryPlot() << bars"
   ]
  },
  {
   "cell_type": "code",
   "execution_count": 62,
   "metadata": {
    "collapsed": false
   },
   "outputs": [
    {
     "data": {
      "text/html": [
       "<html><div id='beakerChart61'></div><script>var j = {\"type\":\"CategoryPlot\",\"init_width\":640,\"init_height\":480,\"chart_title\":null,\"show_legend\":null,\"use_tool_tip\":true,\"legend_position\":{\"type\":\"LegendPosition\",\"position\":\"TOP_RIGHT\"},\"legend_layout\":\"VERTICAL\",\"custom_styles\":[],\"element_styles\":{},\"domain_axis_label\":null,\"y_label\":\"\",\"rangeAxes\":[{\"type\":\"YAxis\",\"label\":\"\",\"auto_range\":true,\"auto_range_includes_zero\":false,\"lower_margin\":0.0,\"upper_margin\":0.0,\"lower_bound\":0.0,\"upper_bound\":0.0,\"use_log\":false,\"log_base\":10.0}],\"x_lower_margin\":0.05,\"x_upper_margin\":0.05,\"y_auto_range\":true,\"y_auto_range_includes_zero\":false,\"y_lower_margin\":0.0,\"y_upper_margin\":0.0,\"y_lower_bound\":0.0,\"y_upper_bound\":0.0,\"log_y\":false,\"timezone\":null,\"crosshair\":null,\"omit_checkboxes\":false,\"categoryNames\":[],\"graphics_list\":[{\"type\":\"CategoryBars\",\"uid\":\"6fb69763-ac1c-4097-94be-be8edb877173\",\"visible\":true,\"yAxis\":null,\"hasClickAction\":false,\"showItemLabel\":false,\"center_series\":false,\"use_tool_tip\":true,\"value\":[[1,2],[3,4],[5,6]],\"color\":\"#FFFFAFAF\",\"base\":0.0,\"width\":null,\"outline_color\":null,\"fill\":null,\"outline\":false,\"labelPosition\":\"CENTER\"}],\"orientation\":\"VERTICAL\",\"category_margin\":0.2,\"categoryNamesLabelAngle\":0.0}; console.log('plot this:'); console.log(j); window.initPlotd(j,'beakerChart61');</script></html>"
      ]
     },
     "execution_count": 62,
     "metadata": {},
     "output_type": "execute_result"
    }
   ],
   "source": [
    "def bars = new CategoryBars(value: [[1, 2], [3, 4], [5, 6]], color: Color.pink)\n",
    "new CategoryPlot() << bars"
   ]
  },
  {
   "cell_type": "code",
   "execution_count": 63,
   "metadata": {
    "collapsed": false
   },
   "outputs": [
    {
     "data": {
      "text/html": [
       "<html><div id='beakerChart62'></div><script>var j = {\"type\":\"CategoryPlot\",\"init_width\":640,\"init_height\":480,\"chart_title\":null,\"show_legend\":null,\"use_tool_tip\":true,\"legend_position\":{\"type\":\"LegendPosition\",\"position\":\"TOP_RIGHT\"},\"legend_layout\":\"VERTICAL\",\"custom_styles\":[],\"element_styles\":{},\"domain_axis_label\":null,\"y_label\":\"\",\"rangeAxes\":[{\"type\":\"YAxis\",\"label\":\"\",\"auto_range\":true,\"auto_range_includes_zero\":false,\"lower_margin\":0.0,\"upper_margin\":0.0,\"lower_bound\":0.0,\"upper_bound\":0.0,\"use_log\":false,\"log_base\":10.0}],\"x_lower_margin\":0.05,\"x_upper_margin\":0.05,\"y_auto_range\":true,\"y_auto_range_includes_zero\":false,\"y_lower_margin\":0.0,\"y_upper_margin\":0.0,\"y_lower_bound\":0.0,\"y_upper_bound\":0.0,\"log_y\":false,\"timezone\":null,\"crosshair\":null,\"omit_checkboxes\":false,\"categoryNames\":[],\"graphics_list\":[{\"type\":\"CategoryBars\",\"uid\":\"5db814f1-f633-4486-b23f-962e66412776\",\"visible\":true,\"yAxis\":null,\"hasClickAction\":false,\"showItemLabel\":false,\"center_series\":false,\"use_tool_tip\":true,\"value\":[[1,2],[3,4],[5,6]],\"colors\":[\"#FFFF0000\",\"#FF808080\",\"#FF0000FF\"],\"base\":0.0,\"width\":null,\"outline_color\":null,\"fill\":null,\"outline\":false,\"labelPosition\":\"CENTER\"}],\"orientation\":\"VERTICAL\",\"category_margin\":0.2,\"categoryNamesLabelAngle\":0.0}; console.log('plot this:'); console.log(j); window.initPlotd(j,'beakerChart62');</script></html>"
      ]
     },
     "execution_count": 63,
     "metadata": {},
     "output_type": "execute_result"
    }
   ],
   "source": [
    "def colors = [Color.red, Color.gray, Color.blue]\n",
    "def bars = new CategoryBars(value: [[1, 2], [3, 4], [5, 6]], color: colors)\n",
    "new CategoryPlot() << bars"
   ]
  },
  {
   "cell_type": "code",
   "execution_count": 64,
   "metadata": {
    "collapsed": false
   },
   "outputs": [
    {
     "data": {
      "text/html": [
       "<html><div id='beakerChart63'></div><script>var j = {\"type\":\"CategoryPlot\",\"init_width\":640,\"init_height\":480,\"chart_title\":null,\"show_legend\":null,\"use_tool_tip\":true,\"legend_position\":{\"type\":\"LegendPosition\",\"position\":\"TOP_RIGHT\"},\"legend_layout\":\"VERTICAL\",\"custom_styles\":[],\"element_styles\":{},\"domain_axis_label\":null,\"y_label\":\"\",\"rangeAxes\":[{\"type\":\"YAxis\",\"label\":\"\",\"auto_range\":true,\"auto_range_includes_zero\":false,\"lower_margin\":0.0,\"upper_margin\":0.0,\"lower_bound\":0.0,\"upper_bound\":0.0,\"use_log\":false,\"log_base\":10.0}],\"x_lower_margin\":0.05,\"x_upper_margin\":0.05,\"y_auto_range\":true,\"y_auto_range_includes_zero\":false,\"y_lower_margin\":0.0,\"y_upper_margin\":0.0,\"y_lower_bound\":0.0,\"y_upper_bound\":0.0,\"log_y\":false,\"timezone\":null,\"crosshair\":null,\"omit_checkboxes\":false,\"categoryNames\":[],\"graphics_list\":[{\"type\":\"CategoryBars\",\"uid\":\"fbd25027-b9fd-493b-a55b-6cc47d199f67\",\"visible\":true,\"yAxis\":null,\"hasClickAction\":false,\"showItemLabel\":false,\"center_series\":false,\"use_tool_tip\":true,\"value\":[[1,2],[3,4],[5,6]],\"colors\":[[\"#FFFF0000\",\"#FF808080\"],[\"#FF808080\",\"#FF808080\"],[\"#FF0000FF\",\"#FFFFAFAF\"]],\"base\":0.0,\"width\":null,\"outline_color\":null,\"fill\":null,\"outline\":false,\"labelPosition\":\"CENTER\"}],\"orientation\":\"VERTICAL\",\"category_margin\":0.2,\"categoryNamesLabelAngle\":0.0}; console.log('plot this:'); console.log(j); window.initPlotd(j,'beakerChart63');</script></html>"
      ]
     },
     "execution_count": 64,
     "metadata": {},
     "output_type": "execute_result"
    }
   ],
   "source": [
    "def colors = [[Color.red, Color.gray],\n",
    "              [Color.gray, Color.gray],\n",
    "              [Color.blue, Color.pink]]\n",
    "def bars = new CategoryBars(value: [[1, 2], [3, 4], [5, 6]], color: colors)\n",
    "new CategoryPlot() << bars"
   ]
  },
  {
   "cell_type": "code",
   "execution_count": 65,
   "metadata": {
    "collapsed": false
   },
   "outputs": [
    {
     "data": {
      "text/html": [
       "<html><div id='beakerChart64'></div><script>var j = {\"type\":\"CategoryPlot\",\"init_width\":640,\"init_height\":480,\"chart_title\":null,\"show_legend\":null,\"use_tool_tip\":true,\"legend_position\":{\"type\":\"LegendPosition\",\"position\":\"TOP_RIGHT\"},\"legend_layout\":\"VERTICAL\",\"custom_styles\":[],\"element_styles\":{},\"domain_axis_label\":null,\"y_label\":\"\",\"rangeAxes\":[{\"type\":\"YAxis\",\"label\":\"\",\"auto_range\":true,\"auto_range_includes_zero\":false,\"lower_margin\":0.0,\"upper_margin\":0.0,\"lower_bound\":0.0,\"upper_bound\":0.0,\"use_log\":false,\"log_base\":10.0}],\"x_lower_margin\":0.05,\"x_upper_margin\":0.05,\"y_auto_range\":true,\"y_auto_range_includes_zero\":false,\"y_lower_margin\":0.0,\"y_upper_margin\":0.0,\"y_lower_bound\":0.0,\"y_upper_bound\":0.0,\"log_y\":false,\"timezone\":null,\"crosshair\":null,\"omit_checkboxes\":false,\"categoryNames\":[],\"graphics_list\":[{\"type\":\"CategoryBars\",\"uid\":\"593bc18a-d9a3-498f-b2d2-3cbff454eb21\",\"visible\":true,\"yAxis\":null,\"hasClickAction\":false,\"showItemLabel\":false,\"center_series\":false,\"use_tool_tip\":true,\"value\":[[1,2,3],[4,5,6]],\"colors\":[\"#FFFFAFAF\",[\"#FFFF0000\",\"#FF808080\",\"#FF0000FF\"]],\"base\":0.0,\"width\":null,\"outline_color\":null,\"fill\":null,\"outline\":false,\"labelPosition\":\"CENTER\"}],\"orientation\":\"VERTICAL\",\"category_margin\":0.2,\"categoryNamesLabelAngle\":0.0}; console.log('plot this:'); console.log(j); window.initPlotd(j,'beakerChart64');</script></html>"
      ]
     },
     "execution_count": 65,
     "metadata": {},
     "output_type": "execute_result"
    }
   ],
   "source": [
    "def colors = [Color.pink, [Color.red, Color.gray, Color.blue]]\n",
    "def bars = new CategoryBars(value: [[1, 2, 3], [4, 5, 6]], color: colors)\n",
    "new CategoryPlot() << bars"
   ]
  },
  {
   "cell_type": "code",
   "execution_count": 66,
   "metadata": {
    "collapsed": false
   },
   "outputs": [
    {
     "data": {
      "text/html": [
       "<html><div id='beakerChart65'></div><script>var j = {\"type\":\"CategoryPlot\",\"init_width\":640,\"init_height\":480,\"chart_title\":null,\"show_legend\":null,\"use_tool_tip\":true,\"legend_position\":{\"type\":\"LegendPosition\",\"position\":\"TOP_RIGHT\"},\"legend_layout\":\"VERTICAL\",\"custom_styles\":[],\"element_styles\":{},\"domain_axis_label\":null,\"y_label\":\"\",\"rangeAxes\":[{\"type\":\"YAxis\",\"label\":\"\",\"auto_range\":true,\"auto_range_includes_zero\":false,\"lower_margin\":0.0,\"upper_margin\":0.0,\"lower_bound\":0.0,\"upper_bound\":0.0,\"use_log\":false,\"log_base\":10.0}],\"x_lower_margin\":0.05,\"x_upper_margin\":0.05,\"y_auto_range\":true,\"y_auto_range_includes_zero\":false,\"y_lower_margin\":0.0,\"y_upper_margin\":0.0,\"y_lower_bound\":0.0,\"y_upper_bound\":0.0,\"log_y\":false,\"timezone\":null,\"crosshair\":null,\"omit_checkboxes\":false,\"categoryNames\":[],\"graphics_list\":[{\"type\":\"CategoryBars\",\"uid\":\"fa347ce8-0641-48db-8f80-cba9b2de22b7\",\"visible\":true,\"yAxis\":null,\"hasClickAction\":false,\"showItemLabel\":false,\"center_series\":false,\"use_tool_tip\":true,\"value\":[[1,2,3],[4,5,6]],\"color\":null,\"base\":-2.0,\"width\":null,\"outline_color\":null,\"fill\":null,\"outline\":false,\"labelPosition\":\"CENTER\"}],\"orientation\":\"VERTICAL\",\"category_margin\":0.2,\"categoryNamesLabelAngle\":0.0}; console.log('plot this:'); console.log(j); window.initPlotd(j,'beakerChart65');</script></html>"
      ]
     },
     "execution_count": 66,
     "metadata": {},
     "output_type": "execute_result"
    }
   ],
   "source": [
    "def bars = new CategoryBars(value: [[1, 2, 3], [4, 5, 6]], base: -2)\n",
    "new CategoryPlot() << bars"
   ]
  },
  {
   "cell_type": "code",
   "execution_count": 67,
   "metadata": {
    "collapsed": false
   },
   "outputs": [
    {
     "data": {
      "text/html": [
       "<html><div id='beakerChart66'></div><script>var j = {\"type\":\"CategoryPlot\",\"init_width\":640,\"init_height\":480,\"chart_title\":null,\"show_legend\":null,\"use_tool_tip\":true,\"legend_position\":{\"type\":\"LegendPosition\",\"position\":\"TOP_RIGHT\"},\"legend_layout\":\"VERTICAL\",\"custom_styles\":[],\"element_styles\":{},\"domain_axis_label\":null,\"y_label\":\"\",\"rangeAxes\":[{\"type\":\"YAxis\",\"label\":\"\",\"auto_range\":true,\"auto_range_includes_zero\":false,\"lower_margin\":0.0,\"upper_margin\":0.0,\"lower_bound\":0.0,\"upper_bound\":0.0,\"use_log\":false,\"log_base\":10.0}],\"x_lower_margin\":0.05,\"x_upper_margin\":0.05,\"y_auto_range\":true,\"y_auto_range_includes_zero\":false,\"y_lower_margin\":0.0,\"y_upper_margin\":0.0,\"y_lower_bound\":0.0,\"y_upper_bound\":0.0,\"log_y\":false,\"timezone\":null,\"crosshair\":null,\"omit_checkboxes\":false,\"categoryNames\":[],\"graphics_list\":[{\"type\":\"CategoryBars\",\"uid\":\"578018fc-fa12-4152-9c51-2170c49f1fc9\",\"visible\":true,\"yAxis\":null,\"hasClickAction\":false,\"showItemLabel\":false,\"center_series\":false,\"use_tool_tip\":true,\"value\":[[1,2,3],[4,5,4]],\"color\":null,\"bases\":[-1,-3],\"width\":null,\"outline_color\":null,\"fill\":null,\"outline\":false,\"labelPosition\":\"CENTER\"}],\"orientation\":\"VERTICAL\",\"category_margin\":0.2,\"categoryNamesLabelAngle\":0.0}; console.log('plot this:'); console.log(j); window.initPlotd(j,'beakerChart66');</script></html>"
      ]
     },
     "execution_count": 67,
     "metadata": {},
     "output_type": "execute_result"
    }
   ],
   "source": [
    "def bars = new CategoryBars(value: [[1, 2,  3], [4, 5, 4]], base: [-1, -3])\n",
    "new CategoryPlot() << bars"
   ]
  },
  {
   "cell_type": "code",
   "execution_count": 68,
   "metadata": {
    "collapsed": false
   },
   "outputs": [
    {
     "data": {
      "text/html": [
       "<html><div id='beakerChart67'></div><script>var j = {\"type\":\"CategoryPlot\",\"init_width\":640,\"init_height\":480,\"chart_title\":null,\"show_legend\":null,\"use_tool_tip\":true,\"legend_position\":{\"type\":\"LegendPosition\",\"position\":\"TOP_RIGHT\"},\"legend_layout\":\"VERTICAL\",\"custom_styles\":[],\"element_styles\":{},\"domain_axis_label\":null,\"y_label\":\"\",\"rangeAxes\":[{\"type\":\"YAxis\",\"label\":\"\",\"auto_range\":true,\"auto_range_includes_zero\":false,\"lower_margin\":0.0,\"upper_margin\":0.0,\"lower_bound\":0.0,\"upper_bound\":0.0,\"use_log\":false,\"log_base\":10.0}],\"x_lower_margin\":0.05,\"x_upper_margin\":0.05,\"y_auto_range\":true,\"y_auto_range_includes_zero\":false,\"y_lower_margin\":0.0,\"y_upper_margin\":0.0,\"y_lower_bound\":0.0,\"y_upper_bound\":0.0,\"log_y\":false,\"timezone\":null,\"crosshair\":null,\"omit_checkboxes\":false,\"categoryNames\":[],\"graphics_list\":[{\"type\":\"CategoryBars\",\"uid\":\"d5cfbcc1-ff62-41e0-b0db-1cacf2641140\",\"visible\":true,\"yAxis\":null,\"hasClickAction\":false,\"showItemLabel\":false,\"center_series\":false,\"use_tool_tip\":true,\"value\":[[1,2,3],[4,5,6]],\"color\":null,\"bases\":[[0,1,1],[-4,-5,-6]],\"width\":null,\"outline_color\":null,\"fill\":null,\"outline\":false,\"labelPosition\":\"CENTER\"}],\"orientation\":\"VERTICAL\",\"category_margin\":0.2,\"categoryNamesLabelAngle\":0.0}; console.log('plot this:'); console.log(j); window.initPlotd(j,'beakerChart67');</script></html>"
      ]
     },
     "execution_count": 68,
     "metadata": {},
     "output_type": "execute_result"
    }
   ],
   "source": [
    "def bars = new CategoryBars(value: [[1, 2, 3], [4, 5, 6]],\n",
    "                            base: [[0, 1, 1], [-4, -5, -6]])\n",
    "new CategoryPlot() << bars"
   ]
  },
  {
   "cell_type": "code",
   "execution_count": 69,
   "metadata": {
    "collapsed": false
   },
   "outputs": [
    {
     "data": {
      "text/html": [
       "<html><div id='beakerChart68'></div><script>var j = {\"type\":\"CategoryPlot\",\"init_width\":640,\"init_height\":480,\"chart_title\":null,\"show_legend\":null,\"use_tool_tip\":true,\"legend_position\":{\"type\":\"LegendPosition\",\"position\":\"TOP_RIGHT\"},\"legend_layout\":\"VERTICAL\",\"custom_styles\":[],\"element_styles\":{},\"domain_axis_label\":null,\"y_label\":\"\",\"rangeAxes\":[{\"type\":\"YAxis\",\"label\":\"\",\"auto_range\":true,\"auto_range_includes_zero\":false,\"lower_margin\":0.0,\"upper_margin\":0.0,\"lower_bound\":0.0,\"upper_bound\":0.0,\"use_log\":false,\"log_base\":10.0}],\"x_lower_margin\":0.05,\"x_upper_margin\":0.05,\"y_auto_range\":true,\"y_auto_range_includes_zero\":false,\"y_lower_margin\":0.0,\"y_upper_margin\":0.0,\"y_lower_bound\":0.0,\"y_upper_bound\":0.0,\"log_y\":false,\"timezone\":null,\"crosshair\":null,\"omit_checkboxes\":false,\"categoryNames\":[],\"graphics_list\":[{\"type\":\"CategoryBars\",\"uid\":\"54cf17c5-6a51-4dc4-bee6-2994d210c027\",\"visible\":true,\"yAxis\":null,\"hasClickAction\":false,\"showItemLabel\":false,\"center_series\":false,\"use_tool_tip\":true,\"value\":[[1,2,3],[4,5,6]],\"color\":null,\"base\":0.0,\"widths\":[[0.3,0.6,1.7],1.0],\"outline_color\":null,\"fill\":null,\"outline\":false,\"labelPosition\":\"CENTER\"}],\"orientation\":\"VERTICAL\",\"category_margin\":0.2,\"categoryNamesLabelAngle\":0.0}; console.log('plot this:'); console.log(j); window.initPlotd(j,'beakerChart68');</script></html>"
      ]
     },
     "execution_count": 69,
     "metadata": {},
     "output_type": "execute_result"
    }
   ],
   "source": [
    "def bars = new CategoryBars(value: [[1, 2, 3], [4, 5, 6]],\n",
    "                            width: [[0.3, 0.6, 1.7], 1.0])\n",
    "new CategoryPlot() << bars"
   ]
  },
  {
   "cell_type": "code",
   "execution_count": 70,
   "metadata": {
    "collapsed": false
   },
   "outputs": [
    {
     "data": {
      "text/html": [
       "<html><div id='beakerChart69'></div><script>var j = {\"type\":\"CategoryPlot\",\"init_width\":640,\"init_height\":480,\"chart_title\":null,\"show_legend\":null,\"use_tool_tip\":true,\"legend_position\":{\"type\":\"LegendPosition\",\"position\":\"TOP_RIGHT\"},\"legend_layout\":\"VERTICAL\",\"custom_styles\":[],\"element_styles\":{},\"domain_axis_label\":null,\"y_label\":\"\",\"rangeAxes\":[{\"type\":\"YAxis\",\"label\":\"\",\"auto_range\":true,\"auto_range_includes_zero\":false,\"lower_margin\":0.0,\"upper_margin\":0.0,\"lower_bound\":0.0,\"upper_bound\":0.0,\"use_log\":false,\"log_base\":10.0}],\"x_lower_margin\":0.05,\"x_upper_margin\":0.05,\"y_auto_range\":true,\"y_auto_range_includes_zero\":false,\"y_lower_margin\":0.0,\"y_upper_margin\":0.0,\"y_lower_bound\":0.0,\"y_upper_bound\":0.0,\"log_y\":false,\"timezone\":null,\"crosshair\":null,\"omit_checkboxes\":false,\"categoryNames\":[],\"graphics_list\":[{\"type\":\"CategoryBars\",\"uid\":\"164a2149-0bbb-49ff-b823-4c7ffa397d59\",\"visible\":true,\"yAxis\":null,\"hasClickAction\":false,\"showItemLabel\":false,\"center_series\":false,\"use_tool_tip\":true,\"value\":[[1,2,3],[4,5,6]],\"color\":null,\"base\":0.0,\"width\":null,\"outline_colors\":[\"#FF000000\",\"#FFFF0000\"],\"fills\":[[true,true,false],[true,false,true]],\"outlines\":[[true,false,true],[true,true,false]],\"labelPosition\":\"CENTER\"}],\"orientation\":\"VERTICAL\",\"category_margin\":0.2,\"categoryNamesLabelAngle\":0.0}; console.log('plot this:'); console.log(j); window.initPlotd(j,'beakerChart69');</script></html>"
      ]
     },
     "execution_count": 70,
     "metadata": {},
     "output_type": "execute_result"
    }
   ],
   "source": [
    "def bars = new CategoryBars(value: [[1, 2, 3], [4, 5, 6]],\n",
    "                            fill: [[true, true, false], [true, false, true]],\n",
    "                            drawOutline: [[true, false, true], [true, true, false]],\n",
    "                            outlineColor: [Color.black, Color.red])\n",
    "new CategoryPlot() << bars"
   ]
  },
  {
   "cell_type": "code",
   "execution_count": 71,
   "metadata": {
    "collapsed": false
   },
   "outputs": [
    {
     "data": {
      "text/html": [
       "<html><div id='beakerChart70'></div><script>var j = {\"type\":\"CategoryPlot\",\"init_width\":640,\"init_height\":480,\"chart_title\":null,\"show_legend\":null,\"use_tool_tip\":true,\"legend_position\":{\"type\":\"LegendPosition\",\"position\":\"TOP_RIGHT\"},\"legend_layout\":\"VERTICAL\",\"custom_styles\":[],\"element_styles\":{},\"domain_axis_label\":null,\"y_label\":\"\",\"rangeAxes\":[{\"type\":\"YAxis\",\"label\":\"\",\"auto_range\":true,\"auto_range_includes_zero\":false,\"lower_margin\":0.0,\"upper_margin\":0.0,\"lower_bound\":0.0,\"upper_bound\":0.0,\"use_log\":false,\"log_base\":10.0}],\"x_lower_margin\":0.05,\"x_upper_margin\":0.05,\"y_auto_range\":true,\"y_auto_range_includes_zero\":false,\"y_lower_margin\":0.0,\"y_upper_margin\":0.0,\"y_lower_bound\":0.0,\"y_upper_bound\":0.0,\"log_y\":false,\"timezone\":null,\"crosshair\":null,\"omit_checkboxes\":false,\"categoryNames\":[],\"graphics_list\":[{\"type\":\"CategoryBars\",\"uid\":\"0c425cd8-978f-456f-b527-94d863ba2ee5\",\"visible\":true,\"yAxis\":null,\"hasClickAction\":false,\"showItemLabel\":false,\"center_series\":true,\"use_tool_tip\":true,\"value\":[[1,2,3],[4,5,8],[10,9,10]],\"color\":null,\"itemLabels\":[[\"1\",\"3\",\"6\"],[\"2\",\"3\",\"4\"],[\"3\",\"5\",\"2\"]],\"bases\":[0,[1,2,3],[4,5,8]],\"width\":null,\"outline_color\":null,\"fill\":null,\"outline\":false,\"labelPosition\":\"CENTER\"}],\"orientation\":\"VERTICAL\",\"category_margin\":0.2,\"categoryNamesLabelAngle\":0.0}; console.log('plot this:'); console.log(j); window.initPlotd(j,'beakerChart70');</script></html>"
      ]
     },
     "execution_count": 71,
     "metadata": {},
     "output_type": "execute_result"
    }
   ],
   "source": [
    "def bars = new CategoryBars(value: [[1, 2, 3], [4, 5, 8], [10, 9, 10]],\n",
    "                           base: [0, [1, 2, 3], [4, 5, 8]],\n",
    "                           centerSeries: true,\n",
    "                           itemLabel: {value, base-> Math.abs(value-base)})\n",
    "new CategoryPlot() << bars"
   ]
  },
  {
   "cell_type": "code",
   "execution_count": 72,
   "metadata": {
    "collapsed": false
   },
   "outputs": [
    {
     "data": {
      "text/html": [
       "<html><div id='beakerChart71'></div><script>var j = {\"type\":\"CategoryPlot\",\"init_width\":640,\"init_height\":480,\"chart_title\":null,\"show_legend\":null,\"use_tool_tip\":true,\"legend_position\":{\"type\":\"LegendPosition\",\"position\":\"TOP_RIGHT\"},\"legend_layout\":\"VERTICAL\",\"custom_styles\":[],\"element_styles\":{},\"domain_axis_label\":null,\"y_label\":\"\",\"rangeAxes\":[{\"type\":\"YAxis\",\"label\":\"\",\"auto_range\":true,\"auto_range_includes_zero\":false,\"lower_margin\":0.0,\"upper_margin\":0.0,\"lower_bound\":0.0,\"upper_bound\":0.0,\"use_log\":false,\"log_base\":10.0}],\"x_lower_margin\":0.05,\"x_upper_margin\":0.05,\"y_auto_range\":true,\"y_auto_range_includes_zero\":false,\"y_lower_margin\":0.0,\"y_upper_margin\":0.0,\"y_lower_bound\":0.0,\"y_upper_bound\":0.0,\"log_y\":false,\"timezone\":null,\"crosshair\":null,\"omit_checkboxes\":false,\"categoryNames\":[],\"graphics_list\":[{\"type\":\"CategoryStems\",\"uid\":\"d90eeb6a-a7c3-41ab-aac3-7ab97a320a3c\",\"visible\":true,\"yAxis\":null,\"hasClickAction\":false,\"showItemLabel\":false,\"center_series\":false,\"use_tool_tip\":true,\"value\":[[1,2,4],[4,5,8]],\"colors\":[\"#FF000000\",\"#FFFF0000\"],\"base\":null,\"width\":1.5,\"styles\":[\"DASH\",\"LONGDASH\"]}],\"orientation\":\"VERTICAL\",\"category_margin\":0.2,\"categoryNamesLabelAngle\":0.0}; console.log('plot this:'); console.log(j); window.initPlotd(j,'beakerChart71');</script></html>"
      ]
     },
     "execution_count": 72,
     "metadata": {},
     "output_type": "execute_result"
    }
   ],
   "source": [
    "def ss = [StrokeType.DASH, StrokeType.LONGDASH]\n",
    "def cs = [Color.black, Color.red]\n",
    "new CategoryPlot() << new CategoryStems(value: [[1, 2, 4], [4, 5, 8]], color: cs, style: ss)"
   ]
  },
  {
   "cell_type": "code",
   "execution_count": 73,
   "metadata": {
    "collapsed": false
   },
   "outputs": [
    {
     "data": {
      "text/html": [
       "<html><div id='beakerChart72'></div><script>var j = {\"type\":\"CategoryPlot\",\"init_width\":640,\"init_height\":480,\"chart_title\":null,\"show_legend\":null,\"use_tool_tip\":true,\"legend_position\":{\"type\":\"LegendPosition\",\"position\":\"TOP_RIGHT\"},\"legend_layout\":\"VERTICAL\",\"custom_styles\":[],\"element_styles\":{},\"domain_axis_label\":null,\"y_label\":\"\",\"rangeAxes\":[{\"type\":\"YAxis\",\"label\":\"\",\"auto_range\":true,\"auto_range_includes_zero\":false,\"lower_margin\":0.0,\"upper_margin\":0.0,\"lower_bound\":0.0,\"upper_bound\":0.0,\"use_log\":false,\"log_base\":10.0}],\"x_lower_margin\":0.05,\"x_upper_margin\":0.05,\"y_auto_range\":true,\"y_auto_range_includes_zero\":false,\"y_lower_margin\":0.0,\"y_upper_margin\":0.0,\"y_lower_bound\":0.0,\"y_upper_bound\":0.0,\"log_y\":false,\"timezone\":null,\"crosshair\":null,\"omit_checkboxes\":false,\"categoryNames\":[],\"graphics_list\":[{\"type\":\"CategoryPoints\",\"uid\":\"7e66d213-9891-4977-a213-4688f58a1924\",\"visible\":true,\"yAxis\":null,\"hasClickAction\":false,\"showItemLabel\":false,\"center_series\":false,\"use_tool_tip\":true,\"value\":[[1,2,4],[4,5,8]],\"color\":null,\"size\":6.0,\"shape\":\"DEFAULT\",\"fill\":null,\"outline_color\":null}],\"orientation\":\"VERTICAL\",\"category_margin\":0.2,\"categoryNamesLabelAngle\":0.0}; console.log('plot this:'); console.log(j); window.initPlotd(j,'beakerChart72');</script></html>"
      ]
     },
     "execution_count": 73,
     "metadata": {},
     "output_type": "execute_result"
    }
   ],
   "source": [
    "import com.twosigma.beaker.chart.categoryplot.CategoryPlot\n",
    "import com.twosigma.beaker.chart.categoryplot.plotitem.*\n",
    "import com.twosigma.beaker.chart.Color\n",
    "\n",
    "new CategoryPlot() << new CategoryPoints(value: [[1, 2, 4], [4, 5, 8]])"
   ]
  },
  {
   "cell_type": "code",
   "execution_count": 74,
   "metadata": {
    "collapsed": false
   },
   "outputs": [
    {
     "data": {
      "text/html": [
       "<html><div id='beakerChart73'></div><script>var j = {\"type\":\"CategoryPlot\",\"init_width\":640,\"init_height\":480,\"chart_title\":null,\"show_legend\":null,\"use_tool_tip\":true,\"legend_position\":{\"type\":\"LegendPosition\",\"position\":\"TOP_RIGHT\"},\"legend_layout\":\"VERTICAL\",\"custom_styles\":[],\"element_styles\":{},\"domain_axis_label\":null,\"y_label\":\"\",\"rangeAxes\":[{\"type\":\"YAxis\",\"label\":\"\",\"auto_range\":true,\"auto_range_includes_zero\":false,\"lower_margin\":0.0,\"upper_margin\":0.0,\"lower_bound\":0.0,\"upper_bound\":0.0,\"use_log\":false,\"log_base\":10.0}],\"x_lower_margin\":0.05,\"x_upper_margin\":0.05,\"y_auto_range\":true,\"y_auto_range_includes_zero\":false,\"y_lower_margin\":0.0,\"y_upper_margin\":0.0,\"y_lower_bound\":0.0,\"y_upper_bound\":0.0,\"log_y\":false,\"timezone\":null,\"crosshair\":null,\"omit_checkboxes\":false,\"categoryNames\":[],\"graphics_list\":[{\"type\":\"CategoryLines\",\"uid\":\"4dda6d7a-6d1d-46d7-add4-30c907117c69\",\"visible\":true,\"yAxis\":null,\"hasClickAction\":false,\"showItemLabel\":false,\"center_series\":false,\"use_tool_tip\":true,\"seriesNames\":[\"Lanthanide\",\"Actinide\"],\"value\":[[1,2,4],[4,5,8]],\"color\":null,\"width\":1.5,\"styles\":[\"DASH\",\"DOT\"]}],\"orientation\":\"VERTICAL\",\"category_margin\":0.2,\"categoryNamesLabelAngle\":0.0}; console.log('plot this:'); console.log(j); window.initPlotd(j,'beakerChart73');</script></html>"
      ]
     },
     "execution_count": 74,
     "metadata": {},
     "output_type": "execute_result"
    }
   ],
   "source": [
    "import com.twosigma.beaker.chart.xychart.plotitem.*\n",
    "import com.twosigma.beaker.chart.categoryplot.CategoryPlot\n",
    "import com.twosigma.beaker.chart.categoryplot.plotitem.*\n",
    "import com.twosigma.beaker.chart.Color\n",
    "\n",
    "def ss = [StrokeType.DASH, StrokeType.DOT]\n",
    "new CategoryPlot() << new CategoryLines(value: [[1, 2, 4], [4, 5, 8]], style: ss,\n",
    "                                        seriesNames:[\"Lanthanide\", \"Actinide\"])"
   ]
  },
  {
   "cell_type": "code",
   "execution_count": 75,
   "metadata": {
    "collapsed": false
   },
   "outputs": [
    {
     "data": {
      "text/html": [
       "<html><div id='beakerChart74'></div><script>var j = {\"type\":\"CategoryPlot\",\"init_width\":640,\"init_height\":480,\"chart_title\":null,\"show_legend\":null,\"use_tool_tip\":true,\"legend_position\":{\"type\":\"LegendPosition\",\"position\":\"TOP_RIGHT\"},\"legend_layout\":\"VERTICAL\",\"custom_styles\":[],\"element_styles\":{},\"domain_axis_label\":null,\"y_label\":\"\",\"rangeAxes\":[{\"type\":\"YAxis\",\"label\":\"\",\"auto_range\":true,\"auto_range_includes_zero\":false,\"lower_margin\":0.0,\"upper_margin\":0.0,\"lower_bound\":0.0,\"upper_bound\":0.0,\"use_log\":false,\"log_base\":10.0}],\"x_lower_margin\":0.05,\"x_upper_margin\":0.05,\"y_auto_range\":true,\"y_auto_range_includes_zero\":false,\"y_lower_margin\":0.0,\"y_upper_margin\":0.0,\"y_lower_bound\":0.0,\"y_upper_bound\":0.0,\"log_y\":false,\"timezone\":null,\"crosshair\":null,\"omit_checkboxes\":false,\"categoryNames\":[],\"graphics_list\":[{\"type\":\"CategoryLines\",\"uid\":\"e3663d43-3f05-41b4-b135-d377f98e0d32\",\"visible\":true,\"yAxis\":null,\"hasClickAction\":false,\"showItemLabel\":false,\"center_series\":true,\"use_tool_tip\":true,\"value\":[[1,2,4],[4,5,8]],\"color\":null,\"width\":1.5,\"style\":\"SOLID\"},{\"type\":\"CategoryPoints\",\"uid\":\"2dd76fd0-5f65-46b9-9ef2-09c77c2c2c7f\",\"visible\":true,\"yAxis\":null,\"hasClickAction\":false,\"showItemLabel\":false,\"center_series\":true,\"use_tool_tip\":true,\"value\":[[1,2,4],[4,5,8]],\"color\":null,\"size\":6.0,\"shape\":\"DEFAULT\",\"fill\":null,\"outline_color\":null},{\"type\":\"CategoryStems\",\"uid\":\"5cd87d57-d251-43ac-b140-11e87199f383\",\"visible\":true,\"yAxis\":null,\"hasClickAction\":false,\"showItemLabel\":false,\"center_series\":false,\"use_tool_tip\":true,\"value\":[[1,2,4]],\"color\":\"#FF808080\",\"bases\":[[4,5,8]],\"width\":1.5,\"style\":\"DOT\"}],\"orientation\":\"VERTICAL\",\"category_margin\":0.2,\"categoryNamesLabelAngle\":0.0}; console.log('plot this:'); console.log(j); window.initPlotd(j,'beakerChart74');</script></html>"
      ]
     },
     "execution_count": 75,
     "metadata": {},
     "output_type": "execute_result"
    }
   ],
   "source": [
    "import com.twosigma.beaker.chart.xychart.plotitem.*\n",
    "import com.twosigma.beaker.chart.categoryplot.CategoryPlot\n",
    "import com.twosigma.beaker.chart.categoryplot.plotitem.*\n",
    "import com.twosigma.beaker.chart.Color\n",
    "\n",
    "def s1 = [1, 2, 4]\n",
    "def s2 = [4, 5, 8]\n",
    "def lines = new CategoryLines(value: [s1, s2], centerSeries: true)\n",
    "def points = new CategoryPoints(value: [s1, s2], centerSeries: true)\n",
    "def stems = new CategoryStems(value:[s1], base: [s2], style: StrokeType.DOT, color: Color.gray)\n",
    "new CategoryPlot() << lines << points << stems"
   ]
  },
  {
   "cell_type": "code",
   "execution_count": 76,
   "metadata": {
    "collapsed": false
   },
   "outputs": [
    {
     "data": {
      "text/html": [
       "<html><div id='beakerChart75'></div><script>var j = {\"type\":\"CategoryPlot\",\"init_width\":500,\"init_height\":400,\"chart_title\":\"Bar Chart Demo\",\"show_legend\":null,\"use_tool_tip\":true,\"legend_position\":{\"type\":\"LegendPosition\",\"position\":\"TOP_RIGHT\"},\"legend_layout\":\"VERTICAL\",\"custom_styles\":[],\"element_styles\":{},\"domain_axis_label\":\"Alkali\",\"y_label\":\"Temperature ° Celcius\",\"rangeAxes\":[{\"type\":\"YAxis\",\"label\":\"Temperature ° Celcius\",\"auto_range\":true,\"auto_range_includes_zero\":false,\"lower_margin\":0.0,\"upper_margin\":0.0,\"lower_bound\":0.0,\"upper_bound\":0.0,\"use_log\":false,\"log_base\":10.0}],\"x_lower_margin\":0.05,\"x_upper_margin\":0.05,\"y_auto_range\":true,\"y_auto_range_includes_zero\":false,\"y_lower_margin\":0.0,\"y_upper_margin\":0.0,\"y_lower_bound\":0.0,\"y_upper_bound\":0.0,\"log_y\":false,\"timezone\":null,\"crosshair\":null,\"omit_checkboxes\":false,\"categoryNames\":[\"Lithium\",\"Sodium\",\"Potassium\",\"Rubidium\"],\"graphics_list\":[{\"type\":\"CategoryBars\",\"uid\":\"03aee664-af0d-480f-9a94-40985ea4cec2\",\"visible\":true,\"yAxis\":null,\"hasClickAction\":false,\"showItemLabel\":false,\"center_series\":false,\"use_tool_tip\":true,\"seriesNames\":[\"Solid\",\"Liquid\"],\"value\":[[10,15,13,7],[22,18,28,17]],\"colors\":[\"#FFF79646\",\"#FFFFC800\",\"#FF9BBB59\"],\"base\":0.0,\"width\":null,\"outline_color\":null,\"fill\":null,\"outline\":false,\"labelPosition\":\"CENTER\"},{\"type\":\"CategoryStems\",\"uid\":\"9b6dc25a-19e0-4087-82f0-810bd6b30748\",\"visible\":true,\"yAxis\":null,\"hasClickAction\":false,\"showItemLabel\":false,\"center_series\":false,\"use_tool_tip\":true,\"value\":[[12.4,19.5,15.1,8.2],[24.3,23.3,30.1,18.2]],\"color\":\"#FF9BBB59\",\"bases\":[[7.6,10.5,10.9,5.8],[19.7,12.7,25.9,15.8]],\"width\":1.5,\"style\":\"SOLID\"},{\"type\":\"CategoryPoints\",\"uid\":\"9918210e-687d-4ce9-be6f-7016105afd8f\",\"visible\":true,\"yAxis\":null,\"hasClickAction\":false,\"showItemLabel\":false,\"center_series\":false,\"use_tool_tip\":true,\"value\":[[12.4,19.5,15.1,8.2],[24.3,23.3,30.1,18.2]],\"color\":null,\"size\":12.0,\"shape\":\"DEFAULT\",\"fill\":null,\"outline_color\":\"#FF9BBB59\"},{\"type\":\"CategoryPoints\",\"uid\":\"3b92047e-148c-4ef3-b1d1-265a09bac01d\",\"visible\":true,\"yAxis\":null,\"hasClickAction\":false,\"showItemLabel\":false,\"center_series\":false,\"use_tool_tip\":true,\"value\":[[7.6,10.5,10.9,5.8],[19.7,12.7,25.9,15.8]],\"color\":null,\"size\":12.0,\"shape\":\"DEFAULT\",\"fill\":null,\"outline_color\":\"#FF9BBB59\"}],\"orientation\":\"VERTICAL\",\"category_margin\":0.2,\"categoryNamesLabelAngle\":0.0}; console.log('plot this:'); console.log(j); window.initPlotd(j,'beakerChart75');</script></html>"
      ]
     },
     "execution_count": 76,
     "metadata": {},
     "output_type": "execute_result"
    }
   ],
   "source": [
    "import com.twosigma.beaker.chart.categoryplot.CategoryPlot\n",
    "import com.twosigma.beaker.chart.categoryplot.plotitem.*\n",
    "import com.twosigma.beaker.chart.Color\n",
    "\n",
    "def plot = new CategoryPlot(initWidth: 500, initHeight: 400,\n",
    "                            title: \"Bar Chart Demo\",\n",
    "                            xLabel: \"Alkali\", yLabel: \"Temperature ° Celcius\",\n",
    "                            categoryNames:[\"Lithium\", \"Sodium\", \"Potassium\", \"Rubidium\"])\n",
    "def s1 = [[10, 15, 13, 7], [22, 18, 28, 17]]\n",
    "def high = [[12.4, 19.5, 15.1, 8.2], [24.3, 23.3, 30.1, 18.2]]\n",
    "def low = [[7.6, 10.5, 10.9, 5.8], [19.7, 12.7, 25.9, 15.8]]\n",
    "def color = [new Color(247, 150, 70), Color.orange, new Color(155, 187, 89)]\n",
    "plot << new CategoryBars(value: s1, color: color, seriesNames: [\"Solid\", \"Liquid\"])\n",
    "plot << new CategoryStems(value: high, base: low, color: color[2])\n",
    "plot << new CategoryPoints(value: high, outlineColor: color[2], size:12)\n",
    "plot << new CategoryPoints(value: low, outlineColor: color[2], size:12)"
   ]
  },
  {
   "cell_type": "code",
   "execution_count": 77,
   "metadata": {
    "collapsed": false
   },
   "outputs": [
    {
     "data": {
      "text/html": [
       "<html><div id='beakerChart76'></div><script>var j = {\"type\":\"CategoryPlot\",\"init_width\":640,\"init_height\":480,\"chart_title\":\"Multiple Y Axes Demo\",\"show_legend\":null,\"use_tool_tip\":true,\"legend_position\":{\"type\":\"LegendPosition\",\"position\":\"TOP_RIGHT\"},\"legend_layout\":\"VERTICAL\",\"custom_styles\":[],\"element_styles\":{},\"domain_axis_label\":null,\"y_label\":\"Price\",\"rangeAxes\":[{\"type\":\"YAxis\",\"label\":\"Price\",\"auto_range\":true,\"auto_range_includes_zero\":false,\"lower_margin\":0.0,\"upper_margin\":0.0,\"lower_bound\":0.0,\"upper_bound\":0.0,\"use_log\":false,\"log_base\":10.0},{\"type\":\"YAxis\",\"label\":\"Volume\",\"auto_range\":true,\"auto_range_includes_zero\":false,\"lower_margin\":0.0,\"upper_margin\":1.0,\"lower_bound\":0.0,\"upper_bound\":0.0,\"use_log\":false,\"log_base\":10.0}],\"x_lower_margin\":0.05,\"x_upper_margin\":0.05,\"y_auto_range\":true,\"y_auto_range_includes_zero\":false,\"y_lower_margin\":0.0,\"y_upper_margin\":0.0,\"y_lower_bound\":0.0,\"y_upper_bound\":0.0,\"log_y\":false,\"timezone\":null,\"crosshair\":null,\"omit_checkboxes\":false,\"categoryNames\":[\"Q1\",\"Q2\",\"Q3\",\"Q4\"],\"graphics_list\":[{\"type\":\"CategoryBars\",\"uid\":\"8dde5390-e0d0-4483-8e32-cbc917903007\",\"visible\":true,\"yAxis\":\"Volume\",\"hasClickAction\":false,\"showItemLabel\":true,\"center_series\":false,\"use_tool_tip\":true,\"value\":[[1500,2200,2500,4000]],\"color\":\"#FFFFAFAF\",\"base\":0.0,\"width\":0.6,\"outline_color\":null,\"fill\":null,\"outline\":false,\"labelPosition\":\"VALUE_INSIDE\"},{\"type\":\"CategoryLines\",\"uid\":\"8baab247-a26b-4f87-8001-6834f88e7164\",\"visible\":true,\"yAxis\":null,\"hasClickAction\":false,\"showItemLabel\":true,\"center_series\":false,\"use_tool_tip\":true,\"value\":[[5,2,3.5,4]],\"color\":\"#FF808080\",\"width\":1.5,\"style\":\"SOLID\"},{\"type\":\"CategoryPoints\",\"uid\":\"9cc115d7-b889-468d-9460-4ca810e3c6a6\",\"visible\":true,\"yAxis\":null,\"hasClickAction\":false,\"showItemLabel\":false,\"center_series\":false,\"use_tool_tip\":true,\"value\":[[5,2,3.5,4]],\"color\":\"#FF808080\",\"size\":6.0,\"shape\":\"DEFAULT\",\"fill\":null,\"outline_color\":null}],\"orientation\":\"VERTICAL\",\"category_margin\":0.2,\"categoryNamesLabelAngle\":0.0}; console.log('plot this:'); console.log(j); window.initPlotd(j,'beakerChart76');</script></html>"
      ]
     },
     "execution_count": 77,
     "metadata": {},
     "output_type": "execute_result"
    }
   ],
   "source": [
    "import com.twosigma.beaker.chart.categoryplot.CategoryPlot\n",
    "import com.twosigma.beaker.chart.categoryplot.plotitem.*\n",
    "import com.twosigma.beaker.chart.Color\n",
    "import com.twosigma.beaker.chart.xychart.plotitem.*\n",
    "\n",
    "def p = new CategoryPlot(title: \"Multiple Y Axes Demo\",\n",
    "                         yLabel: \"Price\",\n",
    "                         categoryNames: [\"Q1\", \"Q2\", \"Q3\", \"Q4\"])\n",
    "p << new YAxis(label: \"Volume\", upperMargin: 1)\n",
    "p << new CategoryBars(value: [[1500, 2200, 2500, 4000]], width: 0.6,\n",
    "                      color: Color.PINK, yAxis: \"Volume\", showItemLabel: true,\n",
    "                      labelPosition: LabelPositionType.VALUE_INSIDE)\n",
    "p << new CategoryLines(value: [[5, 2, 3.5, 4]], color: Color.GRAY,\n",
    "                       showItemLabel:true)\n",
    "p << new CategoryPoints(value:[[5, 2, 3.5, 4]], color:Color.GRAY)"
   ]
  },
  {
   "cell_type": "code",
   "execution_count": 78,
   "metadata": {
    "collapsed": false
   },
   "outputs": [
    {
     "data": {
      "text/html": [
       "<html><div id='beakerChart77'></div><script>var j = {\"type\":\"CategoryPlot\",\"init_width\":640,\"init_height\":480,\"chart_title\":null,\"show_legend\":null,\"use_tool_tip\":true,\"legend_position\":{\"type\":\"LegendPosition\",\"position\":\"TOP_RIGHT\"},\"legend_layout\":\"VERTICAL\",\"custom_styles\":[],\"element_styles\":{},\"domain_axis_label\":null,\"y_label\":\"\",\"rangeAxes\":[{\"type\":\"YAxis\",\"label\":\"\",\"auto_range\":true,\"auto_range_includes_zero\":false,\"lower_margin\":0.0,\"upper_margin\":0.0,\"lower_bound\":0.0,\"upper_bound\":0.0,\"use_log\":false,\"log_base\":10.0}],\"x_lower_margin\":0.05,\"x_upper_margin\":0.05,\"y_auto_range\":true,\"y_auto_range_includes_zero\":false,\"y_lower_margin\":0.0,\"y_upper_margin\":0.0,\"y_lower_bound\":0.0,\"y_upper_bound\":0.0,\"log_y\":false,\"timezone\":null,\"crosshair\":null,\"omit_checkboxes\":false,\"categoryNames\":[],\"graphics_list\":[{\"type\":\"CategoryStems\",\"uid\":\"69c9fbb0-5a9a-4b04-97e1-3a3facdc839f\",\"visible\":true,\"yAxis\":null,\"hasClickAction\":false,\"showItemLabel\":true,\"center_series\":false,\"use_tool_tip\":true,\"value\":[[-3,2,4],[4,5,8]],\"color\":null,\"base\":null,\"width\":10.0,\"style\":\"SOLID\"}],\"orientation\":\"VERTICAL\",\"category_margin\":0.2,\"categoryNamesLabelAngle\":0.0}; console.log('plot this:'); console.log(j); window.initPlotd(j,'beakerChart77');</script></html>"
      ]
     },
     "execution_count": 78,
     "metadata": {},
     "output_type": "execute_result"
    }
   ],
   "source": [
    "import com.twosigma.beaker.chart.categoryplot.CategoryPlot\n",
    "import com.twosigma.beaker.chart.categoryplot.plotitem.*\n",
    "import com.twosigma.beaker.chart.Color\n",
    "\n",
    "new CategoryPlot() << new CategoryStems(value:[[-3, 2, 4], [4, 5, 8]],\n",
    "                                        width: 10, showItemLabel: true)"
   ]
  },
  {
   "cell_type": "code",
   "execution_count": 79,
   "metadata": {
    "collapsed": false
   },
   "outputs": [
    {
     "data": {
      "text/html": [
       "<html><div id='beakerChart78'></div><script>var j = {\"type\":\"CategoryPlot\",\"init_width\":640,\"init_height\":480,\"chart_title\":null,\"show_legend\":null,\"use_tool_tip\":true,\"legend_position\":{\"type\":\"LegendPosition\",\"position\":\"TOP_RIGHT\"},\"legend_layout\":\"VERTICAL\",\"custom_styles\":[],\"element_styles\":{},\"domain_axis_label\":null,\"y_label\":\"\",\"rangeAxes\":[{\"type\":\"YAxis\",\"label\":\"\",\"auto_range\":true,\"auto_range_includes_zero\":false,\"lower_margin\":0.0,\"upper_margin\":0.0,\"lower_bound\":0.0,\"upper_bound\":0.0,\"use_log\":false,\"log_base\":10.0}],\"x_lower_margin\":0.05,\"x_upper_margin\":0.05,\"y_auto_range\":true,\"y_auto_range_includes_zero\":false,\"y_lower_margin\":0.0,\"y_upper_margin\":0.0,\"y_lower_bound\":0.0,\"y_upper_bound\":0.0,\"log_y\":false,\"timezone\":null,\"crosshair\":null,\"omit_checkboxes\":false,\"categoryNames\":[],\"graphics_list\":[{\"type\":\"CategoryBars\",\"uid\":\"b85ba437-4888-4d38-b036-d949cbd64615\",\"visible\":true,\"yAxis\":null,\"hasClickAction\":false,\"showItemLabel\":true,\"center_series\":false,\"use_tool_tip\":true,\"value\":[[-5,2,3],[1,3,5]],\"color\":null,\"base\":0.0,\"width\":null,\"outline_color\":null,\"fill\":null,\"outline\":false,\"labelPosition\":\"CENTER\"}],\"orientation\":\"VERTICAL\",\"category_margin\":0.2,\"categoryNamesLabelAngle\":0.0}; console.log('plot this:'); console.log(j); window.initPlotd(j,'beakerChart78');</script></html>"
      ]
     },
     "execution_count": 79,
     "metadata": {},
     "output_type": "execute_result"
    }
   ],
   "source": [
    "import com.twosigma.beaker.chart.categoryplot.CategoryPlot\n",
    "import com.twosigma.beaker.chart.categoryplot.plotitem.*\n",
    "import com.twosigma.beaker.chart.Color\n",
    "\n",
    "def bars = new CategoryBars(value: [[-5, 2, 3], [1, 3, 5]],\n",
    "                            showItemLabel: true)\n",
    "new CategoryPlot() << bars"
   ]
  },
  {
   "cell_type": "code",
   "execution_count": 80,
   "metadata": {
    "collapsed": false
   },
   "outputs": [
    {
     "data": {
      "text/html": [
       "<html><div id='beakerChart79'></div><script>var j = {\"type\":\"CategoryPlot\",\"init_width\":640,\"init_height\":480,\"chart_title\":null,\"show_legend\":null,\"use_tool_tip\":true,\"legend_position\":{\"type\":\"LegendPosition\",\"position\":\"TOP_RIGHT\"},\"legend_layout\":\"VERTICAL\",\"custom_styles\":[],\"element_styles\":{},\"domain_axis_label\":null,\"y_label\":\"\",\"rangeAxes\":[{\"type\":\"YAxis\",\"label\":\"\",\"auto_range\":true,\"auto_range_includes_zero\":false,\"lower_margin\":0.0,\"upper_margin\":0.0,\"lower_bound\":0.0,\"upper_bound\":0.0,\"use_log\":false,\"log_base\":10.0}],\"x_lower_margin\":0.05,\"x_upper_margin\":0.05,\"y_auto_range\":true,\"y_auto_range_includes_zero\":false,\"y_lower_margin\":0.0,\"y_upper_margin\":0.0,\"y_lower_bound\":0.0,\"y_upper_bound\":0.0,\"log_y\":false,\"timezone\":null,\"crosshair\":null,\"omit_checkboxes\":false,\"categoryNames\":[],\"graphics_list\":[{\"type\":\"CategoryBars\",\"uid\":\"1048a729-4565-4997-840c-8d562f64ce91\",\"visible\":true,\"yAxis\":null,\"hasClickAction\":false,\"showItemLabel\":true,\"center_series\":false,\"use_tool_tip\":true,\"value\":[[-5,2,3],[1,3,5]],\"color\":null,\"base\":0.0,\"width\":null,\"outline_color\":null,\"fill\":null,\"outline\":false,\"labelPosition\":\"BASE_OUTSIDE\"}],\"orientation\":\"VERTICAL\",\"category_margin\":0.2,\"categoryNamesLabelAngle\":0.0}; console.log('plot this:'); console.log(j); window.initPlotd(j,'beakerChart79');</script></html>"
      ]
     },
     "execution_count": 80,
     "metadata": {},
     "output_type": "execute_result"
    }
   ],
   "source": [
    "import com.twosigma.beaker.chart.categoryplot.CategoryPlot\n",
    "import com.twosigma.beaker.chart.categoryplot.plotitem.*\n",
    "import com.twosigma.beaker.chart.Color\n",
    "import com.twosigma.beaker.chart.xychart.plotitem.*\n",
    "\n",
    "def bars = new CategoryBars(value: [[-5, 2, 3], [1, 3, 5]],\n",
    "                            labelPosition: LabelPositionType.BASE_OUTSIDE,\n",
    "                            showItemLabel: true)\n",
    "new CategoryPlot() << bars"
   ]
  },
  {
   "cell_type": "code",
   "execution_count": 81,
   "metadata": {
    "collapsed": false
   },
   "outputs": [
    {
     "data": {
      "text/html": [
       "<html><div id='beakerChart80'></div><script>var j = {\"type\":\"CategoryPlot\",\"init_width\":640,\"init_height\":480,\"chart_title\":\"Move mouse cursor over bars\",\"show_legend\":null,\"use_tool_tip\":true,\"legend_position\":{\"type\":\"LegendPosition\",\"position\":\"TOP_RIGHT\"},\"legend_layout\":\"VERTICAL\",\"custom_styles\":[],\"element_styles\":{},\"domain_axis_label\":null,\"y_label\":\"\",\"rangeAxes\":[{\"type\":\"YAxis\",\"label\":\"\",\"auto_range\":true,\"auto_range_includes_zero\":false,\"lower_margin\":0.0,\"upper_margin\":0.0,\"lower_bound\":0.0,\"upper_bound\":0.0,\"use_log\":false,\"log_base\":10.0}],\"x_lower_margin\":0.05,\"x_upper_margin\":0.05,\"y_auto_range\":true,\"y_auto_range_includes_zero\":false,\"y_lower_margin\":0.0,\"y_upper_margin\":0.0,\"y_lower_bound\":0.0,\"y_upper_bound\":0.0,\"log_y\":false,\"timezone\":null,\"crosshair\":null,\"omit_checkboxes\":false,\"categoryNames\":[],\"graphics_list\":[{\"type\":\"CategoryBars\",\"uid\":\"c88d9204-110f-43da-94b7-98e9b254de8f\",\"visible\":true,\"yAxis\":null,\"hasClickAction\":false,\"showItemLabel\":false,\"center_series\":false,\"use_tool_tip\":false,\"value\":[[-5,2,3],[1,3,5]],\"color\":null,\"base\":0.0,\"width\":null,\"outline_color\":null,\"fill\":null,\"outline\":false,\"labelPosition\":\"CENTER\"}],\"orientation\":\"VERTICAL\",\"category_margin\":0.2,\"categoryNamesLabelAngle\":0.0}; console.log('plot this:'); console.log(j); window.initPlotd(j,'beakerChart80');</script></html>"
      ]
     },
     "execution_count": 81,
     "metadata": {},
     "output_type": "execute_result"
    }
   ],
   "source": [
    "import com.twosigma.beaker.chart.categoryplot.CategoryPlot\n",
    "import com.twosigma.beaker.chart.categoryplot.plotitem.*\n",
    "import com.twosigma.beaker.chart.Color\n",
    "\n",
    "def plot = new CategoryPlot(title: \"Move mouse cursor over bars\")\n",
    "def bars = new CategoryBars(value: [[-5, 2, 3], [1, 3, 5]], useToolTip: false)\n",
    "plot << bars"
   ]
  },
  {
   "cell_type": "code",
   "execution_count": 82,
   "metadata": {
    "collapsed": false
   },
   "outputs": [
    {
     "data": {
      "text/html": [
       "<html><div id='beakerChart81'></div><script>var j = {\"type\":\"CategoryPlot\",\"init_width\":640,\"init_height\":480,\"chart_title\":null,\"show_legend\":null,\"use_tool_tip\":true,\"legend_position\":{\"type\":\"LegendPosition\",\"position\":\"TOP_RIGHT\"},\"legend_layout\":\"VERTICAL\",\"custom_styles\":[],\"element_styles\":{},\"domain_axis_label\":null,\"y_label\":\"\",\"rangeAxes\":[{\"type\":\"YAxis\",\"label\":\"\",\"auto_range\":true,\"auto_range_includes_zero\":false,\"lower_margin\":0.0,\"upper_margin\":0.0,\"lower_bound\":0.0,\"upper_bound\":0.0,\"use_log\":false,\"log_base\":10.0}],\"x_lower_margin\":0.05,\"x_upper_margin\":0.05,\"y_auto_range\":true,\"y_auto_range_includes_zero\":false,\"y_lower_margin\":0.0,\"y_upper_margin\":0.0,\"y_lower_bound\":0.0,\"y_upper_bound\":0.0,\"log_y\":false,\"timezone\":null,\"crosshair\":null,\"omit_checkboxes\":false,\"categoryNames\":[],\"graphics_list\":[{\"type\":\"CategoryBars\",\"uid\":\"61167985-b18b-4161-b044-dcbe9d17d504\",\"visible\":true,\"yAxis\":null,\"hasClickAction\":false,\"showItemLabel\":false,\"center_series\":false,\"use_tool_tip\":true,\"value\":[[1,1],[2,3],[3,5]],\"color\":null,\"base\":0.0,\"width\":null,\"outline_color\":null,\"fill\":null,\"outline\":false,\"labelPosition\":\"CENTER\"}],\"orientation\":\"VERTICAL\",\"category_margin\":0.2,\"categoryNamesLabelAngle\":0.0}; console.log('plot this:'); console.log(j); window.initPlotd(j,'beakerChart81');</script></html>"
      ]
     },
     "execution_count": 82,
     "metadata": {},
     "output_type": "execute_result"
    }
   ],
   "source": [
    "import com.twosigma.beaker.chart.categoryplot.CategoryPlot\n",
    "import com.twosigma.beaker.chart.categoryplot.plotitem.*\n",
    "import com.twosigma.beaker.chart.Color\n",
    "\n",
    "def input = [[1,2,3],[1,3,5]].transpose() // == [[1,1], [2,3], [3,5]]\n",
    "def bars = new CategoryBars(value: input)\n",
    "new CategoryPlot() << bars"
   ]
  },
  {
   "cell_type": "code",
   "execution_count": 83,
   "metadata": {
    "collapsed": false
   },
   "outputs": [
    {
     "data": {
      "text/plain": [
       "[{closePrice_mean=88.59, highPrice_mean=88.91, lowPrice_mean=88.20, openPrice_mean=78.55}, {closePrice_mean=58.96, highPrice_mean=59.79, lowPrice_mean=58.11, openPrice_mean=58.93}, {closePrice_mean=39.09, highPrice_mean=39.96, lowPrice_mean=27.99, openPrice_mean=18.86}]"
      ]
     },
     "execution_count": 83,
     "metadata": {},
     "output_type": "execute_result"
    }
   ],
   "source": [
    "table = [[closePrice_mean:88.59, highPrice_mean:88.91, lowPrice_mean:88.20, openPrice_mean:78.55],\n",
    "         [closePrice_mean:58.96, highPrice_mean:59.79, lowPrice_mean:58.11, openPrice_mean:58.93],\n",
    "         [closePrice_mean:39.09, highPrice_mean:39.96, lowPrice_mean:27.99, openPrice_mean:18.86]]"
   ]
  },
  {
   "cell_type": "code",
   "execution_count": 84,
   "metadata": {
    "collapsed": false
   },
   "outputs": [
    {
     "data": {
      "text/html": [
       "<html><div id='beakerChart82'></div><script>var j = {\"type\":\"CategoryPlot\",\"init_width\":640,\"init_height\":480,\"chart_title\":null,\"show_legend\":null,\"use_tool_tip\":true,\"legend_position\":{\"type\":\"LegendPosition\",\"position\":\"TOP_RIGHT\"},\"legend_layout\":\"VERTICAL\",\"custom_styles\":[],\"element_styles\":{},\"domain_axis_label\":null,\"y_label\":\"\",\"rangeAxes\":[{\"type\":\"YAxis\",\"label\":\"\",\"auto_range\":true,\"auto_range_includes_zero\":false,\"lower_margin\":0.0,\"upper_margin\":0.0,\"lower_bound\":0.0,\"upper_bound\":0.0,\"use_log\":false,\"log_base\":10.0}],\"x_lower_margin\":0.05,\"x_upper_margin\":0.05,\"y_auto_range\":true,\"y_auto_range_includes_zero\":false,\"y_lower_margin\":0.0,\"y_upper_margin\":0.0,\"y_lower_bound\":0.0,\"y_upper_bound\":0.0,\"log_y\":false,\"timezone\":null,\"crosshair\":null,\"omit_checkboxes\":false,\"categoryNames\":[\"closePrice_mean\",\"highPrice_mean\",\"lowPrice_mean\",\"openPrice_mean\"],\"graphics_list\":[{\"type\":\"CategoryBars\",\"uid\":\"266304f6-09ba-457b-8c69-2cd1440a4eaf\",\"visible\":true,\"yAxis\":null,\"hasClickAction\":false,\"showItemLabel\":false,\"center_series\":false,\"use_tool_tip\":true,\"seriesNames\":[\"A\",\"B\",\"C\"],\"value\":[[88.59,88.91,88.20,78.55],[58.96,59.79,58.11,58.93],[39.09,39.96,27.99,18.86]],\"color\":null,\"base\":0.0,\"width\":null,\"outline_color\":null,\"fill\":null,\"outline\":false,\"labelPosition\":\"CENTER\"}],\"orientation\":\"VERTICAL\",\"category_margin\":0.2,\"categoryNamesLabelAngle\":0.0}; console.log('plot this:'); console.log(j); window.initPlotd(j,'beakerChart82');</script></html>"
      ]
     },
     "execution_count": 84,
     "metadata": {},
     "output_type": "execute_result"
    }
   ],
   "source": [
    "import com.twosigma.beaker.chart.categoryplot.CategoryPlot\n",
    "import com.twosigma.beaker.chart.categoryplot.plotitem.*\n",
    "import com.twosigma.beaker.chart.Color\n",
    "\n",
    "def v = table.collect { it.values().toList() }\n",
    "def p = new CategoryPlot(categoryNames: table[0].keySet().toList())\n",
    "p << new CategoryBars(value: v, seriesNames: [\"A\", \"B\", \"C\"])"
   ]
  },
  {
   "cell_type": "code",
   "execution_count": null,
   "metadata": {
    "collapsed": true
   },
   "outputs": [],
   "source": []
  }
 ],
 "metadata": {
  "anaconda-cloud": {},
  "kernelspec": {
   "display_name": "Groovy",
   "language": "groovy",
   "name": "groovy"
  },
  "language_info": {
   "codemirror_mode": "",
   "file_extension": ".groovy",
   "mimetype": "",
   "name": "Groovy",
   "nbconverter_exporter": "",
   "pygments_lexer": "",
   "version": "2.4.6"
  }
 },
 "nbformat": 4,
 "nbformat_minor": 1
}
